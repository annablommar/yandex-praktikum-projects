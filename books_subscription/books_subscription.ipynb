{
 "cells": [
  {
   "cell_type": "markdown",
   "metadata": {},
   "source": [
    "# Cервис для чтения книг по подписке"
   ]
  },
  {
   "cell_type": "markdown",
   "metadata": {},
   "source": [
    "**Цель работы:** проанализировать базу данных и сформулировать ценностное предложение для нового продукта.\n",
    "\n",
    "**Описание данных:** \n",
    "\n",
    "Таблица books:\n",
    "\n",
    "* book_id — идентификатор книги;\n",
    "* author_id — идентификатор автора;\n",
    "* title — название книги;\n",
    "* num_pages — количество страниц;\n",
    "* publication_date — дата публикации книги;\n",
    "* publisher_id — идентификатор издателя.\n",
    "\n",
    "Таблица authors:\n",
    "\n",
    "* author_id — идентификатор автора;\n",
    "* author — имя автора.\n",
    "\n",
    "Таблица publishers:\n",
    "\n",
    "* publisher_id — идентификатор издательства;\n",
    "* publisher — название издательства;\n",
    "\n",
    "Таблица ratings:\n",
    "\n",
    "* rating_id — идентификатор оценки;\n",
    "* book_id — идентификатор книги;\n",
    "* username — имя пользователя, оставившего оценку;\n",
    "* rating — оценка книги.\n",
    "\n",
    "Таблица reviews:\n",
    "\n",
    "* review_id — идентификатор обзора;\n",
    "* book_id — идентификатор книги;\n",
    "* username — имя автора обзора;\n",
    "* text — текст обзора.\n",
    "\n",
    "**План работы**\n",
    "\n",
    "* Исследование данных\n",
    "* Анализ данных:\n",
    " * Подсчет количества книг, вышедших после 1 января 2000 года\n",
    " * Подсчет количество обзоров и среднюю оценку для каждой книги\n",
    " * Определение издательства, которое выпустило наибольшее число книг толще 50 страниц \n",
    " * Определение автора с самой высокой средней оценкой книг, имеющих 50 и более оценок\n",
    " * Подсчет среднего количества обзоров от пользователей, которые поставили больше 50 оценок\n",
    " * Выводы\n",
    "\n"
   ]
  },
  {
   "cell_type": "markdown",
   "metadata": {},
   "source": [
    "## Исследованиe данных"
   ]
  },
  {
   "cell_type": "code",
   "execution_count": 1,
   "metadata": {},
   "outputs": [],
   "source": [
    "import pandas as pd\n",
    "from sqlalchemy import create_engine\n",
    "# устанавливаем параметры\n",
    "#db_config не указываем, чтобы не раcкрывать доступ к базе \n",
    "\n",
    "#connection_string = 'postgresql://{}:{}@{}:{}/{}'.format(db_config['user'],\n",
    " #db_config['pwd'],\n",
    " #db_config['host'],\n",
    " #db_config['port'],\n",
    " #db_config['db'])\n",
    "# сохраняем коннектор\n",
    "#engine = create_engine(connection_string, connect_args={'sslmode':'require'})\n"
   ]
  },
  {
   "cell_type": "code",
   "execution_count": 2,
   "metadata": {},
   "outputs": [
    {
     "name": "stdout",
     "output_type": "stream",
     "text": [
      "Первые 5 строк из датасета books :\n"
     ]
    },
    {
     "data": {
      "text/html": [
       "<div>\n",
       "<style scoped>\n",
       "    .dataframe tbody tr th:only-of-type {\n",
       "        vertical-align: middle;\n",
       "    }\n",
       "\n",
       "    .dataframe tbody tr th {\n",
       "        vertical-align: top;\n",
       "    }\n",
       "\n",
       "    .dataframe thead th {\n",
       "        text-align: right;\n",
       "    }\n",
       "</style>\n",
       "<table border=\"1\" class=\"dataframe\">\n",
       "  <thead>\n",
       "    <tr style=\"text-align: right;\">\n",
       "      <th></th>\n",
       "      <th>book_id</th>\n",
       "      <th>author_id</th>\n",
       "      <th>title</th>\n",
       "      <th>num_pages</th>\n",
       "      <th>publication_date</th>\n",
       "      <th>publisher_id</th>\n",
       "    </tr>\n",
       "  </thead>\n",
       "  <tbody>\n",
       "    <tr>\n",
       "      <th>0</th>\n",
       "      <td>1</td>\n",
       "      <td>546</td>\n",
       "      <td>'Salem's Lot</td>\n",
       "      <td>594</td>\n",
       "      <td>2005-11-01</td>\n",
       "      <td>93</td>\n",
       "    </tr>\n",
       "    <tr>\n",
       "      <th>1</th>\n",
       "      <td>2</td>\n",
       "      <td>465</td>\n",
       "      <td>1 000 Places to See Before You Die</td>\n",
       "      <td>992</td>\n",
       "      <td>2003-05-22</td>\n",
       "      <td>336</td>\n",
       "    </tr>\n",
       "    <tr>\n",
       "      <th>2</th>\n",
       "      <td>3</td>\n",
       "      <td>407</td>\n",
       "      <td>13 Little Blue Envelopes (Little Blue Envelope...</td>\n",
       "      <td>322</td>\n",
       "      <td>2010-12-21</td>\n",
       "      <td>135</td>\n",
       "    </tr>\n",
       "    <tr>\n",
       "      <th>3</th>\n",
       "      <td>4</td>\n",
       "      <td>82</td>\n",
       "      <td>1491: New Revelations of the Americas Before C...</td>\n",
       "      <td>541</td>\n",
       "      <td>2006-10-10</td>\n",
       "      <td>309</td>\n",
       "    </tr>\n",
       "    <tr>\n",
       "      <th>4</th>\n",
       "      <td>5</td>\n",
       "      <td>125</td>\n",
       "      <td>1776</td>\n",
       "      <td>386</td>\n",
       "      <td>2006-07-04</td>\n",
       "      <td>268</td>\n",
       "    </tr>\n",
       "  </tbody>\n",
       "</table>\n",
       "</div>"
      ],
      "text/plain": [
       "   book_id  author_id                                              title  \\\n",
       "0        1        546                                       'Salem's Lot   \n",
       "1        2        465                 1 000 Places to See Before You Die   \n",
       "2        3        407  13 Little Blue Envelopes (Little Blue Envelope...   \n",
       "3        4         82  1491: New Revelations of the Americas Before C...   \n",
       "4        5        125                                               1776   \n",
       "\n",
       "   num_pages publication_date  publisher_id  \n",
       "0        594       2005-11-01            93  \n",
       "1        992       2003-05-22           336  \n",
       "2        322       2010-12-21           135  \n",
       "3        541       2006-10-10           309  \n",
       "4        386       2006-07-04           268  "
      ]
     },
     "metadata": {},
     "output_type": "display_data"
    },
    {
     "name": "stdout",
     "output_type": "stream",
     "text": [
      "Первые 5 строк из датасета authors :\n"
     ]
    },
    {
     "data": {
      "text/html": [
       "<div>\n",
       "<style scoped>\n",
       "    .dataframe tbody tr th:only-of-type {\n",
       "        vertical-align: middle;\n",
       "    }\n",
       "\n",
       "    .dataframe tbody tr th {\n",
       "        vertical-align: top;\n",
       "    }\n",
       "\n",
       "    .dataframe thead th {\n",
       "        text-align: right;\n",
       "    }\n",
       "</style>\n",
       "<table border=\"1\" class=\"dataframe\">\n",
       "  <thead>\n",
       "    <tr style=\"text-align: right;\">\n",
       "      <th></th>\n",
       "      <th>author_id</th>\n",
       "      <th>author</th>\n",
       "    </tr>\n",
       "  </thead>\n",
       "  <tbody>\n",
       "    <tr>\n",
       "      <th>0</th>\n",
       "      <td>1</td>\n",
       "      <td>A.S. Byatt</td>\n",
       "    </tr>\n",
       "    <tr>\n",
       "      <th>1</th>\n",
       "      <td>2</td>\n",
       "      <td>Aesop/Laura Harris/Laura Gibbs</td>\n",
       "    </tr>\n",
       "    <tr>\n",
       "      <th>2</th>\n",
       "      <td>3</td>\n",
       "      <td>Agatha Christie</td>\n",
       "    </tr>\n",
       "    <tr>\n",
       "      <th>3</th>\n",
       "      <td>4</td>\n",
       "      <td>Alan Brennert</td>\n",
       "    </tr>\n",
       "    <tr>\n",
       "      <th>4</th>\n",
       "      <td>5</td>\n",
       "      <td>Alan Moore/David   Lloyd</td>\n",
       "    </tr>\n",
       "  </tbody>\n",
       "</table>\n",
       "</div>"
      ],
      "text/plain": [
       "   author_id                          author\n",
       "0          1                      A.S. Byatt\n",
       "1          2  Aesop/Laura Harris/Laura Gibbs\n",
       "2          3                 Agatha Christie\n",
       "3          4                   Alan Brennert\n",
       "4          5        Alan Moore/David   Lloyd"
      ]
     },
     "metadata": {},
     "output_type": "display_data"
    },
    {
     "name": "stdout",
     "output_type": "stream",
     "text": [
      "Первые 5 строк из датасета ratings :\n"
     ]
    },
    {
     "data": {
      "text/html": [
       "<div>\n",
       "<style scoped>\n",
       "    .dataframe tbody tr th:only-of-type {\n",
       "        vertical-align: middle;\n",
       "    }\n",
       "\n",
       "    .dataframe tbody tr th {\n",
       "        vertical-align: top;\n",
       "    }\n",
       "\n",
       "    .dataframe thead th {\n",
       "        text-align: right;\n",
       "    }\n",
       "</style>\n",
       "<table border=\"1\" class=\"dataframe\">\n",
       "  <thead>\n",
       "    <tr style=\"text-align: right;\">\n",
       "      <th></th>\n",
       "      <th>rating_id</th>\n",
       "      <th>book_id</th>\n",
       "      <th>username</th>\n",
       "      <th>rating</th>\n",
       "    </tr>\n",
       "  </thead>\n",
       "  <tbody>\n",
       "    <tr>\n",
       "      <th>0</th>\n",
       "      <td>1</td>\n",
       "      <td>1</td>\n",
       "      <td>ryanfranco</td>\n",
       "      <td>4</td>\n",
       "    </tr>\n",
       "    <tr>\n",
       "      <th>1</th>\n",
       "      <td>2</td>\n",
       "      <td>1</td>\n",
       "      <td>grantpatricia</td>\n",
       "      <td>2</td>\n",
       "    </tr>\n",
       "    <tr>\n",
       "      <th>2</th>\n",
       "      <td>3</td>\n",
       "      <td>1</td>\n",
       "      <td>brandtandrea</td>\n",
       "      <td>5</td>\n",
       "    </tr>\n",
       "    <tr>\n",
       "      <th>3</th>\n",
       "      <td>4</td>\n",
       "      <td>2</td>\n",
       "      <td>lorichen</td>\n",
       "      <td>3</td>\n",
       "    </tr>\n",
       "    <tr>\n",
       "      <th>4</th>\n",
       "      <td>5</td>\n",
       "      <td>2</td>\n",
       "      <td>mariokeller</td>\n",
       "      <td>2</td>\n",
       "    </tr>\n",
       "  </tbody>\n",
       "</table>\n",
       "</div>"
      ],
      "text/plain": [
       "   rating_id  book_id       username  rating\n",
       "0          1        1     ryanfranco       4\n",
       "1          2        1  grantpatricia       2\n",
       "2          3        1   brandtandrea       5\n",
       "3          4        2       lorichen       3\n",
       "4          5        2    mariokeller       2"
      ]
     },
     "metadata": {},
     "output_type": "display_data"
    },
    {
     "name": "stdout",
     "output_type": "stream",
     "text": [
      "Первые 5 строк из датасета publishers :\n"
     ]
    },
    {
     "data": {
      "text/html": [
       "<div>\n",
       "<style scoped>\n",
       "    .dataframe tbody tr th:only-of-type {\n",
       "        vertical-align: middle;\n",
       "    }\n",
       "\n",
       "    .dataframe tbody tr th {\n",
       "        vertical-align: top;\n",
       "    }\n",
       "\n",
       "    .dataframe thead th {\n",
       "        text-align: right;\n",
       "    }\n",
       "</style>\n",
       "<table border=\"1\" class=\"dataframe\">\n",
       "  <thead>\n",
       "    <tr style=\"text-align: right;\">\n",
       "      <th></th>\n",
       "      <th>publisher_id</th>\n",
       "      <th>publisher</th>\n",
       "    </tr>\n",
       "  </thead>\n",
       "  <tbody>\n",
       "    <tr>\n",
       "      <th>0</th>\n",
       "      <td>1</td>\n",
       "      <td>Ace</td>\n",
       "    </tr>\n",
       "    <tr>\n",
       "      <th>1</th>\n",
       "      <td>2</td>\n",
       "      <td>Ace Book</td>\n",
       "    </tr>\n",
       "    <tr>\n",
       "      <th>2</th>\n",
       "      <td>3</td>\n",
       "      <td>Ace Books</td>\n",
       "    </tr>\n",
       "    <tr>\n",
       "      <th>3</th>\n",
       "      <td>4</td>\n",
       "      <td>Ace Hardcover</td>\n",
       "    </tr>\n",
       "    <tr>\n",
       "      <th>4</th>\n",
       "      <td>5</td>\n",
       "      <td>Addison Wesley Publishing Company</td>\n",
       "    </tr>\n",
       "  </tbody>\n",
       "</table>\n",
       "</div>"
      ],
      "text/plain": [
       "   publisher_id                          publisher\n",
       "0             1                                Ace\n",
       "1             2                           Ace Book\n",
       "2             3                          Ace Books\n",
       "3             4                      Ace Hardcover\n",
       "4             5  Addison Wesley Publishing Company"
      ]
     },
     "metadata": {},
     "output_type": "display_data"
    },
    {
     "name": "stdout",
     "output_type": "stream",
     "text": [
      "Первые 5 строк из датасета reviews :\n"
     ]
    },
    {
     "data": {
      "text/html": [
       "<div>\n",
       "<style scoped>\n",
       "    .dataframe tbody tr th:only-of-type {\n",
       "        vertical-align: middle;\n",
       "    }\n",
       "\n",
       "    .dataframe tbody tr th {\n",
       "        vertical-align: top;\n",
       "    }\n",
       "\n",
       "    .dataframe thead th {\n",
       "        text-align: right;\n",
       "    }\n",
       "</style>\n",
       "<table border=\"1\" class=\"dataframe\">\n",
       "  <thead>\n",
       "    <tr style=\"text-align: right;\">\n",
       "      <th></th>\n",
       "      <th>review_id</th>\n",
       "      <th>book_id</th>\n",
       "      <th>username</th>\n",
       "      <th>text</th>\n",
       "    </tr>\n",
       "  </thead>\n",
       "  <tbody>\n",
       "    <tr>\n",
       "      <th>0</th>\n",
       "      <td>1</td>\n",
       "      <td>1</td>\n",
       "      <td>brandtandrea</td>\n",
       "      <td>Mention society tell send professor analysis. ...</td>\n",
       "    </tr>\n",
       "    <tr>\n",
       "      <th>1</th>\n",
       "      <td>2</td>\n",
       "      <td>1</td>\n",
       "      <td>ryanfranco</td>\n",
       "      <td>Foot glass pretty audience hit themselves. Amo...</td>\n",
       "    </tr>\n",
       "    <tr>\n",
       "      <th>2</th>\n",
       "      <td>3</td>\n",
       "      <td>2</td>\n",
       "      <td>lorichen</td>\n",
       "      <td>Listen treat keep worry. Miss husband tax but ...</td>\n",
       "    </tr>\n",
       "    <tr>\n",
       "      <th>3</th>\n",
       "      <td>4</td>\n",
       "      <td>3</td>\n",
       "      <td>johnsonamanda</td>\n",
       "      <td>Finally month interesting blue could nature cu...</td>\n",
       "    </tr>\n",
       "    <tr>\n",
       "      <th>4</th>\n",
       "      <td>5</td>\n",
       "      <td>3</td>\n",
       "      <td>scotttamara</td>\n",
       "      <td>Nation purpose heavy give wait song will. List...</td>\n",
       "    </tr>\n",
       "  </tbody>\n",
       "</table>\n",
       "</div>"
      ],
      "text/plain": [
       "   review_id  book_id       username  \\\n",
       "0          1        1   brandtandrea   \n",
       "1          2        1     ryanfranco   \n",
       "2          3        2       lorichen   \n",
       "3          4        3  johnsonamanda   \n",
       "4          5        3    scotttamara   \n",
       "\n",
       "                                                text  \n",
       "0  Mention society tell send professor analysis. ...  \n",
       "1  Foot glass pretty audience hit themselves. Amo...  \n",
       "2  Listen treat keep worry. Miss husband tax but ...  \n",
       "3  Finally month interesting blue could nature cu...  \n",
       "4  Nation purpose heavy give wait song will. List...  "
      ]
     },
     "metadata": {},
     "output_type": "display_data"
    }
   ],
   "source": [
    "table_list=['books', 'authors', 'ratings', 'publishers', 'reviews']\n",
    "\n",
    "\n",
    "def head(name):\n",
    "    \n",
    "    query = f'''SELECT * FROM {name} '''\n",
    "    print('Первые 5 строк из датасета', name, ':')\n",
    "    \n",
    "    name= pd.io.sql.read_sql(query, con = engine) \n",
    "\n",
    "    name.to_csv('log_raw.csv', index = False)\n",
    "\n",
    "    return name.head(5)\n",
    "\n",
    "\n",
    "for name in table_list:    \n",
    "    display(head(name))"
   ]
  },
  {
   "cell_type": "markdown",
   "metadata": {},
   "source": [
    "## Анализ данных"
   ]
  },
  {
   "cell_type": "markdown",
   "metadata": {},
   "source": [
    "Посчитаем сколько книг вышло после 1 января 2000 года:"
   ]
  },
  {
   "cell_type": "code",
   "execution_count": 3,
   "metadata": {},
   "outputs": [
    {
     "data": {
      "text/html": [
       "<div>\n",
       "<style scoped>\n",
       "    .dataframe tbody tr th:only-of-type {\n",
       "        vertical-align: middle;\n",
       "    }\n",
       "\n",
       "    .dataframe tbody tr th {\n",
       "        vertical-align: top;\n",
       "    }\n",
       "\n",
       "    .dataframe thead th {\n",
       "        text-align: right;\n",
       "    }\n",
       "</style>\n",
       "<table border=\"1\" class=\"dataframe\">\n",
       "  <thead>\n",
       "    <tr style=\"text-align: right;\">\n",
       "      <th></th>\n",
       "      <th>count</th>\n",
       "    </tr>\n",
       "  </thead>\n",
       "  <tbody>\n",
       "    <tr>\n",
       "      <th>0</th>\n",
       "      <td>821</td>\n",
       "    </tr>\n",
       "  </tbody>\n",
       "</table>\n",
       "</div>"
      ],
      "text/plain": [
       "   count\n",
       "0    821"
      ]
     },
     "execution_count": 3,
     "metadata": {},
     "output_type": "execute_result"
    }
   ],
   "source": [
    "query = '''\n",
    "           SELECT COUNT(book_id)\n",
    "           FROM books\n",
    "           WHERE publication_date >= '2000-01-01'\n",
    "        '''\n",
    "\n",
    "pd.io.sql.read_sql(query, con = engine) \n"
   ]
  },
  {
   "cell_type": "markdown",
   "metadata": {},
   "source": [
    "Вышло 821 книги после 1 января 2000 включительно"
   ]
  },
  {
   "cell_type": "markdown",
   "metadata": {},
   "source": [
    "Далее посчитаем количество обзоров и среднюю оценку для каждой книги:"
   ]
  },
  {
   "cell_type": "code",
   "execution_count": 4,
   "metadata": {},
   "outputs": [
    {
     "data": {
      "text/html": [
       "<div>\n",
       "<style scoped>\n",
       "    .dataframe tbody tr th:only-of-type {\n",
       "        vertical-align: middle;\n",
       "    }\n",
       "\n",
       "    .dataframe tbody tr th {\n",
       "        vertical-align: top;\n",
       "    }\n",
       "\n",
       "    .dataframe thead th {\n",
       "        text-align: right;\n",
       "    }\n",
       "</style>\n",
       "<table border=\"1\" class=\"dataframe\">\n",
       "  <thead>\n",
       "    <tr style=\"text-align: right;\">\n",
       "      <th></th>\n",
       "      <th>book_id</th>\n",
       "      <th>review_count</th>\n",
       "      <th>avg_rating</th>\n",
       "    </tr>\n",
       "  </thead>\n",
       "  <tbody>\n",
       "    <tr>\n",
       "      <th>0</th>\n",
       "      <td>1</td>\n",
       "      <td>2</td>\n",
       "      <td>3.67</td>\n",
       "    </tr>\n",
       "    <tr>\n",
       "      <th>1</th>\n",
       "      <td>2</td>\n",
       "      <td>1</td>\n",
       "      <td>2.50</td>\n",
       "    </tr>\n",
       "    <tr>\n",
       "      <th>2</th>\n",
       "      <td>3</td>\n",
       "      <td>3</td>\n",
       "      <td>4.67</td>\n",
       "    </tr>\n",
       "    <tr>\n",
       "      <th>3</th>\n",
       "      <td>4</td>\n",
       "      <td>2</td>\n",
       "      <td>4.50</td>\n",
       "    </tr>\n",
       "    <tr>\n",
       "      <th>4</th>\n",
       "      <td>5</td>\n",
       "      <td>4</td>\n",
       "      <td>4.00</td>\n",
       "    </tr>\n",
       "    <tr>\n",
       "      <th>...</th>\n",
       "      <td>...</td>\n",
       "      <td>...</td>\n",
       "      <td>...</td>\n",
       "    </tr>\n",
       "    <tr>\n",
       "      <th>995</th>\n",
       "      <td>996</td>\n",
       "      <td>3</td>\n",
       "      <td>3.67</td>\n",
       "    </tr>\n",
       "    <tr>\n",
       "      <th>996</th>\n",
       "      <td>997</td>\n",
       "      <td>3</td>\n",
       "      <td>3.40</td>\n",
       "    </tr>\n",
       "    <tr>\n",
       "      <th>997</th>\n",
       "      <td>998</td>\n",
       "      <td>4</td>\n",
       "      <td>3.20</td>\n",
       "    </tr>\n",
       "    <tr>\n",
       "      <th>998</th>\n",
       "      <td>999</td>\n",
       "      <td>2</td>\n",
       "      <td>4.50</td>\n",
       "    </tr>\n",
       "    <tr>\n",
       "      <th>999</th>\n",
       "      <td>1000</td>\n",
       "      <td>4</td>\n",
       "      <td>3.83</td>\n",
       "    </tr>\n",
       "  </tbody>\n",
       "</table>\n",
       "<p>1000 rows × 3 columns</p>\n",
       "</div>"
      ],
      "text/plain": [
       "     book_id  review_count  avg_rating\n",
       "0          1             2        3.67\n",
       "1          2             1        2.50\n",
       "2          3             3        4.67\n",
       "3          4             2        4.50\n",
       "4          5             4        4.00\n",
       "..       ...           ...         ...\n",
       "995      996             3        3.67\n",
       "996      997             3        3.40\n",
       "997      998             4        3.20\n",
       "998      999             2        4.50\n",
       "999     1000             4        3.83\n",
       "\n",
       "[1000 rows x 3 columns]"
      ]
     },
     "execution_count": 4,
     "metadata": {},
     "output_type": "execute_result"
    }
   ],
   "source": [
    "query = '''\n",
    "           SELECT books.book_id,\n",
    "                  COUNT(DISTINCT reviews.review_id) AS review_count,\n",
    "                  ROUND(AVG(ratings.rating),2) AS avg_rating\n",
    "                  \n",
    "           FROM books\n",
    "           LEFT JOIN ratings ON books.book_id=ratings.book_id\n",
    "           LEFT JOIN reviews ON ratings.book_id=reviews.book_id\n",
    "           GROUP BY books.book_id\n",
    "           \n",
    "           \n",
    "           \n",
    "        '''\n",
    "\n",
    "pd.io.sql.read_sql(query, con = engine) \n"
   ]
  },
  {
   "cell_type": "markdown",
   "metadata": {},
   "source": [
    "Определим издательство, которое выпустило наибольшее число книг толще 50 страниц:"
   ]
  },
  {
   "cell_type": "code",
   "execution_count": 5,
   "metadata": {},
   "outputs": [
    {
     "data": {
      "text/html": [
       "<div>\n",
       "<style scoped>\n",
       "    .dataframe tbody tr th:only-of-type {\n",
       "        vertical-align: middle;\n",
       "    }\n",
       "\n",
       "    .dataframe tbody tr th {\n",
       "        vertical-align: top;\n",
       "    }\n",
       "\n",
       "    .dataframe thead th {\n",
       "        text-align: right;\n",
       "    }\n",
       "</style>\n",
       "<table border=\"1\" class=\"dataframe\">\n",
       "  <thead>\n",
       "    <tr style=\"text-align: right;\">\n",
       "      <th></th>\n",
       "      <th>publisher</th>\n",
       "      <th>count_books</th>\n",
       "    </tr>\n",
       "  </thead>\n",
       "  <tbody>\n",
       "    <tr>\n",
       "      <th>0</th>\n",
       "      <td>Penguin Books</td>\n",
       "      <td>42</td>\n",
       "    </tr>\n",
       "  </tbody>\n",
       "</table>\n",
       "</div>"
      ],
      "text/plain": [
       "       publisher  count_books\n",
       "0  Penguin Books           42"
      ]
     },
     "execution_count": 5,
     "metadata": {},
     "output_type": "execute_result"
    }
   ],
   "source": [
    "query = '''\n",
    "           SELECT publishers.publisher,\n",
    "           COUNT(books.book_id) AS count_books\n",
    "                  \n",
    "           FROM publishers\n",
    "           LEFT JOIN books ON publishers.publisher_id=books.publisher_id\n",
    "           WHERE books.num_pages>50\n",
    "           GROUP BY publishers.publisher\n",
    "           ORDER BY count_books DESC\n",
    "           LIMIT 1\n",
    "        '''\n",
    "\n",
    "pd.io.sql.read_sql(query, con = engine) "
   ]
  },
  {
   "cell_type": "markdown",
   "metadata": {},
   "source": [
    "Penguin Books -издательство, выпустившее наибольшее число книг толще 50 страниц"
   ]
  },
  {
   "cell_type": "markdown",
   "metadata": {},
   "source": [
    "Далее определим автора с самой высокой средней оценкой книг, будем учитывать только книги с 50 и более оценками:"
   ]
  },
  {
   "cell_type": "code",
   "execution_count": 6,
   "metadata": {},
   "outputs": [
    {
     "data": {
      "text/html": [
       "<div>\n",
       "<style scoped>\n",
       "    .dataframe tbody tr th:only-of-type {\n",
       "        vertical-align: middle;\n",
       "    }\n",
       "\n",
       "    .dataframe tbody tr th {\n",
       "        vertical-align: top;\n",
       "    }\n",
       "\n",
       "    .dataframe thead th {\n",
       "        text-align: right;\n",
       "    }\n",
       "</style>\n",
       "<table border=\"1\" class=\"dataframe\">\n",
       "  <thead>\n",
       "    <tr style=\"text-align: right;\">\n",
       "      <th></th>\n",
       "      <th>author</th>\n",
       "      <th>avg_rating</th>\n",
       "    </tr>\n",
       "  </thead>\n",
       "  <tbody>\n",
       "    <tr>\n",
       "      <th>0</th>\n",
       "      <td>J.K. Rowling/Mary GrandPré</td>\n",
       "      <td>4.29</td>\n",
       "    </tr>\n",
       "  </tbody>\n",
       "</table>\n",
       "</div>"
      ],
      "text/plain": [
       "                       author  avg_rating\n",
       "0  J.K. Rowling/Mary GrandPré        4.29"
      ]
     },
     "execution_count": 6,
     "metadata": {},
     "output_type": "execute_result"
    }
   ],
   "source": [
    "query = '''\n",
    "           SELECT authors.author,\n",
    "                  ROUND(AVG(ratings.rating),2) AS avg_rating\n",
    "                  \n",
    "                  \n",
    "           FROM authors\n",
    "           LEFT JOIN books ON authors.author_id=books.author_id\n",
    "           LEFT JOIN ratings ON books.book_id=ratings.book_id\n",
    "           WHERE books.book_id IN (SELECT book_id\n",
    "                    FROM ratings\n",
    "                    GROUP BY book_id\n",
    "                    HAVING COUNT(rating_id) >= 50)\n",
    "           GROUP BY authors.author\n",
    "           ORDER BY avg_rating DESC\n",
    "           LIMIT 1\n",
    "        '''\n",
    "\n",
    "pd.io.sql.read_sql(query, con = engine) "
   ]
  },
  {
   "cell_type": "markdown",
   "metadata": {},
   "source": [
    "Далее посчитаем среднее количество обзоров от пользователей, которые поставили больше 50 оценок:"
   ]
  },
  {
   "cell_type": "code",
   "execution_count": 7,
   "metadata": {},
   "outputs": [
    {
     "data": {
      "text/html": [
       "<div>\n",
       "<style scoped>\n",
       "    .dataframe tbody tr th:only-of-type {\n",
       "        vertical-align: middle;\n",
       "    }\n",
       "\n",
       "    .dataframe tbody tr th {\n",
       "        vertical-align: top;\n",
       "    }\n",
       "\n",
       "    .dataframe thead th {\n",
       "        text-align: right;\n",
       "    }\n",
       "</style>\n",
       "<table border=\"1\" class=\"dataframe\">\n",
       "  <thead>\n",
       "    <tr style=\"text-align: right;\">\n",
       "      <th></th>\n",
       "      <th>round</th>\n",
       "    </tr>\n",
       "  </thead>\n",
       "  <tbody>\n",
       "    <tr>\n",
       "      <th>0</th>\n",
       "      <td>24.33</td>\n",
       "    </tr>\n",
       "  </tbody>\n",
       "</table>\n",
       "</div>"
      ],
      "text/plain": [
       "   round\n",
       "0  24.33"
      ]
     },
     "execution_count": 7,
     "metadata": {},
     "output_type": "execute_result"
    }
   ],
   "source": [
    "query = '''WITH \n",
    "\n",
    "table1 AS (SELECT username,\n",
    "          COUNT(rating)\n",
    "          FROM ratings\n",
    "          GROUP BY username\n",
    "          HAVING COUNT(rating)>50),\n",
    "\n",
    "table2 AS (SELECT username,\n",
    "          COUNT(review_id) AS count_review\n",
    "          FROM reviews\n",
    "          GROUP BY username)\n",
    "SELECT ROUND(AVG(count_review), 2)\n",
    "FROM table1\n",
    "LEFT JOIN table2 ON table1.username=table2.username\n",
    "'''\n",
    "pd.io.sql.read_sql(query, con = engine)   "
   ]
  },
  {
   "cell_type": "markdown",
   "metadata": {},
   "source": [
    "Cреднее количество обзоров от пользователей, которые поставили больше 50 оценок, равняется 24,33"
   ]
  },
  {
   "cell_type": "markdown",
   "metadata": {},
   "source": [
    "**Выводы:**\n",
    "* Вышло 821 книги после 1 января 2000 включительно\n",
    "* Penguin Books -издательство, выпустившее наибольшее число книг толще 50 страниц\n",
    "* С учетом книг с 50 и более оценками, автором с самой высокой средней оценкой книг является J.K. Rowling/Mary GrandPré\t\n",
    "* Cреднее количество обзоров от пользователей, которые поставили больше 50 оценок, равняется 24,33\n",
    "\n",
    "Таким образом наиболее популярными являются  книги от J.K. Rowling/Mary GrandPré и от издательства Penguin Books"
   ]
  },
  {
   "cell_type": "code",
   "execution_count": null,
   "metadata": {},
   "outputs": [],
   "source": []
  }
 ],
 "metadata": {
  "ExecuteTimeLog": [
   {
    "duration": 8733,
    "start_time": "2023-02-21T10:18:21.013Z"
   },
   {
    "duration": 69,
    "start_time": "2023-02-21T10:18:29.748Z"
   },
   {
    "duration": 83,
    "start_time": "2023-02-21T10:18:59.278Z"
   },
   {
    "duration": 5,
    "start_time": "2023-02-21T10:28:45.504Z"
   },
   {
    "duration": 8,
    "start_time": "2023-02-21T10:28:46.030Z"
   },
   {
    "duration": 4,
    "start_time": "2023-02-21T10:32:32.434Z"
   },
   {
    "duration": 8471,
    "start_time": "2023-02-21T10:35:34.137Z"
   },
   {
    "duration": 72,
    "start_time": "2023-02-21T10:35:42.610Z"
   },
   {
    "duration": 134,
    "start_time": "2023-02-21T10:35:42.684Z"
   },
   {
    "duration": 88,
    "start_time": "2023-02-21T10:36:10.833Z"
   },
   {
    "duration": 83,
    "start_time": "2023-02-21T10:36:18.561Z"
   },
   {
    "duration": 69,
    "start_time": "2023-02-21T10:36:59.405Z"
   },
   {
    "duration": 8618,
    "start_time": "2023-02-21T10:38:45.703Z"
   },
   {
    "duration": 117,
    "start_time": "2023-02-21T10:38:54.323Z"
   },
   {
    "duration": 65,
    "start_time": "2023-02-21T10:38:54.441Z"
   },
   {
    "duration": 67,
    "start_time": "2023-02-21T10:38:54.508Z"
   },
   {
    "duration": 65,
    "start_time": "2023-02-21T10:38:54.577Z"
   },
   {
    "duration": 69,
    "start_time": "2023-02-21T10:38:54.644Z"
   },
   {
    "duration": 95,
    "start_time": "2023-02-21T10:39:31.178Z"
   },
   {
    "duration": 77,
    "start_time": "2023-02-21T10:41:26.236Z"
   },
   {
    "duration": 8446,
    "start_time": "2023-02-21T10:41:52.725Z"
   },
   {
    "duration": 142,
    "start_time": "2023-02-21T10:42:01.173Z"
   },
   {
    "duration": 80,
    "start_time": "2023-02-21T10:42:01.316Z"
   },
   {
    "duration": 68,
    "start_time": "2023-02-21T10:42:01.398Z"
   },
   {
    "duration": 106,
    "start_time": "2023-02-21T10:42:01.468Z"
   },
   {
    "duration": 98,
    "start_time": "2023-02-21T10:42:01.576Z"
   },
   {
    "duration": 3,
    "start_time": "2023-02-21T11:17:55.224Z"
   },
   {
    "duration": 3,
    "start_time": "2023-02-21T11:18:11.933Z"
   },
   {
    "duration": 173,
    "start_time": "2023-02-21T11:18:12.473Z"
   },
   {
    "duration": 3,
    "start_time": "2023-02-21T11:22:17.283Z"
   },
   {
    "duration": 3,
    "start_time": "2023-02-21T11:22:38.969Z"
   },
   {
    "duration": 83,
    "start_time": "2023-02-21T11:22:39.634Z"
   },
   {
    "duration": 70,
    "start_time": "2023-02-21T11:22:44.815Z"
   },
   {
    "duration": 3,
    "start_time": "2023-02-21T11:23:04.025Z"
   },
   {
    "duration": 79,
    "start_time": "2023-02-21T11:23:04.565Z"
   },
   {
    "duration": 4,
    "start_time": "2023-02-21T11:23:29.368Z"
   },
   {
    "duration": 96,
    "start_time": "2023-02-21T11:23:30.417Z"
   },
   {
    "duration": 3,
    "start_time": "2023-02-21T11:40:10.514Z"
   },
   {
    "duration": 123,
    "start_time": "2023-02-21T11:40:28.736Z"
   },
   {
    "duration": 3,
    "start_time": "2023-02-21T11:44:03.359Z"
   },
   {
    "duration": 104,
    "start_time": "2023-02-21T11:44:07.118Z"
   },
   {
    "duration": 100,
    "start_time": "2023-02-21T11:44:21.900Z"
   },
   {
    "duration": 100,
    "start_time": "2023-02-21T11:44:30.717Z"
   },
   {
    "duration": 3,
    "start_time": "2023-02-21T11:44:51.035Z"
   },
   {
    "duration": 106,
    "start_time": "2023-02-21T11:44:51.932Z"
   },
   {
    "duration": 122,
    "start_time": "2023-02-21T11:45:10.782Z"
   },
   {
    "duration": 107,
    "start_time": "2023-02-21T11:45:50.217Z"
   },
   {
    "duration": 41,
    "start_time": "2023-02-21T12:49:43.398Z"
   },
   {
    "duration": 454,
    "start_time": "2023-02-21T12:53:33.050Z"
   },
   {
    "duration": 11,
    "start_time": "2023-02-21T12:55:22.499Z"
   },
   {
    "duration": 38,
    "start_time": "2023-02-21T12:55:36.377Z"
   },
   {
    "duration": 178,
    "start_time": "2023-02-21T12:55:40.049Z"
   },
   {
    "duration": 48,
    "start_time": "2023-02-21T12:55:44.984Z"
   },
   {
    "duration": 14,
    "start_time": "2023-02-21T12:56:06.030Z"
   },
   {
    "duration": 149,
    "start_time": "2023-02-21T13:00:35.283Z"
   },
   {
    "duration": 27,
    "start_time": "2023-02-21T13:00:57.684Z"
   },
   {
    "duration": 11,
    "start_time": "2023-02-21T13:01:09.406Z"
   },
   {
    "duration": 12,
    "start_time": "2023-02-21T13:02:07.100Z"
   },
   {
    "duration": 12,
    "start_time": "2023-02-21T13:02:20.894Z"
   },
   {
    "duration": 11,
    "start_time": "2023-02-21T13:02:30.328Z"
   },
   {
    "duration": 55,
    "start_time": "2023-02-21T13:02:40.447Z"
   },
   {
    "duration": 11,
    "start_time": "2023-02-21T13:02:51.632Z"
   },
   {
    "duration": 16,
    "start_time": "2023-02-21T13:07:38.932Z"
   },
   {
    "duration": 154,
    "start_time": "2023-02-21T13:11:05.673Z"
   },
   {
    "duration": 39,
    "start_time": "2023-02-21T13:15:39.785Z"
   },
   {
    "duration": 10,
    "start_time": "2023-02-21T13:20:03.999Z"
   },
   {
    "duration": 14,
    "start_time": "2023-02-21T13:20:33.796Z"
   },
   {
    "duration": 13,
    "start_time": "2023-02-21T13:20:50.104Z"
   },
   {
    "duration": 14,
    "start_time": "2023-02-21T13:21:08.805Z"
   },
   {
    "duration": 15,
    "start_time": "2023-02-21T13:21:16.204Z"
   },
   {
    "duration": 191,
    "start_time": "2023-02-21T13:22:33.883Z"
   },
   {
    "duration": 155,
    "start_time": "2023-02-21T13:22:52.181Z"
   },
   {
    "duration": 12042,
    "start_time": "2023-02-21T13:23:19.783Z"
   },
   {
    "duration": 233,
    "start_time": "2023-02-21T13:23:31.828Z"
   },
   {
    "duration": 118,
    "start_time": "2023-02-21T13:23:32.065Z"
   },
   {
    "duration": 102,
    "start_time": "2023-02-21T13:23:32.189Z"
   },
   {
    "duration": 149,
    "start_time": "2023-02-21T13:23:32.296Z"
   },
   {
    "duration": 147,
    "start_time": "2023-02-21T13:23:32.447Z"
   },
   {
    "duration": 12,
    "start_time": "2023-02-21T13:23:32.596Z"
   },
   {
    "duration": 206,
    "start_time": "2023-02-21T13:23:32.610Z"
   },
   {
    "duration": 0,
    "start_time": "2023-02-21T13:23:32.819Z"
   },
   {
    "duration": 45,
    "start_time": "2023-02-21T13:24:21.290Z"
   },
   {
    "duration": 27,
    "start_time": "2023-02-21T13:25:21.724Z"
   },
   {
    "duration": 170,
    "start_time": "2023-02-21T13:28:58.937Z"
   },
   {
    "duration": 267,
    "start_time": "2023-02-21T13:29:17.777Z"
   },
   {
    "duration": 60,
    "start_time": "2023-02-21T13:31:33.347Z"
   },
   {
    "duration": 58,
    "start_time": "2023-02-21T13:36:57.265Z"
   },
   {
    "duration": 37,
    "start_time": "2023-02-21T13:40:08.834Z"
   },
   {
    "duration": 29,
    "start_time": "2023-02-21T13:42:23.705Z"
   },
   {
    "duration": 33,
    "start_time": "2023-02-21T13:44:05.599Z"
   },
   {
    "duration": 33,
    "start_time": "2023-02-21T13:44:25.809Z"
   },
   {
    "duration": 28,
    "start_time": "2023-02-21T14:03:27.941Z"
   },
   {
    "duration": 134,
    "start_time": "2023-02-21T14:03:46.143Z"
   },
   {
    "duration": 35,
    "start_time": "2023-02-21T14:04:44.929Z"
   },
   {
    "duration": 174,
    "start_time": "2023-02-21T14:04:51.451Z"
   },
   {
    "duration": 14,
    "start_time": "2023-02-21T14:05:03.618Z"
   },
   {
    "duration": 20,
    "start_time": "2023-02-21T14:08:57.111Z"
   },
   {
    "duration": 54,
    "start_time": "2023-02-21T14:09:35.850Z"
   },
   {
    "duration": 17,
    "start_time": "2023-02-21T14:09:41.413Z"
   },
   {
    "duration": 111,
    "start_time": "2023-02-21T14:09:54.713Z"
   },
   {
    "duration": 36,
    "start_time": "2023-02-21T14:09:58.084Z"
   },
   {
    "duration": 16,
    "start_time": "2023-02-21T14:14:35.905Z"
   },
   {
    "duration": 141,
    "start_time": "2023-02-21T14:15:25.501Z"
   },
   {
    "duration": 19,
    "start_time": "2023-02-21T14:15:30.592Z"
   },
   {
    "duration": 20,
    "start_time": "2023-02-21T14:16:00.999Z"
   },
   {
    "duration": 31,
    "start_time": "2023-02-21T14:16:17.180Z"
   },
   {
    "duration": 99,
    "start_time": "2023-02-21T14:17:58.552Z"
   },
   {
    "duration": 158,
    "start_time": "2023-02-21T14:34:09.328Z"
   },
   {
    "duration": 131,
    "start_time": "2023-02-21T14:34:58.858Z"
   },
   {
    "duration": 137,
    "start_time": "2023-02-21T14:35:24.073Z"
   },
   {
    "duration": 23,
    "start_time": "2023-02-21T14:35:36.475Z"
   },
   {
    "duration": 241,
    "start_time": "2023-02-21T14:37:31.875Z"
   },
   {
    "duration": 37,
    "start_time": "2023-02-21T14:37:40.762Z"
   },
   {
    "duration": 12,
    "start_time": "2023-02-21T14:41:33.279Z"
   },
   {
    "duration": 19,
    "start_time": "2023-02-21T14:43:22.782Z"
   },
   {
    "duration": 19,
    "start_time": "2023-02-21T14:43:52.699Z"
   },
   {
    "duration": 47,
    "start_time": "2023-02-21T14:45:37.852Z"
   },
   {
    "duration": 16,
    "start_time": "2023-02-21T14:47:40.434Z"
   },
   {
    "duration": 21,
    "start_time": "2023-02-21T14:48:03.772Z"
   },
   {
    "duration": 17,
    "start_time": "2023-02-21T14:49:16.582Z"
   },
   {
    "duration": 44,
    "start_time": "2023-02-21T16:46:18.416Z"
   },
   {
    "duration": 6495,
    "start_time": "2023-02-21T16:46:24.057Z"
   },
   {
    "duration": 414,
    "start_time": "2023-02-21T16:46:30.554Z"
   },
   {
    "duration": 132,
    "start_time": "2023-02-21T16:46:30.969Z"
   },
   {
    "duration": 130,
    "start_time": "2023-02-21T16:46:31.103Z"
   },
   {
    "duration": 280,
    "start_time": "2023-02-21T16:46:31.235Z"
   },
   {
    "duration": 163,
    "start_time": "2023-02-21T16:46:31.516Z"
   },
   {
    "duration": 76,
    "start_time": "2023-02-21T16:46:31.681Z"
   },
   {
    "duration": 94,
    "start_time": "2023-02-21T16:46:31.758Z"
   },
   {
    "duration": 82,
    "start_time": "2023-02-21T16:46:31.854Z"
   },
   {
    "duration": 78,
    "start_time": "2023-02-21T16:46:31.938Z"
   },
   {
    "duration": 229,
    "start_time": "2023-02-21T16:46:32.018Z"
   },
   {
    "duration": 86,
    "start_time": "2023-02-21T16:47:01.622Z"
   },
   {
    "duration": 79,
    "start_time": "2023-02-21T16:47:17.016Z"
   },
   {
    "duration": 162,
    "start_time": "2023-02-21T16:48:22.727Z"
   },
   {
    "duration": 138,
    "start_time": "2023-02-21T16:48:31.923Z"
   },
   {
    "duration": 133,
    "start_time": "2023-02-21T16:48:47.165Z"
   },
   {
    "duration": 173,
    "start_time": "2023-02-21T16:49:11.545Z"
   },
   {
    "duration": 150,
    "start_time": "2023-02-21T16:49:24.999Z"
   },
   {
    "duration": 128,
    "start_time": "2023-02-21T16:51:20.686Z"
   },
   {
    "duration": 129,
    "start_time": "2023-02-21T16:51:56.240Z"
   },
   {
    "duration": 48,
    "start_time": "2023-02-21T21:12:46.576Z"
   },
   {
    "duration": 8688,
    "start_time": "2023-02-21T21:12:52.301Z"
   },
   {
    "duration": 127,
    "start_time": "2023-02-21T21:13:00.991Z"
   },
   {
    "duration": 76,
    "start_time": "2023-02-21T21:13:01.120Z"
   },
   {
    "duration": 65,
    "start_time": "2023-02-21T21:13:01.198Z"
   },
   {
    "duration": 135,
    "start_time": "2023-02-21T21:13:01.265Z"
   },
   {
    "duration": 108,
    "start_time": "2023-02-21T21:13:01.402Z"
   },
   {
    "duration": 10,
    "start_time": "2023-02-21T21:13:01.512Z"
   },
   {
    "duration": 45,
    "start_time": "2023-02-21T21:13:01.524Z"
   },
   {
    "duration": 12,
    "start_time": "2023-02-21T21:13:01.571Z"
   },
   {
    "duration": 24,
    "start_time": "2023-02-21T21:13:01.585Z"
   },
   {
    "duration": 153,
    "start_time": "2023-02-21T21:13:01.611Z"
   },
   {
    "duration": 100,
    "start_time": "2023-02-21T21:16:53.453Z"
   },
   {
    "duration": 15,
    "start_time": "2023-02-21T21:17:13.019Z"
   },
   {
    "duration": 14,
    "start_time": "2023-02-21T21:19:08.253Z"
   },
   {
    "duration": 20,
    "start_time": "2023-02-21T21:19:20.381Z"
   },
   {
    "duration": 16,
    "start_time": "2023-02-21T21:19:25.968Z"
   },
   {
    "duration": 96,
    "start_time": "2023-02-21T21:20:14.302Z"
   },
   {
    "duration": 17,
    "start_time": "2023-02-21T21:21:13.105Z"
   },
   {
    "duration": 21,
    "start_time": "2023-02-21T21:22:03.768Z"
   },
   {
    "duration": 15,
    "start_time": "2023-02-21T21:25:29.713Z"
   },
   {
    "duration": 14,
    "start_time": "2023-02-21T21:25:34.051Z"
   },
   {
    "duration": 15,
    "start_time": "2023-02-21T21:25:36.050Z"
   },
   {
    "duration": 92,
    "start_time": "2023-02-21T21:26:40.459Z"
   },
   {
    "duration": 92,
    "start_time": "2023-02-21T21:26:56.832Z"
   },
   {
    "duration": 102,
    "start_time": "2023-02-21T21:27:26.574Z"
   },
   {
    "duration": 96,
    "start_time": "2023-02-21T21:27:32.315Z"
   },
   {
    "duration": 95,
    "start_time": "2023-02-21T21:27:50.868Z"
   },
   {
    "duration": 15,
    "start_time": "2023-02-21T21:28:09.976Z"
   },
   {
    "duration": 15,
    "start_time": "2023-02-21T21:28:22.475Z"
   },
   {
    "duration": 76,
    "start_time": "2023-02-21T21:33:33.344Z"
   },
   {
    "duration": 85,
    "start_time": "2023-02-21T21:33:55.565Z"
   },
   {
    "duration": 74,
    "start_time": "2023-02-21T21:34:13.907Z"
   },
   {
    "duration": 110,
    "start_time": "2023-02-21T21:34:53.528Z"
   },
   {
    "duration": 252,
    "start_time": "2023-02-21T21:35:03.677Z"
   },
   {
    "duration": 95,
    "start_time": "2023-02-21T21:35:20.373Z"
   },
   {
    "duration": 118,
    "start_time": "2023-02-21T21:35:33.029Z"
   },
   {
    "duration": 98,
    "start_time": "2023-02-21T21:35:39.671Z"
   },
   {
    "duration": 92,
    "start_time": "2023-02-21T21:35:51.932Z"
   },
   {
    "duration": 94,
    "start_time": "2023-02-21T21:37:41.081Z"
   },
   {
    "duration": 14,
    "start_time": "2023-02-21T21:38:22.816Z"
   },
   {
    "duration": 12,
    "start_time": "2023-02-21T21:39:06.759Z"
   },
   {
    "duration": 15,
    "start_time": "2023-02-21T21:39:20.079Z"
   },
   {
    "duration": 97,
    "start_time": "2023-02-21T21:43:30.644Z"
   },
   {
    "duration": 94,
    "start_time": "2023-02-21T21:43:44.089Z"
   },
   {
    "duration": 103,
    "start_time": "2023-02-21T21:43:58.060Z"
   },
   {
    "duration": 89,
    "start_time": "2023-02-21T21:44:11.860Z"
   },
   {
    "duration": 116,
    "start_time": "2023-02-21T21:44:26.810Z"
   },
   {
    "duration": 14,
    "start_time": "2023-02-21T21:45:31.579Z"
   },
   {
    "duration": 13,
    "start_time": "2023-02-21T21:45:37.711Z"
   },
   {
    "duration": 87,
    "start_time": "2023-02-21T21:48:02.963Z"
   },
   {
    "duration": 110,
    "start_time": "2023-02-21T21:49:13.663Z"
   },
   {
    "duration": 145,
    "start_time": "2023-02-21T21:50:14.763Z"
   },
   {
    "duration": 94,
    "start_time": "2023-02-21T21:50:32.726Z"
   },
   {
    "duration": 92,
    "start_time": "2023-02-21T21:50:41.394Z"
   },
   {
    "duration": 101,
    "start_time": "2023-02-21T21:50:47.639Z"
   },
   {
    "duration": 101,
    "start_time": "2023-02-21T21:51:09.096Z"
   },
   {
    "duration": 102,
    "start_time": "2023-02-21T21:51:44.240Z"
   },
   {
    "duration": 113,
    "start_time": "2023-02-21T21:52:40.763Z"
   },
   {
    "duration": 51,
    "start_time": "2023-02-22T08:00:13.102Z"
   },
   {
    "duration": 9294,
    "start_time": "2023-02-22T08:00:19.116Z"
   },
   {
    "duration": 336,
    "start_time": "2023-02-22T08:00:28.412Z"
   },
   {
    "duration": 127,
    "start_time": "2023-02-22T08:00:28.749Z"
   },
   {
    "duration": 116,
    "start_time": "2023-02-22T08:00:28.878Z"
   },
   {
    "duration": 162,
    "start_time": "2023-02-22T08:00:28.996Z"
   },
   {
    "duration": 169,
    "start_time": "2023-02-22T08:00:29.160Z"
   },
   {
    "duration": 74,
    "start_time": "2023-02-22T08:00:29.331Z"
   },
   {
    "duration": 90,
    "start_time": "2023-02-22T08:00:29.408Z"
   },
   {
    "duration": 71,
    "start_time": "2023-02-22T08:00:29.500Z"
   },
   {
    "duration": 74,
    "start_time": "2023-02-22T08:00:29.573Z"
   },
   {
    "duration": 201,
    "start_time": "2023-02-22T08:00:29.649Z"
   },
   {
    "duration": 0,
    "start_time": "2023-02-22T08:00:29.851Z"
   },
   {
    "duration": 146,
    "start_time": "2023-02-22T08:00:54.377Z"
   },
   {
    "duration": 143,
    "start_time": "2023-02-22T08:01:14.103Z"
   },
   {
    "duration": 74,
    "start_time": "2023-02-22T08:01:34.769Z"
   },
   {
    "duration": 75,
    "start_time": "2023-02-22T08:02:04.624Z"
   },
   {
    "duration": 171,
    "start_time": "2023-02-22T08:02:42.760Z"
   },
   {
    "duration": 73,
    "start_time": "2023-02-22T08:05:59.328Z"
   },
   {
    "duration": 76,
    "start_time": "2023-02-22T08:13:51.122Z"
   },
   {
    "duration": 72,
    "start_time": "2023-02-22T08:14:55.465Z"
   },
   {
    "duration": 228,
    "start_time": "2023-02-22T08:16:57.401Z"
   },
   {
    "duration": 199,
    "start_time": "2023-02-22T08:17:14.569Z"
   },
   {
    "duration": 156,
    "start_time": "2023-02-22T08:17:37.333Z"
   },
   {
    "duration": 76,
    "start_time": "2023-02-22T08:17:52.753Z"
   },
   {
    "duration": 97,
    "start_time": "2023-02-22T08:26:17.372Z"
   },
   {
    "duration": 85,
    "start_time": "2023-02-22T08:26:41.165Z"
   },
   {
    "duration": 97,
    "start_time": "2023-02-22T08:26:47.932Z"
   },
   {
    "duration": 105,
    "start_time": "2023-02-22T08:27:27.140Z"
   },
   {
    "duration": 92,
    "start_time": "2023-02-22T08:27:39.571Z"
   },
   {
    "duration": 200,
    "start_time": "2023-02-22T08:49:15.147Z"
   },
   {
    "duration": 272,
    "start_time": "2023-02-22T08:52:25.426Z"
   },
   {
    "duration": 9,
    "start_time": "2023-02-22T08:54:51.138Z"
   },
   {
    "duration": 1092,
    "start_time": "2023-02-22T08:57:01.991Z"
   },
   {
    "duration": 905,
    "start_time": "2023-02-22T08:57:52.255Z"
   },
   {
    "duration": 904,
    "start_time": "2023-02-22T09:00:00.048Z"
   },
   {
    "duration": 1200,
    "start_time": "2023-02-22T09:05:03.118Z"
   },
   {
    "duration": 772,
    "start_time": "2023-02-22T09:16:44.729Z"
   },
   {
    "duration": 6078,
    "start_time": "2023-02-22T09:22:38.159Z"
   },
   {
    "duration": 925,
    "start_time": "2023-02-22T09:22:44.240Z"
   },
   {
    "duration": 69,
    "start_time": "2023-02-22T09:22:45.166Z"
   },
   {
    "duration": 87,
    "start_time": "2023-02-22T09:22:45.237Z"
   },
   {
    "duration": 74,
    "start_time": "2023-02-22T09:22:45.325Z"
   },
   {
    "duration": 74,
    "start_time": "2023-02-22T09:22:45.401Z"
   },
   {
    "duration": 72,
    "start_time": "2023-02-22T09:22:45.476Z"
   },
   {
    "duration": 11820,
    "start_time": "2023-02-22T10:23:09.868Z"
   },
   {
    "duration": 651,
    "start_time": "2023-02-22T10:23:21.690Z"
   },
   {
    "duration": 11,
    "start_time": "2023-02-22T10:23:22.342Z"
   },
   {
    "duration": 26,
    "start_time": "2023-02-22T10:23:22.355Z"
   },
   {
    "duration": 11,
    "start_time": "2023-02-22T10:23:22.383Z"
   },
   {
    "duration": 13,
    "start_time": "2023-02-22T10:23:22.395Z"
   },
   {
    "duration": 11,
    "start_time": "2023-02-22T10:23:22.410Z"
   },
   {
    "duration": 16,
    "start_time": "2023-02-22T10:24:02.487Z"
   },
   {
    "duration": 14,
    "start_time": "2023-02-22T10:24:07.727Z"
   }
  ],
  "kernelspec": {
   "display_name": "Python 3 (ipykernel)",
   "language": "python",
   "name": "python3"
  },
  "language_info": {
   "codemirror_mode": {
    "name": "ipython",
    "version": 3
   },
   "file_extension": ".py",
   "mimetype": "text/x-python",
   "name": "python",
   "nbconvert_exporter": "python",
   "pygments_lexer": "ipython3",
   "version": "3.9.13"
  },
  "toc": {
   "base_numbering": 1,
   "nav_menu": {},
   "number_sections": false,
   "sideBar": true,
   "skip_h1_title": false,
   "title_cell": "Table of Contents",
   "title_sidebar": "Contents",
   "toc_cell": false,
   "toc_position": {},
   "toc_section_display": true,
   "toc_window_display": true
  }
 },
 "nbformat": 4,
 "nbformat_minor": 2
}
