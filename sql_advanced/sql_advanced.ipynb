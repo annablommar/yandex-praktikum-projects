{
 "cells": [
  {
   "cell_type": "markdown",
   "id": "76792098",
   "metadata": {},
   "source": [
    "# Анализ базы данных StackOverflow "
   ]
  },
  {
   "cell_type": "markdown",
   "id": "defbab79",
   "metadata": {},
   "source": [
    "**Цель:** применить продвинутый SQL для анализа базы данных StackOverflow."
   ]
  },
  {
   "cell_type": "markdown",
   "id": "7673d0c1",
   "metadata": {},
   "source": [
    "**Описание данных:**\n",
    "\n",
    "Таблица stackoverflow.badges. Хранит информацию о значках, которые присуждаются за разные достижения. Например, пользователь, правильно ответивший на большое количество вопросов про PostgreSQL, может получить значок postgresql. \n",
    "* id - Идентификатор значка, первичный ключ таблицы\n",
    "* name - Название значка\n",
    "* user_id - Идентификатор пользователя, которому присвоили значок, внешний ключ, отсылающий к таблице users\n",
    "* creation_date\t- Дата присвоения значка\n",
    "\n",
    "Таблица stackoverflow.post_types. Содержит информацию о типе постов. Их может быть два: Question — пост с вопросом, Answer — пост с ответом.\n",
    "* id - Идентификатор поста, первичный ключ таблицы\n",
    "* type\t- Тип поста\n",
    "\n",
    "Таблица stackoverflow.posts. Содержит информацию о постах.\n",
    "* id\t- Идентификатор поста, первичный ключ таблицы\n",
    "* title\t- Заголовок поста\n",
    "* creation_date\t- Дата создания поста\n",
    "* favorites_count\t- Число, которое показывает, сколько раз пост добавили в «Закладки»\n",
    "* last_activity_date - Дата последнего действия в посте, например комментария\n",
    "* last_edit_date\t- Дата последнего изменения поста\n",
    "* user_id\t- Идентификатор пользователя, который создал пост, внешний ключ к таблице users\n",
    "* parent_id\t- Если пост написали в ответ на другую публикацию, в это поле попадёт идентификатор поста с вопросом\n",
    "* post_type_id\t- Идентификатор типа поста, внешний ключ к таблице post_types\n",
    "* score\t- Количество очков, которое набрал пост\n",
    "* views_count\t- Количество просмотров\n",
    "\n",
    "Таблица stackoverflow.users. Содержит информацию о пользователях.\n",
    "* id\t- Идентификатор пользователя, первичный ключ таблицы\n",
    "* creation_date\t- Дата регистрации пользователя\n",
    "* display_name\t- Имя пользователя\n",
    "* last_access_date\t- Дата последнего входа\n",
    "* location\t- Местоположение\n",
    "* reputation\t- Очки репутации, которые получают за хорошие вопросы и полезные ответы\n",
    "* views\t- Число просмотров профиля пользователя\n",
    "\n",
    "Таблица stackoverflow.vote_types. Содержит информацию о типах голосов. Голос — это метка, которую пользователи ставят посту. Типов бывает несколько: \n",
    "* UpMod — такую отметку получают посты с вопросами или ответами, которые пользователи посчитали уместными и полезными.\n",
    "* DownMod — такую отметку получают посты, которые показались пользователям наименее полезными.\n",
    "* Close — такую метку ставят опытные пользователи сервиса, если заданный вопрос нужно доработать или он вообще не подходит для платформы.\n",
    "* Offensive — такую метку могут поставить, если пользователь ответил на вопрос в грубой и оскорбительной манере, например, указав на неопытность автора поста.\n",
    "* Spam — такую метку ставят в случае, если пост пользователя выглядит откровенной рекламой.\n",
    "\n",
    "* id\t- Идентификатор типа голоса, первичный ключ\n",
    "* name\t- Название метки\n",
    "\n",
    "Таблица stackoverflow.votes. Содержит информацию о голосах за посты. \n",
    "* id\t- Идентификатор голоса, первичный ключ\n",
    "* post_id\t- Идентификатор поста, внешний ключ к таблице posts\n",
    "* user_id\t- Идентификатор пользователя, который поставил посту голос, внешний ключ к таблице users\n",
    "* bounty_amount\t- Сумма вознаграждения, которое назначают, чтобы привлечь внимание к посту\n",
    "* vote_type_id\t- Идентификатор типа голоса, внешний ключ к таблице vote_types\n",
    "* creation_date\t- Дата назначения голоса\n",
    "\n"
   ]
  },
  {
   "cell_type": "code",
   "execution_count": 4,
   "id": "982ac678",
   "metadata": {},
   "outputs": [],
   "source": [
    "import pandas as pd"
   ]
  },
  {
   "cell_type": "markdown",
   "id": "d5c2981a",
   "metadata": {},
   "source": [
    "В данной работе не будем раскрывать путь к базе данных, а также для простоты восприятия не будем использовать для каждого вывода ячейки конструкцию ниже:"
   ]
  },
  {
   "cell_type": "code",
   "execution_count": null,
   "id": "9b681d28",
   "metadata": {},
   "outputs": [],
   "source": [
    "query = '''\n",
    "           \n",
    "        '''\n",
    "\n",
    "pd.io.sql.read_sql(query, con = engine) "
   ]
  },
  {
   "cell_type": "markdown",
   "id": "57d8d44e",
   "metadata": {},
   "source": [
    "**Часть 1**"
   ]
  },
  {
   "cell_type": "markdown",
   "id": "afc67bb8",
   "metadata": {},
   "source": [
    "1.Найдите количество вопросов, которые набрали больше 300 очков или как минимум 100 раз были добавлены в «Закладки»."
   ]
  },
  {
   "cell_type": "code",
   "execution_count": null,
   "id": "5237634b",
   "metadata": {},
   "outputs": [],
   "source": [
    "SELECT COUNT(id)\n",
    "FROM stackoverflow.posts \n",
    "WHERE (post_type_id=1 AND score>300) OR favorites_count>=100;"
   ]
  },
  {
   "cell_type": "markdown",
   "id": "50ded2c3",
   "metadata": {},
   "source": [
    "2.Сколько в среднем в день задавали вопросов с 1 по 18 ноября 2008 включительно? Результат округлите до целого числа."
   ]
  },
  {
   "cell_type": "code",
   "execution_count": null,
   "id": "ffa99021",
   "metadata": {},
   "outputs": [],
   "source": [
    "SELECT ROUND(AVG(count_id))\n",
    "FROM (\n",
    "SELECT CAST(DATE_TRUNC('day', creation_date) AS date) AS day,\n",
    "       COUNT(id) AS count_id\n",
    "FROM stackoverflow.posts\n",
    "WHERE post_type_id=1 AND CAST(DATE_TRUNC('day', creation_date) AS date) BETWEEN '2008-11-01' and '2008-11-18' \n",
    "GROUP BY day\n",
    ") AS posts_grouped; "
   ]
  },
  {
   "cell_type": "markdown",
   "id": "f484629d",
   "metadata": {},
   "source": [
    "3.Сколько пользователей получили значки сразу в день регистрации? Выведите количество уникальных пользователей."
   ]
  },
  {
   "cell_type": "code",
   "execution_count": null,
   "id": "14ed7c9a",
   "metadata": {},
   "outputs": [],
   "source": [
    "SELECT COUNT(DISTINCT b.user_id)\n",
    "FROM stackoverflow.badges b \n",
    "INNER JOIN  stackoverflow.users u  ON b.user_id=u.id\n",
    "WHERE CAST(b.creation_date AS date)=CAST(u.creation_date AS date);"
   ]
  },
  {
   "cell_type": "markdown",
   "id": "ae14fa36",
   "metadata": {},
   "source": [
    "4.Сколько уникальных постов пользователя с именем Joel Coehoorn получили хотя бы один голос?"
   ]
  },
  {
   "cell_type": "code",
   "execution_count": null,
   "id": "8cea94a3",
   "metadata": {},
   "outputs": [],
   "source": [
    "SELECT COUNT(DISTINCT p.id)\n",
    "FROM  stackoverflow.posts p \n",
    "INNER JOIN stackoverflow.users u  ON p.user_id=u.id\n",
    "INNER JOIN stackoverflow.votes v ON p.id=v.post_id\n",
    "WHERE p.score>=1 AND u.display_name='Joel Coehoorn';"
   ]
  },
  {
   "cell_type": "markdown",
   "id": "684cf6c4",
   "metadata": {},
   "source": [
    "5.Выгрузите все поля таблицы vote_types. Добавьте к таблице поле rank, в которое войдут номера записей в обратном порядке. Таблица должна быть отсортирована по полю id."
   ]
  },
  {
   "cell_type": "code",
   "execution_count": null,
   "id": "e3bc371c",
   "metadata": {},
   "outputs": [],
   "source": [
    "SELECT *,\n",
    "       RANK() OVER (ORDER BY id DESC) \n",
    "FROM stackoverflow.vote_types\n",
    "ORDER BY id;"
   ]
  },
  {
   "cell_type": "markdown",
   "id": "58099119",
   "metadata": {},
   "source": [
    "6.Отберите 10 пользователей, которые поставили больше всего голосов типа Close. Отобразите таблицу из двух полей: идентификатором пользователя и количеством голосов. Отсортируйте данные сначала по убыванию количества голосов, потом по убыванию значения идентификатора пользователя."
   ]
  },
  {
   "cell_type": "code",
   "execution_count": null,
   "id": "3931ebcc",
   "metadata": {},
   "outputs": [],
   "source": [
    "SELECT u.id,\n",
    "       COUNT(v.id)\n",
    "FROM stackoverflow.users u\n",
    "LEFT JOIN stackoverflow.votes v ON u.id=v.user_id\n",
    "LEFT JOIN stackoverflow.vote_types vt ON v.vote_type_id=vt.id\n",
    "WHERE vt.name='Close'\n",
    "GROUP BY u.id\n",
    "ORDER BY  COUNT(v.id) DESC\n",
    "LIMIT 10;"
   ]
  },
  {
   "cell_type": "markdown",
   "id": "8bceb817",
   "metadata": {},
   "source": [
    "7.Отберите 10 пользователей по количеству значков, полученных в период с 15 ноября по 15 декабря 2008 года включительно.\n",
    "Отобразите несколько полей:\n",
    "* идентификатор пользователя;\n",
    "* число значков;\n",
    "* место в рейтинге — чем больше значков, тем выше рейтинг.\n",
    "\n",
    "Пользователям, которые набрали одинаковое количество значков, присвойте одно и то же место в рейтинге.\n",
    "\n",
    "Отсортируйте записи по количеству значков по убыванию, а затем по возрастанию значения идентификатора пользователя."
   ]
  },
  {
   "cell_type": "code",
   "execution_count": null,
   "id": "6c5ccfaf",
   "metadata": {},
   "outputs": [],
   "source": [
    "SELECT u.id,\n",
    "       COUNT(b.id),\n",
    "       DENSE_RANK() OVER(ORDER BY COUNT(b.id)DESC)\n",
    "FROM stackoverflow.users u\n",
    "LEFT JOIN stackoverflow.badges b ON u.id=b.user_id\n",
    "WHERE CAST(DATE_TRUNC('day', b.creation_date) AS date) BETWEEN '2008-11-15' AND '2008-12-15'\n",
    "GROUP BY u.id\n",
    "ORDER BY COUNT(b.id) DESC, \n",
    "         u.id\n",
    "LIMIT 10;"
   ]
  },
  {
   "cell_type": "markdown",
   "id": "2a3e54c2",
   "metadata": {},
   "source": [
    "8.Сколько в среднем очков получает пост каждого пользователя?\n",
    "Сформируйте таблицу из следующих полей:\n",
    "* заголовок поста;\n",
    "* идентификатор пользователя;\n",
    "* число очков поста;\n",
    " *среднее число очков пользователя за пост, округлённое до целого числа.\n",
    "    \n",
    "Не учитывайте посты без заголовка, а также те, что набрали ноль очков."
   ]
  },
  {
   "cell_type": "code",
   "execution_count": null,
   "id": "af50cd94",
   "metadata": {},
   "outputs": [],
   "source": [
    "SELECT title,\n",
    "       user_id,\n",
    "       score,\n",
    "       ROUND(AVG(score) OVER(PARTITION BY user_id))\n",
    "FROM stackoverflow.posts \n",
    "WHERE score!=0 AND title IS NOT NULL;"
   ]
  },
  {
   "cell_type": "markdown",
   "id": "fd0da6fd",
   "metadata": {},
   "source": [
    "9.Отобразите заголовки постов, которые были написаны пользователями, получившими более 1000 значков. Посты без заголовков не должны попасть в список."
   ]
  },
  {
   "cell_type": "code",
   "execution_count": null,
   "id": "d67fd872",
   "metadata": {},
   "outputs": [],
   "source": [
    "SELECT p.title\n",
    "FROM stackoverflow.posts p\n",
    "WHERE p.user_id IN\n",
    "(SELECT b.user_id\n",
    "FROM stackoverflow.badges b\n",
    "LEFT JOIN stackoverflow.posts p ON p.creation_date=b.creation_date\n",
    "GROUP BY b.user_id\n",
    "HAVING COUNT (DISTINCT b.id)>1000) AND title IS NOT NULL;"
   ]
  },
  {
   "cell_type": "markdown",
   "id": "0524dae2",
   "metadata": {},
   "source": [
    "10.Напишите запрос, который выгрузит данные о пользователях из США (англ. United States). Разделите пользователей на три группы в зависимости от количества просмотров их профилей:\n",
    "* пользователям с числом просмотров больше либо равным 350 присвойте группу 1;\n",
    "* пользователям с числом просмотров меньше 350, но больше либо равно 100 — группу 2;\n",
    "* пользователям с числом просмотров меньше 100 — группу 3.\n",
    "\n",
    "Отобразите в итоговой таблице идентификатор пользователя, количество просмотров профиля и группу. Пользователи с нулевым количеством просмотров не должны войти в итоговую таблицу."
   ]
  },
  {
   "cell_type": "code",
   "execution_count": null,
   "id": "a6877dd5",
   "metadata": {},
   "outputs": [],
   "source": [
    "SELECT id,\n",
    "       views,\n",
    "       CASE \n",
    "           WHEN views >=350 THEN 1                  \n",
    "           WHEN views >=100 AND views<350 THEN 2           \n",
    "           WHEN views <100 THEN 3  \n",
    "       END\n",
    "FROM stackoverflow.users \n",
    "WHERE location LIKE '%United States%' AND views!= 0;"
   ]
  },
  {
   "cell_type": "markdown",
   "id": "49400b2c",
   "metadata": {},
   "source": [
    "11.Дополните предыдущий запрос. Отобразите лидеров каждой группы — пользователей, которые набрали максимальное число просмотров в своей группе. Выведите поля с идентификатором пользователя, группой и количеством просмотров. Отсортируйте таблицу по убыванию просмотров, а затем по возрастанию значения идентификатора."
   ]
  },
  {
   "cell_type": "code",
   "execution_count": null,
   "id": "d66b156b",
   "metadata": {},
   "outputs": [],
   "source": [
    "SELECT id,\n",
    "       group_number,\n",
    "       views\n",
    "FROM (SELECT *,\n",
    "             MAX(views) OVER (PARTITION BY group_number) AS max_value\n",
    "      FROM (SELECT id,\n",
    "                   views,\n",
    "                   CASE\n",
    "                       WHEN views >= 350 THEN 1\n",
    "                       WHEN views >= 100 THEN 2\n",
    "                       ELSE 3\n",
    "                   END AS group_number\n",
    "            FROM stackoverflow.users AS u\n",
    "            WHERE location LIKE '%United States%' AND views> 0) AS a) AS foo\n",
    "WHERE max_value = views\n",
    "ORDER BY views DESC, id;"
   ]
  },
  {
   "cell_type": "markdown",
   "id": "3236c450",
   "metadata": {},
   "source": [
    "12.Посчитайте ежедневный прирост новых пользователей в ноябре 2008 года. Сформируйте таблицу с полями:\n",
    "номер дня;\n",
    "* число пользователей, зарегистрированных в этот день;\n",
    "* сумму пользователей с накоплением."
   ]
  },
  {
   "cell_type": "code",
   "execution_count": null,
   "id": "032457bc",
   "metadata": {},
   "outputs": [],
   "source": [
    "WITH users_1 AS (SELECT EXTRACT(DAY FROM creation_date) AS day_reg,\n",
    "                        COUNT(id) AS count_id\n",
    "                 FROM stackoverflow.users u\n",
    "                 WHERE EXTRACT(MONTH FROM creation_date) = 11\n",
    "                           AND EXTRACT(YEAR FROM creation_date) = 2008\n",
    "                 GROUP BY day_reg)\n",
    "SELECT *,\n",
    "       SUM(count_id) OVER (ORDER BY day_reg)\n",
    "FROM users_1;"
   ]
  },
  {
   "cell_type": "markdown",
   "id": "5e0c90de",
   "metadata": {},
   "source": [
    "13.Для каждого пользователя, который написал хотя бы один пост, найдите интервал между регистрацией и временем создания первого поста. Отобразите:\n",
    "* идентификатор пользователя;\n",
    "* разницу во времени между регистрацией и первым постом."
   ]
  },
  {
   "cell_type": "code",
   "execution_count": null,
   "id": "b51db099",
   "metadata": {},
   "outputs": [],
   "source": [
    "SELECT DISTINCT users.id,\n",
    "       MIN(posts.creation_date) OVER(PARTITION BY posts.user_id ORDER BY posts.creation_date)-users.creation_date\n",
    "FROM  stackoverflow.posts\n",
    "JOIN stackoverflow.users ON posts.user_id=users.id\n",
    "ORDER BY 1;"
   ]
  },
  {
   "cell_type": "markdown",
   "id": "8ef8760b",
   "metadata": {},
   "source": [
    "**Часть 2**"
   ]
  },
  {
   "cell_type": "markdown",
   "id": "5aa944f2",
   "metadata": {},
   "source": [
    "1.Выведите общую сумму просмотров постов за каждый месяц 2008 года. Если данных за какой-либо месяц в базе нет, такой месяц можно пропустить. Результат отсортируйте по убыванию общего количества просмотров."
   ]
  },
  {
   "cell_type": "code",
   "execution_count": null,
   "id": "a5395dcf",
   "metadata": {},
   "outputs": [],
   "source": [
    "SELECT CAST(DATE_TRUNC('month', creation_date)AS date) AS month,\n",
    "       SUM(views_count) AS vc\n",
    "FROM stackoverflow.posts\n",
    "GROUP BY month\n",
    "ORDER BY vc DESC;"
   ]
  },
  {
   "cell_type": "markdown",
   "id": "68620cff",
   "metadata": {},
   "source": [
    "2.Выведите имена самых активных пользователей, которые в первый месяц после регистрации (включая день регистрации) дали больше 100 ответов. Вопросы, которые задавали пользователи, не учитывайте. Для каждого имени пользователя выведите количество уникальных значений user_id. Отсортируйте результат по полю с именами в лексикографическом порядке."
   ]
  },
  {
   "cell_type": "code",
   "execution_count": null,
   "id": "2e8a31b1",
   "metadata": {},
   "outputs": [],
   "source": [
    "SELECT u.display_name,\n",
    "       COUNT(DISTINCT user_id)\n",
    "FROM stackoverflow.posts p\n",
    "JOIN stackoverflow.post_types pt ON p.post_type_id = pt.id\n",
    "JOIN stackoverflow.users u ON u.id = p.user_id\n",
    "WHERE DATE_TRUNC('day', p.creation_date) >= DATE_TRUNC('day', u.creation_date)\n",
    "  AND DATE_TRUNC('day', p.creation_date) <= DATE_TRUNC('day', u.creation_date) + INTERVAL '1 month'\n",
    "  AND pt.type = 'Answer'\n",
    "GROUP BY u.display_name\n",
    "HAVING COUNT(*) > 100;"
   ]
  },
  {
   "cell_type": "markdown",
   "id": "7943e904",
   "metadata": {},
   "source": [
    "3.Выведите количество постов за 2008 год по месяцам. Отберите посты от пользователей, которые зарегистрировались в сентябре 2008 года и сделали хотя бы один пост в декабре того же года. Отсортируйте таблицу по значению месяца по убыванию."
   ]
  },
  {
   "cell_type": "code",
   "execution_count": null,
   "id": "c9c946cd",
   "metadata": {},
   "outputs": [],
   "source": [
    "SELECT CAST(DATE_TRUNC('month', p.creation_date)AS date) AS month,\n",
    "       COUNT(p.id) AS posts_count\n",
    "FROM stackoverflow.posts p\n",
    "WHERE p.user_id IN (\n",
    "    SELECT u.id\n",
    "FROM stackoverflow.posts p\n",
    "LEFT JOIN stackoverflow.users u ON p.user_id=u.id\n",
    "WHERE EXTRACT(YEAR FROM p.creation_date)= 2008 AND EXTRACT(MONTH FROM p.creation_date)=12 AND EXTRACT(YEAR FROM u.creation_date)= 2008 AND EXTRACT(MONTH FROM u.creation_date)=09\n",
    ") \n",
    "\n",
    "GROUP BY month\n",
    "ORDER BY month DESC;"
   ]
  },
  {
   "cell_type": "markdown",
   "id": "cd5610f0",
   "metadata": {},
   "source": [
    "4.Используя данные о постах, выведите несколько полей:\n",
    "* идентификатор пользователя, который написал пост;\n",
    "* дата создания поста;\n",
    "* количество просмотров у текущего поста;\n",
    "* сумму просмотров постов автора с накоплением.\n",
    "\n",
    "Данные в таблице должны быть отсортированы по возрастанию идентификаторов пользователей, а данные об одном и том же пользователе — по возрастанию даты создания поста."
   ]
  },
  {
   "cell_type": "code",
   "execution_count": null,
   "id": "2a238684",
   "metadata": {},
   "outputs": [],
   "source": [
    "SELECT p.user_id,\n",
    "       p.creation_date,\n",
    "       p.views_count,\n",
    "       SUM(p.views_count) OVER(PARTITION BY p.user_id ORDER BY p.creation_date)\n",
    "FROM stackoverflow.posts p\n",
    "ORDER BY p.user_id;"
   ]
  },
  {
   "cell_type": "markdown",
   "id": "224ed8b8",
   "metadata": {},
   "source": [
    "5.Сколько в среднем дней в период с 1 по 7 декабря 2008 года включительно пользователи взаимодействовали с платформой? Для каждого пользователя отберите дни, в которые он или она опубликовали хотя бы один пост. Нужно получить одно целое число — не забудьте округлить результат."
   ]
  },
  {
   "cell_type": "code",
   "execution_count": null,
   "id": "dac2781c",
   "metadata": {},
   "outputs": [],
   "source": [
    "WITH temp_table AS\n",
    "  (SELECT distinct user_id,\n",
    "          DATE_TRUNC('day', creation_date) AS day\n",
    "   FROM stackoverflow.posts\n",
    "   WHERE DATE_TRUNC('day',creation_date) >= '2008-12-01'\n",
    "     AND DATE_TRUNC('day',creation_date) <= '2008-12-07')\n",
    "SELECT ROUND(AVG(days_count)) AS result\n",
    "FROM\n",
    "  (SELECT user_id,\n",
    "          COUNT(day) AS days_count\n",
    "   FROM temp_table\n",
    "   GROUP BY user_id\n",
    "   ORDER BY user_id) AS temp_table2;"
   ]
  },
  {
   "cell_type": "markdown",
   "id": "585b6fba",
   "metadata": {},
   "source": [
    "6.На сколько процентов менялось количество постов ежемесячно с 1 сентября по 31 декабря 2008 года? Отобразите таблицу со следующими полями:\n",
    "* номер месяца;\n",
    "* количество постов за месяц;\n",
    "* процент, который показывает, насколько изменилось количество постов в текущем месяце по сравнению с предыдущим.\n",
    "\n",
    "Если постов стало меньше, значение процента должно быть отрицательным, если больше — положительным. Округлите значение процента до двух знаков после запятой.\n",
    "\n",
    "Напомним, что при делении одного целого числа на другое в PostgreSQL в результате получится целое число, округлённое до ближайшего целого вниз. Чтобы этого избежать, переведите делимое в тип numeric."
   ]
  },
  {
   "cell_type": "code",
   "execution_count": null,
   "id": "be0a8bdd",
   "metadata": {},
   "outputs": [],
   "source": [
    "WITH t AS (\n",
    "SELECT EXTRACT(MONTH FROM p.creation_date) AS months,\n",
    "       COUNT(p.id) AS posts_count\n",
    "FROM stackoverflow.posts p\n",
    "WHERE CAST(p.creation_date AS date) BETWEEN '2008-09-01'  AND '2008_12-31'\n",
    "GROUP BY months\n",
    ")\n",
    "\n",
    "SELECT *,\n",
    "       ROUND(((posts_count::numeric / LAG(posts_count) OVER (ORDER BY months)) - 1) * 100, 2) AS post_growth\n",
    "FROM t;"
   ]
  },
  {
   "cell_type": "markdown",
   "id": "4ddb5f98",
   "metadata": {},
   "source": [
    "7.Выгрузите данные активности пользователя, который опубликовал больше всего постов за всё время. Выведите данные за октябрь 2008 года в таком виде:\n",
    "* номер недели;\n",
    "* дата и время последнего поста, опубликованного на этой неделе."
   ]
  },
  {
   "cell_type": "code",
   "execution_count": null,
   "id": "db618b83",
   "metadata": {},
   "outputs": [],
   "source": [
    "WITH t AS (\n",
    "SELECT EXTRACT(WEEK FROM p.creation_date) AS week,\n",
    "       CAST(p.creation_date AS timestamp) AS dates\n",
    "FROM stackoverflow.posts p\n",
    "WHERE p.creation_date BETWEEN '2008-10-01 00:00:00' and '2008-10-31 23:59:59' AND p.user_id IN (\n",
    "    SELECT user_id      \n",
    "FROM stackoverflow.posts\n",
    "GROUP BY user_id\n",
    "ORDER BY COUNT(id) DESC\n",
    "LIMIT 1\n",
    ")\n",
    ")\n",
    "\n",
    "SELECT DISTINCT week,\n",
    "       LAST_VALUE(t.dates) OVER (PARTITION BY week ORDER BY week)\n",
    "FROM t\n",
    "ORDER BY week;       "
   ]
  }
 ],
 "metadata": {
  "kernelspec": {
   "display_name": "Python 3 (ipykernel)",
   "language": "python",
   "name": "python3"
  },
  "language_info": {
   "codemirror_mode": {
    "name": "ipython",
    "version": 3
   },
   "file_extension": ".py",
   "mimetype": "text/x-python",
   "name": "python",
   "nbconvert_exporter": "python",
   "pygments_lexer": "ipython3",
   "version": "3.9.13"
  }
 },
 "nbformat": 4,
 "nbformat_minor": 5
}
