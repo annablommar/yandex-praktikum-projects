{
 "cells": [
  {
   "cell_type": "markdown",
   "id": "9bbb0ec2",
   "metadata": {},
   "source": [
    "# Дашборд для Яндекс.Дзен"
   ]
  },
  {
   "cell_type": "markdown",
   "id": "ba0f25e9",
   "metadata": {},
   "source": [
    "**Цель проетка** Построить дашборд и сделать презентацию с анализом взаимодействия пользователей с карточками статей на Яндекс.Дзен\n",
    "\n",
    "В структуру дашборда должно быть включено:\n",
    "* История событий по темам карточек (два графика - абсолютные числа и процентное соотношение);\n",
    "* Разбивка событий по темам источников;\n",
    "* Таблица соответствия тем источников темам карточек;"
   ]
  },
  {
   "cell_type": "markdown",
   "id": "d4137127",
   "metadata": {},
   "source": [
    "**Описание данных:**\n",
    "    \n",
    "* record_id — первичный ключ,\n",
    "* item_topic — тема карточки,\n",
    "* source_topic — тема источника,\n",
    "* age_segment — возрастной сегмент,\n",
    "* dt — дата и время,\n",
    "* visits — количество событий."
   ]
  },
  {
   "cell_type": "markdown",
   "id": "de3aa253",
   "metadata": {},
   "source": [
    "[Дашборд](https://public.tableau.com/views/_16721532208270/sheet4?:language=en-US&publish=yes&:display_count=n&:origin=viz_share_link)"
   ]
  },
  {
   "cell_type": "markdown",
   "id": "066143c2",
   "metadata": {},
   "source": [
    "[Презентация](https://drive.google.com/file/d/1ax9ml7joy11Z4fwedSKVFML-A8d5CKk9/view?usp=sharing)"
   ]
  },
  {
   "cell_type": "code",
   "execution_count": null,
   "id": "4bfb9e8c",
   "metadata": {},
   "outputs": [],
   "source": []
  }
 ],
 "metadata": {
  "kernelspec": {
   "display_name": "Python 3 (ipykernel)",
   "language": "python",
   "name": "python3"
  },
  "language_info": {
   "codemirror_mode": {
    "name": "ipython",
    "version": 3
   },
   "file_extension": ".py",
   "mimetype": "text/x-python",
   "name": "python",
   "nbconvert_exporter": "python",
   "pygments_lexer": "ipython3",
   "version": "3.9.13"
  }
 },
 "nbformat": 4,
 "nbformat_minor": 5
}
