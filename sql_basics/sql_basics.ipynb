{
 "cells": [
  {
   "cell_type": "markdown",
   "id": "9e3b9533",
   "metadata": {},
   "source": [
    "# Анализ рынка инвестиций"
   ]
  },
  {
   "cell_type": "markdown",
   "id": "16f3a784",
   "metadata": {},
   "source": [
    "**Цель:** применить базовый SQL для анализа рынка инвестиций."
   ]
  },
  {
   "cell_type": "markdown",
   "id": "2d35b9b0",
   "metadata": {},
   "source": [
    "**Описание данных:**\n",
    "\n",
    "Таблица acquisition.Содержит информацию о покупках одних компаний другими.\n",
    "* первичный ключ id — идентификатор или уникальный номер покупки;\n",
    "* внешний ключ acquiring_company_id — ссылается на таблицу company — идентификатор компании-покупателя, то есть той, что покупает другую компанию;\n",
    "* внешний ключ acquired_company_id — ссылается на таблицу company — идентификатор компании, которую покупают;\n",
    "* term_code — способ оплаты сделки:\n",
    " 1. cash — наличными;\n",
    " 2. stock — акциями компании;\n",
    " 3. cash_and_stock — смешанный тип оплаты: наличные и акции.\n",
    "* price_amount — сумма покупки в долларах;\n",
    "* acquired_at — дата совершения сделки;\n",
    "* created_at — дата и время создания записи в таблице;\n",
    "* updated_at — дата и время обновления записи в таблице.\n",
    "\n",
    "Таблица company.Содержит информацию о компаниях-стартапах.\n",
    "* первичный ключ id — идентификатор, или уникальный номер компании;\n",
    "* name — название компании;\n",
    "* category_code — категория деятельности компании, например:\n",
    " 1. news — специализируется на работе с новостями;\n",
    " 2. social — специализируется на социальной работе.\n",
    "* status — статус компании:\n",
    " 1. acquired — приобретена;\n",
    " 2. operating — действует;\n",
    " 3. ipo — вышла на IPO;\n",
    " 4. closed — перестала существовать.\n",
    "* founded_at — дата основания компании;\n",
    "* closed_at — дата закрытия компании, которую указывают в том случае, если компании больше не существует;\n",
    "* domain — домен сайта компании;\n",
    "* twitter_username — название профиля компании в твиттере;\n",
    "* country_code — код страны, например, USA для США, GBR для Великобритании;\n",
    "* investment_rounds — число раундов, в которых компания участвовала как инвестор;\n",
    "* funding_rounds — число раундов, в которых компания привлекала инвестиции;\n",
    "* funding_total — сумма привлечённых инвестиций в долларах;\n",
    "* milestones — количество важных этапов в истории компании;\n",
    "* created_at — дата и время создания записи в таблице;\n",
    "* updated_at — дата и время обновления записи в таблице.\n",
    "\n",
    "Таблица education.Хранит информацию об уровне образования сотрудников компаний.\n",
    "* первичный ключ id — уникальный номер записи с информацией об образовании;\n",
    "* внешний ключ person_id — ссылается на таблицу people — идентификатор человека, информация о котором представлена в записи;\n",
    "* degree_type — учебная степень, например:\n",
    " 1. BA — Bachelor of Arts — бакалавр гуманитарных наук;\n",
    " 2. MS — Master of Science — магистр естественных наук.\n",
    "* instituition — учебное заведение, название университета;\n",
    "* graduated_at — дата завершения обучения, выпуска;\n",
    "* created_at — дата и время создания записи в таблице;\n",
    "* updated_at — дата и время обновления записи в таблице.\n",
    "\n",
    "Таблица fund.Хранит информацию о венчурных фондах. \n",
    "* первичный ключ id — уникальный номер венчурного фонда;\n",
    "* name — название венчурного фонда;\n",
    "* founded_at — дата основания фонда;\n",
    "* domain — домен сайта фонда;\n",
    "* twitter_username — профиль фонда в твиттере;\n",
    "* country_code — код страны фонда;\n",
    "* investment_rounds — число инвестиционных раундов, в которых фонд принимал участие;\n",
    "* invested_companies — число компаний, в которые инвестировал фонд;\n",
    "* milestones — количество важных этапов в истории фонда;\n",
    "* created_at — дата и время создания записи в таблице;\n",
    "* updated_at — дата и время обновления записи в таблице.\n",
    "\n",
    "Таблица funding_round. Содержит информацию о раундах инвестиций. \n",
    "* первичный ключ id — уникальный номер инвестиционного раунда;\n",
    "* внешний ключ company_id — ссылается на таблицу company — уникальный номер компании, участвовавшей в инвестиционном раунде;\n",
    "* funded_at — дата проведения раунда;\n",
    "* funding_round_type — тип инвестиционного раунда, например:\n",
    " 1. venture — венчурный раунд;\n",
    " 2. angel — ангельский раунд;\n",
    " 3. series_a — раунд А.\n",
    "* raised_amount — сумма инвестиций, которую привлекла компания в этом раунде в долларах;\n",
    "* pre_money_valuation — предварительная, проведённая до инвестиций оценка стоимости компании в долларах;\n",
    "* participants — количество участников инвестиционного раунда;\n",
    "* is_first_round — является ли этот раунд первым для компании;\n",
    "* is_last_round — является ли этот раунд последним для компании;\n",
    "* created_at — дата и время создания записи в таблице;\n",
    "* updated_at — дата и время обновления записи в таблице.\n",
    "\n",
    "Таблица investment. Содержит информацию об инвестициях венчурных фондов в компании-стартапы.\n",
    "* первичный ключ id — уникальный номер инвестиции;\n",
    "* внешний ключ funding_round_id — ссылается на таблицу funding_round — уникальный номер раунда инвестиции;\n",
    "* внешний ключ company_id — ссылается на таблицу company — уникальный номер компании-стартапа, в которую инвестируют;\n",
    "* внешний ключ fund_id — ссылается на таблицу fund — уникальный номер фонда, инвестирующего в компанию-стартап;\n",
    "* created_at — дата и время создания записи в таблице;\n",
    "* updated_at — дата и время обновления записи в таблице.\n",
    "\n",
    "Таблица people. Содержит информацию о сотрудниках компаний-стартапов.\n",
    "* первичный ключ id — уникальный номер сотрудника;\n",
    "* first_name — имя сотрудника;\n",
    "* last_name — фамилия сотрудника;\n",
    "* внешний ключ company_id — ссылается на таблицу company — уникальный номер компании-стартапа;\n",
    "* twitter_username — профиль сотрудника в твиттере;\n",
    "* created_at — дата и время создания записи в таблице;\n",
    "* updated_at — дата и время обновления записи в таблице."
   ]
  },
  {
   "cell_type": "code",
   "execution_count": 9,
   "id": "9031c020",
   "metadata": {},
   "outputs": [],
   "source": [
    "import pandas as pd"
   ]
  },
  {
   "cell_type": "markdown",
   "id": "4c3a3cec",
   "metadata": {},
   "source": [
    "В данной работе не будем раскрывать путь к базе данных, а также для простоты восприятия не будем использовать для каждого вывода ячейки конструкцию ниже:"
   ]
  },
  {
   "cell_type": "code",
   "execution_count": null,
   "id": "e3bfd3a3",
   "metadata": {},
   "outputs": [],
   "source": [
    "query = '''\n",
    "           \n",
    "        '''\n",
    "\n",
    "pd.io.sql.read_sql(query, con = engine) "
   ]
  },
  {
   "cell_type": "markdown",
   "id": "df5bac3d",
   "metadata": {},
   "source": [
    "1.Посчитайте, сколько компаний закрылось."
   ]
  },
  {
   "cell_type": "code",
   "execution_count": null,
   "id": "3000ef43",
   "metadata": {},
   "outputs": [],
   "source": [
    "SELECT COUNT(status)\n",
    "FROM company\n",
    "WHERE status='closed';"
   ]
  },
  {
   "cell_type": "markdown",
   "id": "1d1b46ce",
   "metadata": {},
   "source": [
    "2.Отобразите количество привлечённых средств для новостных компаний США. Используйте данные из таблицы company. Отсортируйте таблицу по убыванию значений в поле funding_total ."
   ]
  },
  {
   "cell_type": "code",
   "execution_count": null,
   "id": "92b73515",
   "metadata": {},
   "outputs": [],
   "source": [
    "SELECT SUM(funding_total)\n",
    "FROM company\n",
    "WHERE category_code='news' AND country_code='USA'\n",
    "GROUP BY name\n",
    "ORDER BY SUM(funding_total) DESC;"
   ]
  },
  {
   "cell_type": "markdown",
   "id": "d3d718b0",
   "metadata": {},
   "source": [
    "3.Найдите общую сумму сделок по покупке одних компаний другими в долларах. Отберите сделки, которые осуществлялись только за наличные с 2011 по 2013 год включительно."
   ]
  },
  {
   "cell_type": "code",
   "execution_count": null,
   "id": "fbcd63d0",
   "metadata": {},
   "outputs": [],
   "source": [
    "SELECT SUM(price_amount)\n",
    "FROM acquisition\n",
    "WHERE term_code='cash' \n",
    "AND EXTRACT(YEAR FROM CAST(acquired_at AS date)) IN (2011, 2012, 2013);"
   ]
  },
  {
   "cell_type": "markdown",
   "id": "1dc93cf7",
   "metadata": {},
   "source": [
    "4.Отобразите имя, фамилию и названия аккаунтов людей в твиттере, у которых названия аккаунтов начинаются на 'Silver'."
   ]
  },
  {
   "cell_type": "code",
   "execution_count": null,
   "id": "7d754423",
   "metadata": {},
   "outputs": [],
   "source": [
    "SELECT first_name,\n",
    "       last_name,\n",
    "       twitter_username\n",
    "FROM people\n",
    "WHERE twitter_username LIKE 'Silver%';"
   ]
  },
  {
   "cell_type": "markdown",
   "id": "76dddfa3",
   "metadata": {},
   "source": [
    "5.Выведите на экран всю информацию о людях, у которых названия аккаунтов в твиттере содержат подстроку 'money', а фамилия начинается на 'K'."
   ]
  },
  {
   "cell_type": "code",
   "execution_count": null,
   "id": "7f03e2e8",
   "metadata": {},
   "outputs": [],
   "source": [
    "SELECT *\n",
    "FROM people\n",
    "WHERE twitter_username LIKE '%money%' \n",
    "AND last_name LIKE 'K%';"
   ]
  },
  {
   "cell_type": "markdown",
   "id": "ee481acc",
   "metadata": {},
   "source": [
    "6.Для каждой страны отобразите общую сумму привлечённых инвестиций, которые получили компании, зарегистрированные в этой стране. Страну, в которой зарегистрирована компания, можно определить по коду страны. Отсортируйте данные по убыванию суммы."
   ]
  },
  {
   "cell_type": "code",
   "execution_count": null,
   "id": "573c3732",
   "metadata": {},
   "outputs": [],
   "source": [
    "SELECT country_code,\n",
    "       SUM(funding_total)\n",
    "FROM company AS c \n",
    "LEFT JOIN acquisition AS a ON c.id=a.id\n",
    "GROUP BY country_code\n",
    "ORDER BY SUM(funding_total) DESC;"
   ]
  },
  {
   "cell_type": "markdown",
   "id": "e64971f8",
   "metadata": {},
   "source": [
    "7.Составьте таблицу, в которую войдёт дата проведения раунда, а также минимальное и максимальное значения суммы инвестиций, привлечённых в эту дату.\n",
    "Оставьте в итоговой таблице только те записи, в которых минимальное значение суммы инвестиций не равно нулю и не равно максимальному значению."
   ]
  },
  {
   "cell_type": "code",
   "execution_count": null,
   "id": "04fdeefd",
   "metadata": {},
   "outputs": [],
   "source": [
    "SELECT funded_at,\n",
    "       MIN(raised_amount),\n",
    "       MAX(raised_amount)\n",
    "FROM funding_round\n",
    "GROUP BY funded_at\n",
    "HAVING MIN(raised_amount)!=MAX(raised_amount)\n",
    "AND MIN(raised_amount) <> 0;"
   ]
  },
  {
   "cell_type": "markdown",
   "id": "ddf79c0d",
   "metadata": {},
   "source": [
    "8.Создайте поле с категориями:\n",
    "Для фондов, которые инвестируют в 100 и более компаний, назначьте категорию high_activity.\n",
    "Для фондов, которые инвестируют в 20 и более компаний до 100, назначьте категорию middle_activity.\n",
    "Если количество инвестируемых компаний фонда не достигает 20, назначьте категорию low_activity.\n",
    "Отобразите все поля таблицы fund и новое поле с категориями."
   ]
  },
  {
   "cell_type": "code",
   "execution_count": null,
   "id": "5dc0a5ae",
   "metadata": {},
   "outputs": [],
   "source": [
    "SELECT *,\n",
    "       CASE\n",
    "           WHEN invested_companies < 20 THEN 'low_activity'\n",
    "           WHEN invested_companies >= 20 AND invested_companies < 100 THEN 'middle_activity'\n",
    "           WHEN invested_companies >= 100 THEN 'high_activity'\n",
    "       END\n",
    "FROM fund;"
   ]
  },
  {
   "cell_type": "markdown",
   "id": "e86e7d92",
   "metadata": {},
   "source": [
    "9.Для каждой из категорий, назначенных в предыдущем задании, посчитайте округлённое до ближайшего целого числа среднее количество инвестиционных раундов, в которых фонд принимал участие. Выведите на экран категории и среднее число инвестиционных раундов. Отсортируйте таблицу по возрастанию среднего."
   ]
  },
  {
   "cell_type": "code",
   "execution_count": null,
   "id": "ecc27c24",
   "metadata": {},
   "outputs": [],
   "source": [
    "SELECT \n",
    "       CASE\n",
    "           WHEN invested_companies>=100 THEN 'high_activity'\n",
    "           WHEN invested_companies>=20 THEN 'middle_activity'\n",
    "           ELSE 'low_activity'\n",
    "       END AS activity,\n",
    "       ROUND(AVG(investment_rounds))\n",
    "FROM fund\n",
    "GROUP BY activity\n",
    "ORDER BY ROUND(AVG(investment_rounds));"
   ]
  },
  {
   "cell_type": "markdown",
   "id": "a958fe8a",
   "metadata": {},
   "source": [
    "10.Проанализируйте, в каких странах находятся фонды, которые чаще всего инвестируют в стартапы. \n",
    "Для каждой страны посчитайте минимальное, максимальное и среднее число компаний, в которые инвестировали фонды этой страны, основанные с 2010 по 2012 год включительно. Исключите страны с фондами, у которых минимальное число компаний, получивших инвестиции, равно нулю. \n",
    "Выгрузите десять самых активных стран-инвесторов: отсортируйте таблицу по среднему количеству компаний от большего к меньшему. Затем добавьте сортировку по коду страны в лексикографическом порядке."
   ]
  },
  {
   "cell_type": "code",
   "execution_count": null,
   "id": "bc019a38",
   "metadata": {},
   "outputs": [],
   "source": [
    "SELECT country_code,\n",
    "       MAX(invested_companies),\n",
    "       MIN(invested_companies),\n",
    "       AVG(invested_companies)\n",
    "FROM fund\n",
    "WHERE founded_at BETWEEN '2010-01-01' AND '2012-12-31'\n",
    "GROUP BY country_code\n",
    "HAVING MIN(invested_companies)<>0     \n",
    "ORDER BY AVG(invested_companies) DESC,\n",
    "         country_code\n",
    "LIMIT 10;"
   ]
  },
  {
   "cell_type": "markdown",
   "id": "81ff4a99",
   "metadata": {},
   "source": [
    "11.Отобразите имя и фамилию всех сотрудников стартапов. Добавьте поле с названием учебного заведения, которое окончил сотрудник, если эта информация известна."
   ]
  },
  {
   "cell_type": "code",
   "execution_count": null,
   "id": "cb0655dd",
   "metadata": {},
   "outputs": [],
   "source": [
    "SELECT p.first_name,\n",
    "       p.last_name,\n",
    "       e.instituition\n",
    "FROM people AS p\n",
    "LEFT JOIN education AS e ON p.id=e.person_id;"
   ]
  },
  {
   "cell_type": "markdown",
   "id": "f582b9f6",
   "metadata": {},
   "source": [
    "12.Для каждой компании найдите количество учебных заведений, которые окончили её сотрудники. Выведите название компании и число уникальных названий учебных заведений. Составьте топ-5 компаний по количеству университетов."
   ]
  },
  {
   "cell_type": "code",
   "execution_count": null,
   "id": "b591dc8f",
   "metadata": {},
   "outputs": [],
   "source": [
    "SELECT c.name,\n",
    "       COUNT(DISTINCT e.instituition)            \n",
    "FROM education AS e\n",
    "LEFT JOIN people AS p ON e.person_id=p.id\n",
    "LEFT JOIN company AS c ON c.id=p.company_id\n",
    "WHERE c.name IS NOT NULL\n",
    "GROUP BY c.name\n",
    "ORDER BY COUNT(DISTINCT e.instituition) DESC\n",
    "LIMIT 5;"
   ]
  },
  {
   "cell_type": "markdown",
   "id": "895c41f8",
   "metadata": {},
   "source": [
    "13.Составьте список с уникальными названиями закрытых компаний, для которых первый раунд финансирования оказался последним."
   ]
  },
  {
   "cell_type": "code",
   "execution_count": null,
   "id": "e926dad0",
   "metadata": {},
   "outputs": [],
   "source": [
    "SELECT DISTINCT c.name AS closed_companies                \n",
    "FROM company AS c\n",
    "LEFT JOIN funding_round AS fr ON c.id=fr.company_id\n",
    "WHERE c.status='closed' \n",
    "    AND is_first_round = 1 AND is_last_round = 1\n",
    "GROUP BY closed_companies;"
   ]
  },
  {
   "cell_type": "markdown",
   "id": "f8f4fdd5",
   "metadata": {},
   "source": [
    "14.Составьте список уникальных номеров сотрудников, которые работают в компаниях, отобранных в предыдущем задании."
   ]
  },
  {
   "cell_type": "code",
   "execution_count": null,
   "id": "dbac1ec3",
   "metadata": {},
   "outputs": [],
   "source": [
    "SELECT DISTINCT p.id\n",
    "FROM people AS p\n",
    "WHERE p.company_id IN \n",
    "    (SELECT DISTINCT c.id AS closed_companies              \n",
    "FROM company AS c\n",
    "LEFT JOIN funding_round AS fr ON c.id=fr.company_id\n",
    "WHERE c.status='closed' \n",
    "    AND is_first_round = 1 AND is_last_round = 1\n",
    "GROUP BY closed_companies);"
   ]
  },
  {
   "cell_type": "markdown",
   "id": "83c606ee",
   "metadata": {},
   "source": [
    "15.Составьте таблицу, куда войдут уникальные пары с номерами сотрудников из предыдущей задачи и учебным заведением, которое окончил сотрудник."
   ]
  },
  {
   "cell_type": "code",
   "execution_count": null,
   "id": "79959a02",
   "metadata": {},
   "outputs": [],
   "source": [
    "SELECT DISTINCT p.id,\n",
    "       e.instituition\n",
    "FROM people AS p\n",
    "INNER JOIN education AS e ON p.id = e.person_id\n",
    "WHERE p.company_id IN \n",
    "    (SELECT DISTINCT c.id AS closed_companies              \n",
    "FROM company AS c\n",
    "LEFT JOIN funding_round AS fr ON c.id=fr.company_id\n",
    "WHERE c.status='closed' \n",
    "    AND is_first_round = 1 AND is_last_round = 1\n",
    "GROUP BY closed_companies);"
   ]
  },
  {
   "cell_type": "markdown",
   "id": "f41579f6",
   "metadata": {},
   "source": [
    "16.Посчитайте количество учебных заведений для каждого сотрудника из предыдущего задания. При подсчёте учитывайте, что некоторые сотрудники могли окончить одно и то же заведение дважды."
   ]
  },
  {
   "cell_type": "code",
   "execution_count": null,
   "id": "ba96cf10",
   "metadata": {},
   "outputs": [],
   "source": [
    "SELECT DISTINCT p.id,\n",
    "       COUNT(e.instituition)\n",
    "FROM people AS p\n",
    "INNER JOIN education AS e ON p.id = e.person_id\n",
    "WHERE p.company_id IN \n",
    "    (SELECT DISTINCT c.id AS closed_companies              \n",
    "FROM company AS c\n",
    "LEFT JOIN funding_round AS fr ON c.id=fr.company_id\n",
    "WHERE c.status='closed' \n",
    "    AND is_first_round = 1 AND is_last_round = 1\n",
    "GROUP BY closed_companies)\n",
    "GROUP BY  p.id;"
   ]
  },
  {
   "cell_type": "markdown",
   "id": "8333be24",
   "metadata": {},
   "source": [
    "17.Дополните предыдущий запрос и выведите среднее число учебных заведений (всех, не только уникальных), которые окончили сотрудники разных компаний. Нужно вывести только одну запись, группировка здесь не понадобится."
   ]
  },
  {
   "cell_type": "code",
   "execution_count": null,
   "id": "08d6f22a",
   "metadata": {},
   "outputs": [],
   "source": [
    "SELECT AVG(a.count_institution)\n",
    "FROM (SELECT DISTINCT p.id,\n",
    "       COUNT(e.instituition) AS count_institution\n",
    "FROM people AS p\n",
    "INNER JOIN education AS e ON p.id = e.person_id\n",
    "WHERE p.company_id IN \n",
    "    (SELECT DISTINCT c.id AS closed_companies              \n",
    "FROM company AS c\n",
    "LEFT JOIN funding_round AS fr ON c.id=fr.company_id\n",
    "WHERE c.status='closed' \n",
    "    AND is_first_round = 1 AND is_last_round = 1\n",
    "GROUP BY closed_companies)\n",
    "GROUP BY  p.id) AS a;"
   ]
  },
  {
   "cell_type": "markdown",
   "id": "4064820b",
   "metadata": {},
   "source": [
    "18.Напишите похожий запрос: выведите среднее число учебных заведений (всех, не только уникальных), которые окончили сотрудники Facebook*.\n",
    "*(сервис, запрещённый на территории РФ)"
   ]
  },
  {
   "cell_type": "code",
   "execution_count": null,
   "id": "248dbb66",
   "metadata": {},
   "outputs": [],
   "source": [
    "SELECT AVG(a.count_institution)\n",
    "FROM (SELECT DISTINCT p.id,\n",
    "       COUNT(e.instituition) AS count_institution\n",
    "FROM people AS p\n",
    "INNER JOIN education AS e ON p.id = e.person_id\n",
    "WHERE p.company_id IN \n",
    "    (SELECT c.id              \n",
    "FROM company AS c\n",
    "WHERE name='Facebook')\n",
    "GROUP BY  p.id) AS a;"
   ]
  },
  {
   "cell_type": "markdown",
   "id": "79df2f02",
   "metadata": {},
   "source": [
    "19.Составьте таблицу из полей:\n",
    "name_of_fund — название фонда;\n",
    "name_of_company — название компании;\n",
    "amount — сумма инвестиций, которую привлекла компания в раунде.\n",
    "В таблицу войдут данные о компаниях, в истории которых было больше шести важных этапов, а раунды финансирования проходили с 2012 по 2013 год включительно."
   ]
  },
  {
   "cell_type": "code",
   "execution_count": null,
   "id": "01dcf359",
   "metadata": {},
   "outputs": [],
   "source": [
    "SELECT f.name AS name_of_fund,\n",
    "       c.name AS name_of_company,\n",
    "       fr.raised_amount AS amount\n",
    "FROM investment AS i\n",
    "LEFT JOIN company AS c ON i.company_id=c.id\n",
    "LEFT JOIN fund AS f ON i.fund_id=f.id\n",
    "LEFT JOIN funding_round AS fr ON i.funding_round_id=fr.id\n",
    "WHERE c.id IN (SELECT id\n",
    "               FROM company\n",
    "               WHERE milestones > 6) AND fr.funded_at BETWEEN '2012-01-01' AND '2013-12-31';"
   ]
  },
  {
   "cell_type": "markdown",
   "id": "2cb453b7",
   "metadata": {},
   "source": [
    "20.Выгрузите таблицу, в которой будут такие поля:\n",
    "* название компании-покупателя;\n",
    "* сумма сделки;\n",
    "* название компании, которую купили;\n",
    "* сумма инвестиций, вложенных в купленную компанию;\n",
    "* доля, которая отображает, во сколько раз сумма покупки превысила сумму вложенных в компанию инвестиций, округлённая до ближайшего целого числа.\n",
    "\n",
    "Не учитывайте те сделки, в которых сумма покупки равна нулю. Если сумма инвестиций в компанию равна нулю, исключите такую компанию из таблицы. \n",
    "\n",
    "Отсортируйте таблицу по сумме сделки от большей к меньшей, а затем по названию купленной компании в лексикографическом порядке.\n",
    "\n",
    "Ограничьте таблицу первыми десятью записями."
   ]
  },
  {
   "cell_type": "code",
   "execution_count": null,
   "id": "c74e4321",
   "metadata": {},
   "outputs": [],
   "source": [
    "SELECT c.name, \n",
    "       a.price_amount,\n",
    "       c_one.name,\n",
    "       c_one.funding_total,\n",
    "       ROUND(a.price_amount/c_one.funding_total)\n",
    "FROM acquisition AS a \n",
    "LEFT JOIN company AS c ON c.id=a.acquiring_company_id\n",
    "LEFT JOIN company AS c_one ON c_one.id=a.acquired_company_id\n",
    "WHERE a.price_amount>0 AND c_one.funding_total>0\n",
    "ORDER BY a.price_amount DESC,\n",
    "         c_one.name\n",
    "LIMIT 10;"
   ]
  },
  {
   "cell_type": "markdown",
   "id": "a30517a9",
   "metadata": {},
   "source": [
    "21.Выгрузите таблицу, в которую войдут названия компаний из категории social, получившие финансирование с 2010 по 2013 год включительно. Проверьте, что сумма инвестиций не равна нулю. Выведите также номер месяца, в котором проходил раунд финансирования."
   ]
  },
  {
   "cell_type": "code",
   "execution_count": null,
   "id": "e96c395f",
   "metadata": {},
   "outputs": [],
   "source": [
    "SELECT c.name,\n",
    "       EXTRACT(MONTH FROM CAST(fr.funded_at AS date))\n",
    "FROM company AS c \n",
    "LEFT JOIN funding_round AS fr ON c.id=fr.company_id\n",
    "WHERE c.id IN (SELECT id\n",
    "               FROM company\n",
    "               WHERE category_code='social') AND\n",
    "fr.raised_amount >0 AND fr.funded_at BETWEEN '2010-01-01' AND '2013-12-31';"
   ]
  },
  {
   "cell_type": "markdown",
   "id": "7447f461",
   "metadata": {},
   "source": [
    "22.Отберите данные по месяцам с 2010 по 2013 год, когда проходили инвестиционные раунды. Сгруппируйте данные по номеру месяца и получите таблицу, в которой будут поля:\n",
    "* номер месяца, в котором проходили раунды;\n",
    "* количество уникальных названий фондов из США, которые инвестировали в этом месяце;\n",
    "* количество компаний, купленных за этот месяц;\n",
    "* общая сумма сделок по покупкам в этом месяце."
   ]
  },
  {
   "cell_type": "code",
   "execution_count": null,
   "id": "76d769f2",
   "metadata": {},
   "outputs": [],
   "source": [
    "WITH \n",
    "month_fund AS\n",
    "  (SELECT EXTRACT(MONTH\n",
    "                  FROM fr.funded_at) AS MONTH,\n",
    "          COUNT(DISTINCT f.name) AS count_of_fund\n",
    "\n",
    "   FROM funding_round AS fr\n",
    "   LEFT JOIN investment AS i ON i.funding_round_id = fr.id\n",
    "   LEFT JOIN fund AS f ON i.fund_id = f.id\n",
    "   WHERE EXTRACT(YEAR\n",
    "                 FROM fr.funded_at) BETWEEN 2010 AND 2013\n",
    "     AND f.country_code = 'USA'\n",
    "   GROUP BY MONTH),\n",
    "   \n",
    " month_acquired AS\n",
    "  (SELECT EXTRACT(MONTH\n",
    "                  FROM acquired_at) AS MONTH,\n",
    "          COUNT(acquired_company_id) AS count_of_acquired,\n",
    "          SUM(price_amount) AS sum_of_acquired\n",
    "   FROM acquisition\n",
    "   WHERE EXTRACT(YEAR\n",
    "                 FROM acquired_at) BETWEEN 2010 AND 2013\n",
    "   GROUP BY MONTH)\n",
    "   \n",
    "   \n",
    "SELECT month_fund.month,\n",
    "       month_fund.count_of_fund,\n",
    "       month_acquired.count_of_acquired,\n",
    "       month_acquired.sum_of_acquired\n",
    "FROM month_fund\n",
    "JOIN month_acquired ON month_fund.month = month_acquired.month;"
   ]
  },
  {
   "cell_type": "markdown",
   "id": "fee27ef0",
   "metadata": {},
   "source": [
    "23.Составьте сводную таблицу и выведите среднюю сумму инвестиций для стран, в которых есть стартапы, зарегистрированные в 2011, 2012 и 2013 годах. Данные за каждый год должны быть в отдельном поле. Отсортируйте таблицу по среднему значению инвестиций за 2011 год от большего к меньшему."
   ]
  },
  {
   "cell_type": "code",
   "execution_count": null,
   "id": "e22c1fa3",
   "metadata": {},
   "outputs": [],
   "source": [
    "WITH \n",
    "inv_2011 as (SELECT country_code as country,\n",
    "                       AVG (funding_total) as funding_total_2011\n",
    "                FROM company\n",
    "                WHERE EXTRACT (YEAR FROM CAST (founded_at as timestamp)) =                   2011\n",
    "                GROUP BY country_code),\n",
    "\n",
    "    inv_2012 as (SELECT country_code as country,\n",
    "                       AVG (funding_total) as funding_total_2012\n",
    "                FROM company\n",
    "                WHERE EXTRACT (YEAR FROM CAST (founded_at as timestamp)) =                   2012\n",
    "                GROUP BY country_code),\n",
    "\n",
    "    inv_2013 as (SELECT country_code as country,\n",
    "                       AVG (funding_total) as funding_total_2013\n",
    "                FROM company\n",
    "                WHERE EXTRACT (YEAR FROM CAST (founded_at as timestamp)) =                   2013\n",
    "                GROUP BY country_code)\n",
    "\n",
    "SELECT inv_2011.country,\n",
    "       inv_2011.funding_total_2011,\n",
    "       inv_2012.funding_total_2012,\n",
    "       inv_2013.funding_total_2013\n",
    "FROM inv_2011\n",
    "INNER JOIN inv_2012 ON inv_2011.country = inv_2012.country\n",
    "INNER JOIN inv_2013 ON inv_2012.country = inv_2013.country\n",
    "ORDER BY inv_2011.funding_total_2011 DESC;"
   ]
  }
 ],
 "metadata": {
  "kernelspec": {
   "display_name": "Python 3 (ipykernel)",
   "language": "python",
   "name": "python3"
  },
  "language_info": {
   "codemirror_mode": {
    "name": "ipython",
    "version": 3
   },
   "file_extension": ".py",
   "mimetype": "text/x-python",
   "name": "python",
   "nbconvert_exporter": "python",
   "pygments_lexer": "ipython3",
   "version": "3.9.13"
  }
 },
 "nbformat": 4,
 "nbformat_minor": 5
}
