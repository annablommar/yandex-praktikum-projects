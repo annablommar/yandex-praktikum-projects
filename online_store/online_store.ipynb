{
 "cells": [
  {
   "cell_type": "markdown",
   "metadata": {},
   "source": [
    "# Проект Интернет-магазин\n",
    "\n",
    "**Цель проекта** Изучить несколько гипотез для увеличения выручки интернет-магазина, а именно приоритизировать гипотезы, запустить A/B-тест и проанализировать результаты.\n",
    "\n",
    "**Описание данных**\n",
    "\n",
    "Для Части 1 \n",
    "\n",
    "Файл hypothesis.csv. \n",
    "* Hypothesis — краткое описание гипотезы;\n",
    "* Reach — охват пользователей по 10-балльной шкале;\n",
    "* Impact — влияние на пользователей по 10-балльной шкале;\n",
    "* Confidence — уверенность в гипотезе по 10-балльной шкале;\n",
    "* Efforts — затраты ресурсов на проверку гипотезы по 10-балльной шкале. Чем больше значение Efforts, тем дороже проверка гипотезы.\n",
    "\n",
    "Для Части 2\n",
    "\n",
    "Файл orders.csv. \n",
    "* transactionId — идентификатор заказа;\n",
    "* visitorId — идентификатор пользователя, совершившего заказ;\n",
    "* date — дата, когда был совершён заказ;\n",
    "* revenue — выручка заказа;\n",
    "* group — группа A/B-теста, в которую попал заказ.\n",
    "\n",
    "Файл visitors.csv. \n",
    "* date — дата;\n",
    "* group — группа A/B-теста;\n",
    "* visitors — количество пользователей в указанную дату в указанной группе A/B-теста\n",
    "\n",
    "**План работ** \n",
    "\n",
    "* Изучение и подготовка данных\n",
    "* Приоритезация гипотез\n",
    "* A/B тестирование, а именно построить график кумулятивной выручки по группам, график кумулятивного среднего чека по группам, график относительного изменения кумулятивного среднего чека группы B к группе A, график кумулятивного среднего количества заказов по группам, график относительного изменения кумулятивного среднего количества заказов группы B к группе A, точечный график количества заказов по пользователям, посчитать 95-й и 99-й перцентили количества заказов на пользователя, построить точечный график стоимостей заказов, посчитать 95-й и 99-й перцентили стоимости заказов, посчитать статистическую значимость различий в среднем количестве заказов между группами по «сырым» данным, статистическую значимость различий в среднем чеке заказа между группами по «сырым» данным, статистическую значимость различий в среднем количестве заказов между группами по «очищенным» данным, статистическую значимость различий в среднем чеке заказа между группами по «очищенным» данным. \n",
    "* Выводы\n",
    "\n"
   ]
  },
  {
   "cell_type": "markdown",
   "metadata": {},
   "source": [
    "## Изучение и подготовка данных"
   ]
  },
  {
   "cell_type": "markdown",
   "metadata": {},
   "source": [
    "Для начала изучим и подготовим данные"
   ]
  },
  {
   "cell_type": "code",
   "execution_count": 1,
   "metadata": {},
   "outputs": [],
   "source": [
    "import pandas as pd\n",
    "pd.options.display.max_colwidth = 400\n",
    "import datetime as dt\n",
    "import numpy as np\n",
    "import matplotlib.pyplot as plt\n",
    "from pandas.plotting import register_matplotlib_converters\n",
    "import warnings\n",
    "import scipy.stats as stats\n",
    "\n",
    "register_matplotlib_converters()"
   ]
  },
  {
   "cell_type": "code",
   "execution_count": 2,
   "metadata": {},
   "outputs": [],
   "source": [
    "data = pd.read_csv('hypothesis.csv', sep=',')"
   ]
  },
  {
   "cell_type": "code",
   "execution_count": 3,
   "metadata": {},
   "outputs": [
    {
     "name": "stdout",
     "output_type": "stream",
     "text": [
      "<class 'pandas.core.frame.DataFrame'>\n",
      "RangeIndex: 9 entries, 0 to 8\n",
      "Data columns (total 5 columns):\n",
      " #   Column      Non-Null Count  Dtype \n",
      "---  ------      --------------  ----- \n",
      " 0   Hypothesis  9 non-null      object\n",
      " 1   Reach       9 non-null      int64 \n",
      " 2   Impact      9 non-null      int64 \n",
      " 3   Confidence  9 non-null      int64 \n",
      " 4   Efforts     9 non-null      int64 \n",
      "dtypes: int64(4), object(1)\n",
      "memory usage: 488.0+ bytes\n"
     ]
    }
   ],
   "source": [
    "data.info()"
   ]
  },
  {
   "cell_type": "code",
   "execution_count": 4,
   "metadata": {},
   "outputs": [
    {
     "data": {
      "text/html": [
       "<div>\n",
       "<style scoped>\n",
       "    .dataframe tbody tr th:only-of-type {\n",
       "        vertical-align: middle;\n",
       "    }\n",
       "\n",
       "    .dataframe tbody tr th {\n",
       "        vertical-align: top;\n",
       "    }\n",
       "\n",
       "    .dataframe thead th {\n",
       "        text-align: right;\n",
       "    }\n",
       "</style>\n",
       "<table border=\"1\" class=\"dataframe\">\n",
       "  <thead>\n",
       "    <tr style=\"text-align: right;\">\n",
       "      <th></th>\n",
       "      <th>Hypothesis</th>\n",
       "      <th>Reach</th>\n",
       "      <th>Impact</th>\n",
       "      <th>Confidence</th>\n",
       "      <th>Efforts</th>\n",
       "    </tr>\n",
       "  </thead>\n",
       "  <tbody>\n",
       "    <tr>\n",
       "      <th>0</th>\n",
       "      <td>Добавить два новых канала привлечения трафика, что позволит привлекать на 30% больше пользователей</td>\n",
       "      <td>3</td>\n",
       "      <td>10</td>\n",
       "      <td>8</td>\n",
       "      <td>6</td>\n",
       "    </tr>\n",
       "    <tr>\n",
       "      <th>1</th>\n",
       "      <td>Запустить собственную службу доставки, что сократит срок доставки заказов</td>\n",
       "      <td>2</td>\n",
       "      <td>5</td>\n",
       "      <td>4</td>\n",
       "      <td>10</td>\n",
       "    </tr>\n",
       "    <tr>\n",
       "      <th>2</th>\n",
       "      <td>Добавить блоки рекомендаций товаров на сайт интернет магазина, чтобы повысить конверсию и средний чек заказа</td>\n",
       "      <td>8</td>\n",
       "      <td>3</td>\n",
       "      <td>7</td>\n",
       "      <td>3</td>\n",
       "    </tr>\n",
       "    <tr>\n",
       "      <th>3</th>\n",
       "      <td>Изменить структура категорий, что увеличит конверсию, т.к. пользователи быстрее найдут нужный товар</td>\n",
       "      <td>8</td>\n",
       "      <td>3</td>\n",
       "      <td>3</td>\n",
       "      <td>8</td>\n",
       "    </tr>\n",
       "    <tr>\n",
       "      <th>4</th>\n",
       "      <td>Изменить цвет фона главной страницы, чтобы увеличить вовлеченность пользователей</td>\n",
       "      <td>3</td>\n",
       "      <td>1</td>\n",
       "      <td>1</td>\n",
       "      <td>1</td>\n",
       "    </tr>\n",
       "    <tr>\n",
       "      <th>5</th>\n",
       "      <td>Добавить страницу отзывов клиентов о магазине, что позволит увеличить количество заказов</td>\n",
       "      <td>3</td>\n",
       "      <td>2</td>\n",
       "      <td>2</td>\n",
       "      <td>3</td>\n",
       "    </tr>\n",
       "    <tr>\n",
       "      <th>6</th>\n",
       "      <td>Показать на главной странице баннеры с актуальными акциями и распродажами, чтобы увеличить конверсию</td>\n",
       "      <td>5</td>\n",
       "      <td>3</td>\n",
       "      <td>8</td>\n",
       "      <td>3</td>\n",
       "    </tr>\n",
       "    <tr>\n",
       "      <th>7</th>\n",
       "      <td>Добавить форму подписки на все основные страницы, чтобы собрать базу клиентов для email-рассылок</td>\n",
       "      <td>10</td>\n",
       "      <td>7</td>\n",
       "      <td>8</td>\n",
       "      <td>5</td>\n",
       "    </tr>\n",
       "    <tr>\n",
       "      <th>8</th>\n",
       "      <td>Запустить акцию, дающую скидку на товар в день рождения</td>\n",
       "      <td>1</td>\n",
       "      <td>9</td>\n",
       "      <td>9</td>\n",
       "      <td>5</td>\n",
       "    </tr>\n",
       "  </tbody>\n",
       "</table>\n",
       "</div>"
      ],
      "text/plain": [
       "                                                                                                     Hypothesis  \\\n",
       "0            Добавить два новых канала привлечения трафика, что позволит привлекать на 30% больше пользователей   \n",
       "1                                     Запустить собственную службу доставки, что сократит срок доставки заказов   \n",
       "2  Добавить блоки рекомендаций товаров на сайт интернет магазина, чтобы повысить конверсию и средний чек заказа   \n",
       "3           Изменить структура категорий, что увеличит конверсию, т.к. пользователи быстрее найдут нужный товар   \n",
       "4                              Изменить цвет фона главной страницы, чтобы увеличить вовлеченность пользователей   \n",
       "5                      Добавить страницу отзывов клиентов о магазине, что позволит увеличить количество заказов   \n",
       "6          Показать на главной странице баннеры с актуальными акциями и распродажами, чтобы увеличить конверсию   \n",
       "7              Добавить форму подписки на все основные страницы, чтобы собрать базу клиентов для email-рассылок   \n",
       "8                                                       Запустить акцию, дающую скидку на товар в день рождения   \n",
       "\n",
       "   Reach  Impact  Confidence  Efforts  \n",
       "0      3      10           8        6  \n",
       "1      2       5           4       10  \n",
       "2      8       3           7        3  \n",
       "3      8       3           3        8  \n",
       "4      3       1           1        1  \n",
       "5      3       2           2        3  \n",
       "6      5       3           8        3  \n",
       "7     10       7           8        5  \n",
       "8      1       9           9        5  "
      ]
     },
     "metadata": {},
     "output_type": "display_data"
    }
   ],
   "source": [
    "display(data)"
   ]
  },
  {
   "cell_type": "markdown",
   "metadata": {},
   "source": [
    "Приведем название столбцов к нижнему регистру"
   ]
  },
  {
   "cell_type": "code",
   "execution_count": 5,
   "metadata": {},
   "outputs": [
    {
     "data": {
      "text/html": [
       "<div>\n",
       "<style scoped>\n",
       "    .dataframe tbody tr th:only-of-type {\n",
       "        vertical-align: middle;\n",
       "    }\n",
       "\n",
       "    .dataframe tbody tr th {\n",
       "        vertical-align: top;\n",
       "    }\n",
       "\n",
       "    .dataframe thead th {\n",
       "        text-align: right;\n",
       "    }\n",
       "</style>\n",
       "<table border=\"1\" class=\"dataframe\">\n",
       "  <thead>\n",
       "    <tr style=\"text-align: right;\">\n",
       "      <th></th>\n",
       "      <th>hypothesis</th>\n",
       "      <th>reach</th>\n",
       "      <th>impact</th>\n",
       "      <th>confidence</th>\n",
       "      <th>efforts</th>\n",
       "    </tr>\n",
       "  </thead>\n",
       "  <tbody>\n",
       "    <tr>\n",
       "      <th>0</th>\n",
       "      <td>Добавить два новых канала привлечения трафика, что позволит привлекать на 30% больше пользователей</td>\n",
       "      <td>3</td>\n",
       "      <td>10</td>\n",
       "      <td>8</td>\n",
       "      <td>6</td>\n",
       "    </tr>\n",
       "    <tr>\n",
       "      <th>1</th>\n",
       "      <td>Запустить собственную службу доставки, что сократит срок доставки заказов</td>\n",
       "      <td>2</td>\n",
       "      <td>5</td>\n",
       "      <td>4</td>\n",
       "      <td>10</td>\n",
       "    </tr>\n",
       "    <tr>\n",
       "      <th>2</th>\n",
       "      <td>Добавить блоки рекомендаций товаров на сайт интернет магазина, чтобы повысить конверсию и средний чек заказа</td>\n",
       "      <td>8</td>\n",
       "      <td>3</td>\n",
       "      <td>7</td>\n",
       "      <td>3</td>\n",
       "    </tr>\n",
       "    <tr>\n",
       "      <th>3</th>\n",
       "      <td>Изменить структура категорий, что увеличит конверсию, т.к. пользователи быстрее найдут нужный товар</td>\n",
       "      <td>8</td>\n",
       "      <td>3</td>\n",
       "      <td>3</td>\n",
       "      <td>8</td>\n",
       "    </tr>\n",
       "    <tr>\n",
       "      <th>4</th>\n",
       "      <td>Изменить цвет фона главной страницы, чтобы увеличить вовлеченность пользователей</td>\n",
       "      <td>3</td>\n",
       "      <td>1</td>\n",
       "      <td>1</td>\n",
       "      <td>1</td>\n",
       "    </tr>\n",
       "  </tbody>\n",
       "</table>\n",
       "</div>"
      ],
      "text/plain": [
       "                                                                                                     hypothesis  \\\n",
       "0            Добавить два новых канала привлечения трафика, что позволит привлекать на 30% больше пользователей   \n",
       "1                                     Запустить собственную службу доставки, что сократит срок доставки заказов   \n",
       "2  Добавить блоки рекомендаций товаров на сайт интернет магазина, чтобы повысить конверсию и средний чек заказа   \n",
       "3           Изменить структура категорий, что увеличит конверсию, т.к. пользователи быстрее найдут нужный товар   \n",
       "4                              Изменить цвет фона главной страницы, чтобы увеличить вовлеченность пользователей   \n",
       "\n",
       "   reach  impact  confidence  efforts  \n",
       "0      3      10           8        6  \n",
       "1      2       5           4       10  \n",
       "2      8       3           7        3  \n",
       "3      8       3           3        8  \n",
       "4      3       1           1        1  "
      ]
     },
     "execution_count": 5,
     "metadata": {},
     "output_type": "execute_result"
    }
   ],
   "source": [
    "data.columns = data.columns.str.lower()\n",
    "data.head()"
   ]
  },
  {
   "cell_type": "markdown",
   "metadata": {},
   "source": [
    "## Приоритезация гипотез"
   ]
  },
  {
   "cell_type": "markdown",
   "metadata": {},
   "source": [
    "Далее применить фреймворки ICE и RICE для приоритизации гипотез и сравним результаты\n",
    "\n",
    "ICE рассчитывается как произведение impact на confidence деленное на efforts, где: Impact — насколько сильно изменение повлияет на пользователей, их опыт и удовлетворение от продукта;\n",
    "Confidence — насколько вы уверены, что это изменение повлияет на пользователей именно так;\n",
    "Efforts — сколько стоит протестировать эту гипотезу.\n",
    "\n",
    "RICE рассчитывается как произведение reach на impact на confidence деленное на efforts, где:\n",
    "Reach — скольких пользователей затронет изменение, которое вы хотите внести;\n"
   ]
  },
  {
   "cell_type": "code",
   "execution_count": 6,
   "metadata": {},
   "outputs": [
    {
     "data": {
      "text/html": [
       "<div>\n",
       "<style scoped>\n",
       "    .dataframe tbody tr th:only-of-type {\n",
       "        vertical-align: middle;\n",
       "    }\n",
       "\n",
       "    .dataframe tbody tr th {\n",
       "        vertical-align: top;\n",
       "    }\n",
       "\n",
       "    .dataframe thead th {\n",
       "        text-align: right;\n",
       "    }\n",
       "</style>\n",
       "<table border=\"1\" class=\"dataframe\">\n",
       "  <thead>\n",
       "    <tr style=\"text-align: right;\">\n",
       "      <th></th>\n",
       "      <th>hypothesis</th>\n",
       "      <th>ICE</th>\n",
       "    </tr>\n",
       "  </thead>\n",
       "  <tbody>\n",
       "    <tr>\n",
       "      <th>8</th>\n",
       "      <td>Запустить акцию, дающую скидку на товар в день рождения</td>\n",
       "      <td>16.200000</td>\n",
       "    </tr>\n",
       "    <tr>\n",
       "      <th>0</th>\n",
       "      <td>Добавить два новых канала привлечения трафика, что позволит привлекать на 30% больше пользователей</td>\n",
       "      <td>13.333333</td>\n",
       "    </tr>\n",
       "    <tr>\n",
       "      <th>7</th>\n",
       "      <td>Добавить форму подписки на все основные страницы, чтобы собрать базу клиентов для email-рассылок</td>\n",
       "      <td>11.200000</td>\n",
       "    </tr>\n",
       "    <tr>\n",
       "      <th>6</th>\n",
       "      <td>Показать на главной странице баннеры с актуальными акциями и распродажами, чтобы увеличить конверсию</td>\n",
       "      <td>8.000000</td>\n",
       "    </tr>\n",
       "    <tr>\n",
       "      <th>2</th>\n",
       "      <td>Добавить блоки рекомендаций товаров на сайт интернет магазина, чтобы повысить конверсию и средний чек заказа</td>\n",
       "      <td>7.000000</td>\n",
       "    </tr>\n",
       "    <tr>\n",
       "      <th>1</th>\n",
       "      <td>Запустить собственную службу доставки, что сократит срок доставки заказов</td>\n",
       "      <td>2.000000</td>\n",
       "    </tr>\n",
       "    <tr>\n",
       "      <th>5</th>\n",
       "      <td>Добавить страницу отзывов клиентов о магазине, что позволит увеличить количество заказов</td>\n",
       "      <td>1.333333</td>\n",
       "    </tr>\n",
       "    <tr>\n",
       "      <th>3</th>\n",
       "      <td>Изменить структура категорий, что увеличит конверсию, т.к. пользователи быстрее найдут нужный товар</td>\n",
       "      <td>1.125000</td>\n",
       "    </tr>\n",
       "    <tr>\n",
       "      <th>4</th>\n",
       "      <td>Изменить цвет фона главной страницы, чтобы увеличить вовлеченность пользователей</td>\n",
       "      <td>1.000000</td>\n",
       "    </tr>\n",
       "  </tbody>\n",
       "</table>\n",
       "</div>"
      ],
      "text/plain": [
       "                                                                                                     hypothesis  \\\n",
       "8                                                       Запустить акцию, дающую скидку на товар в день рождения   \n",
       "0            Добавить два новых канала привлечения трафика, что позволит привлекать на 30% больше пользователей   \n",
       "7              Добавить форму подписки на все основные страницы, чтобы собрать базу клиентов для email-рассылок   \n",
       "6          Показать на главной странице баннеры с актуальными акциями и распродажами, чтобы увеличить конверсию   \n",
       "2  Добавить блоки рекомендаций товаров на сайт интернет магазина, чтобы повысить конверсию и средний чек заказа   \n",
       "1                                     Запустить собственную службу доставки, что сократит срок доставки заказов   \n",
       "5                      Добавить страницу отзывов клиентов о магазине, что позволит увеличить количество заказов   \n",
       "3           Изменить структура категорий, что увеличит конверсию, т.к. пользователи быстрее найдут нужный товар   \n",
       "4                              Изменить цвет фона главной страницы, чтобы увеличить вовлеченность пользователей   \n",
       "\n",
       "         ICE  \n",
       "8  16.200000  \n",
       "0  13.333333  \n",
       "7  11.200000  \n",
       "6   8.000000  \n",
       "2   7.000000  \n",
       "1   2.000000  \n",
       "5   1.333333  \n",
       "3   1.125000  \n",
       "4   1.000000  "
      ]
     },
     "metadata": {},
     "output_type": "display_data"
    }
   ],
   "source": [
    "data['ICE']=data['impact']*data['confidence']/data['efforts']\n",
    "\n",
    "display(data[['hypothesis', 'ICE']].sort_values(by='ICE', ascending=False))\n"
   ]
  },
  {
   "cell_type": "code",
   "execution_count": 7,
   "metadata": {},
   "outputs": [
    {
     "data": {
      "text/html": [
       "<div>\n",
       "<style scoped>\n",
       "    .dataframe tbody tr th:only-of-type {\n",
       "        vertical-align: middle;\n",
       "    }\n",
       "\n",
       "    .dataframe tbody tr th {\n",
       "        vertical-align: top;\n",
       "    }\n",
       "\n",
       "    .dataframe thead th {\n",
       "        text-align: right;\n",
       "    }\n",
       "</style>\n",
       "<table border=\"1\" class=\"dataframe\">\n",
       "  <thead>\n",
       "    <tr style=\"text-align: right;\">\n",
       "      <th></th>\n",
       "      <th>hypothesis</th>\n",
       "      <th>RICE</th>\n",
       "    </tr>\n",
       "  </thead>\n",
       "  <tbody>\n",
       "    <tr>\n",
       "      <th>7</th>\n",
       "      <td>Добавить форму подписки на все основные страницы, чтобы собрать базу клиентов для email-рассылок</td>\n",
       "      <td>112.0</td>\n",
       "    </tr>\n",
       "    <tr>\n",
       "      <th>2</th>\n",
       "      <td>Добавить блоки рекомендаций товаров на сайт интернет магазина, чтобы повысить конверсию и средний чек заказа</td>\n",
       "      <td>56.0</td>\n",
       "    </tr>\n",
       "    <tr>\n",
       "      <th>0</th>\n",
       "      <td>Добавить два новых канала привлечения трафика, что позволит привлекать на 30% больше пользователей</td>\n",
       "      <td>40.0</td>\n",
       "    </tr>\n",
       "    <tr>\n",
       "      <th>6</th>\n",
       "      <td>Показать на главной странице баннеры с актуальными акциями и распродажами, чтобы увеличить конверсию</td>\n",
       "      <td>40.0</td>\n",
       "    </tr>\n",
       "    <tr>\n",
       "      <th>8</th>\n",
       "      <td>Запустить акцию, дающую скидку на товар в день рождения</td>\n",
       "      <td>16.2</td>\n",
       "    </tr>\n",
       "    <tr>\n",
       "      <th>3</th>\n",
       "      <td>Изменить структура категорий, что увеличит конверсию, т.к. пользователи быстрее найдут нужный товар</td>\n",
       "      <td>9.0</td>\n",
       "    </tr>\n",
       "    <tr>\n",
       "      <th>1</th>\n",
       "      <td>Запустить собственную службу доставки, что сократит срок доставки заказов</td>\n",
       "      <td>4.0</td>\n",
       "    </tr>\n",
       "    <tr>\n",
       "      <th>5</th>\n",
       "      <td>Добавить страницу отзывов клиентов о магазине, что позволит увеличить количество заказов</td>\n",
       "      <td>4.0</td>\n",
       "    </tr>\n",
       "    <tr>\n",
       "      <th>4</th>\n",
       "      <td>Изменить цвет фона главной страницы, чтобы увеличить вовлеченность пользователей</td>\n",
       "      <td>3.0</td>\n",
       "    </tr>\n",
       "  </tbody>\n",
       "</table>\n",
       "</div>"
      ],
      "text/plain": [
       "                                                                                                     hypothesis  \\\n",
       "7              Добавить форму подписки на все основные страницы, чтобы собрать базу клиентов для email-рассылок   \n",
       "2  Добавить блоки рекомендаций товаров на сайт интернет магазина, чтобы повысить конверсию и средний чек заказа   \n",
       "0            Добавить два новых канала привлечения трафика, что позволит привлекать на 30% больше пользователей   \n",
       "6          Показать на главной странице баннеры с актуальными акциями и распродажами, чтобы увеличить конверсию   \n",
       "8                                                       Запустить акцию, дающую скидку на товар в день рождения   \n",
       "3           Изменить структура категорий, что увеличит конверсию, т.к. пользователи быстрее найдут нужный товар   \n",
       "1                                     Запустить собственную службу доставки, что сократит срок доставки заказов   \n",
       "5                      Добавить страницу отзывов клиентов о магазине, что позволит увеличить количество заказов   \n",
       "4                              Изменить цвет фона главной страницы, чтобы увеличить вовлеченность пользователей   \n",
       "\n",
       "    RICE  \n",
       "7  112.0  \n",
       "2   56.0  \n",
       "0   40.0  \n",
       "6   40.0  \n",
       "8   16.2  \n",
       "3    9.0  \n",
       "1    4.0  \n",
       "5    4.0  \n",
       "4    3.0  "
      ]
     },
     "metadata": {},
     "output_type": "display_data"
    }
   ],
   "source": [
    "data['RICE']=data['reach']*data['impact']*data['confidence']/data['efforts']\n",
    "\n",
    "display(data[['hypothesis', 'RICE']].sort_values(by='RICE', ascending=False))"
   ]
  },
  {
   "cell_type": "markdown",
   "metadata": {},
   "source": [
    "Видим, что по методу ICE на первом месте оказалась гипотеза 8, а по методу RICE  гипотеза 7. Разница между этим методами состоит в том, что в методе RICE дополнительно умножают на параметр Reach, который показывает скольких пользователей затронет изменение, которое мы хотим внести. У гипотезы 7 параметр Reach высокий и равен 10, а у 8 гипотезы всего 1. Аналогичным образом параметр Reach повлиял и на изменение в приоритезации других гипотезах при расчете RICE. "
   ]
  },
  {
   "cell_type": "markdown",
   "metadata": {},
   "source": [
    "## A/B тестирование\n"
   ]
  },
  {
   "cell_type": "markdown",
   "metadata": {},
   "source": [
    "Изучим данные для 2 части:"
   ]
  },
  {
   "cell_type": "code",
   "execution_count": 8,
   "metadata": {},
   "outputs": [],
   "source": [
    "orders = pd.read_csv('orders.csv', sep=',')"
   ]
  },
  {
   "cell_type": "code",
   "execution_count": 9,
   "metadata": {},
   "outputs": [],
   "source": [
    "visitors = pd.read_csv('visitors.csv', sep=',')"
   ]
  },
  {
   "cell_type": "code",
   "execution_count": 10,
   "metadata": {},
   "outputs": [
    {
     "data": {
      "text/html": [
       "<div>\n",
       "<style scoped>\n",
       "    .dataframe tbody tr th:only-of-type {\n",
       "        vertical-align: middle;\n",
       "    }\n",
       "\n",
       "    .dataframe tbody tr th {\n",
       "        vertical-align: top;\n",
       "    }\n",
       "\n",
       "    .dataframe thead th {\n",
       "        text-align: right;\n",
       "    }\n",
       "</style>\n",
       "<table border=\"1\" class=\"dataframe\">\n",
       "  <thead>\n",
       "    <tr style=\"text-align: right;\">\n",
       "      <th></th>\n",
       "      <th>transactionId</th>\n",
       "      <th>visitorId</th>\n",
       "      <th>date</th>\n",
       "      <th>revenue</th>\n",
       "      <th>group</th>\n",
       "    </tr>\n",
       "  </thead>\n",
       "  <tbody>\n",
       "    <tr>\n",
       "      <th>0</th>\n",
       "      <td>3667963787</td>\n",
       "      <td>3312258926</td>\n",
       "      <td>2019-08-15</td>\n",
       "      <td>1650</td>\n",
       "      <td>B</td>\n",
       "    </tr>\n",
       "    <tr>\n",
       "      <th>1</th>\n",
       "      <td>2804400009</td>\n",
       "      <td>3642806036</td>\n",
       "      <td>2019-08-15</td>\n",
       "      <td>730</td>\n",
       "      <td>B</td>\n",
       "    </tr>\n",
       "    <tr>\n",
       "      <th>2</th>\n",
       "      <td>2961555356</td>\n",
       "      <td>4069496402</td>\n",
       "      <td>2019-08-15</td>\n",
       "      <td>400</td>\n",
       "      <td>A</td>\n",
       "    </tr>\n",
       "    <tr>\n",
       "      <th>3</th>\n",
       "      <td>3797467345</td>\n",
       "      <td>1196621759</td>\n",
       "      <td>2019-08-15</td>\n",
       "      <td>9759</td>\n",
       "      <td>B</td>\n",
       "    </tr>\n",
       "    <tr>\n",
       "      <th>4</th>\n",
       "      <td>2282983706</td>\n",
       "      <td>2322279887</td>\n",
       "      <td>2019-08-15</td>\n",
       "      <td>2308</td>\n",
       "      <td>B</td>\n",
       "    </tr>\n",
       "    <tr>\n",
       "      <th>...</th>\n",
       "      <td>...</td>\n",
       "      <td>...</td>\n",
       "      <td>...</td>\n",
       "      <td>...</td>\n",
       "      <td>...</td>\n",
       "    </tr>\n",
       "    <tr>\n",
       "      <th>1192</th>\n",
       "      <td>2662137336</td>\n",
       "      <td>3733762160</td>\n",
       "      <td>2019-08-14</td>\n",
       "      <td>6490</td>\n",
       "      <td>B</td>\n",
       "    </tr>\n",
       "    <tr>\n",
       "      <th>1193</th>\n",
       "      <td>2203539145</td>\n",
       "      <td>370388673</td>\n",
       "      <td>2019-08-14</td>\n",
       "      <td>3190</td>\n",
       "      <td>A</td>\n",
       "    </tr>\n",
       "    <tr>\n",
       "      <th>1194</th>\n",
       "      <td>1807773912</td>\n",
       "      <td>573423106</td>\n",
       "      <td>2019-08-14</td>\n",
       "      <td>10550</td>\n",
       "      <td>A</td>\n",
       "    </tr>\n",
       "    <tr>\n",
       "      <th>1195</th>\n",
       "      <td>1947021204</td>\n",
       "      <td>1614305549</td>\n",
       "      <td>2019-08-14</td>\n",
       "      <td>100</td>\n",
       "      <td>A</td>\n",
       "    </tr>\n",
       "    <tr>\n",
       "      <th>1196</th>\n",
       "      <td>3936777065</td>\n",
       "      <td>2108080724</td>\n",
       "      <td>2019-08-15</td>\n",
       "      <td>202740</td>\n",
       "      <td>B</td>\n",
       "    </tr>\n",
       "  </tbody>\n",
       "</table>\n",
       "<p>1197 rows × 5 columns</p>\n",
       "</div>"
      ],
      "text/plain": [
       "      transactionId   visitorId        date  revenue group\n",
       "0        3667963787  3312258926  2019-08-15     1650     B\n",
       "1        2804400009  3642806036  2019-08-15      730     B\n",
       "2        2961555356  4069496402  2019-08-15      400     A\n",
       "3        3797467345  1196621759  2019-08-15     9759     B\n",
       "4        2282983706  2322279887  2019-08-15     2308     B\n",
       "...             ...         ...         ...      ...   ...\n",
       "1192     2662137336  3733762160  2019-08-14     6490     B\n",
       "1193     2203539145   370388673  2019-08-14     3190     A\n",
       "1194     1807773912   573423106  2019-08-14    10550     A\n",
       "1195     1947021204  1614305549  2019-08-14      100     A\n",
       "1196     3936777065  2108080724  2019-08-15   202740     B\n",
       "\n",
       "[1197 rows x 5 columns]"
      ]
     },
     "metadata": {},
     "output_type": "display_data"
    }
   ],
   "source": [
    "display(orders)"
   ]
  },
  {
   "cell_type": "code",
   "execution_count": 11,
   "metadata": {},
   "outputs": [
    {
     "data": {
      "text/html": [
       "<div>\n",
       "<style scoped>\n",
       "    .dataframe tbody tr th:only-of-type {\n",
       "        vertical-align: middle;\n",
       "    }\n",
       "\n",
       "    .dataframe tbody tr th {\n",
       "        vertical-align: top;\n",
       "    }\n",
       "\n",
       "    .dataframe thead th {\n",
       "        text-align: right;\n",
       "    }\n",
       "</style>\n",
       "<table border=\"1\" class=\"dataframe\">\n",
       "  <thead>\n",
       "    <tr style=\"text-align: right;\">\n",
       "      <th></th>\n",
       "      <th>date</th>\n",
       "      <th>group</th>\n",
       "      <th>visitors</th>\n",
       "    </tr>\n",
       "  </thead>\n",
       "  <tbody>\n",
       "    <tr>\n",
       "      <th>0</th>\n",
       "      <td>2019-08-01</td>\n",
       "      <td>A</td>\n",
       "      <td>719</td>\n",
       "    </tr>\n",
       "    <tr>\n",
       "      <th>1</th>\n",
       "      <td>2019-08-02</td>\n",
       "      <td>A</td>\n",
       "      <td>619</td>\n",
       "    </tr>\n",
       "    <tr>\n",
       "      <th>2</th>\n",
       "      <td>2019-08-03</td>\n",
       "      <td>A</td>\n",
       "      <td>507</td>\n",
       "    </tr>\n",
       "    <tr>\n",
       "      <th>3</th>\n",
       "      <td>2019-08-04</td>\n",
       "      <td>A</td>\n",
       "      <td>717</td>\n",
       "    </tr>\n",
       "    <tr>\n",
       "      <th>4</th>\n",
       "      <td>2019-08-05</td>\n",
       "      <td>A</td>\n",
       "      <td>756</td>\n",
       "    </tr>\n",
       "    <tr>\n",
       "      <th>...</th>\n",
       "      <td>...</td>\n",
       "      <td>...</td>\n",
       "      <td>...</td>\n",
       "    </tr>\n",
       "    <tr>\n",
       "      <th>57</th>\n",
       "      <td>2019-08-27</td>\n",
       "      <td>B</td>\n",
       "      <td>720</td>\n",
       "    </tr>\n",
       "    <tr>\n",
       "      <th>58</th>\n",
       "      <td>2019-08-28</td>\n",
       "      <td>B</td>\n",
       "      <td>654</td>\n",
       "    </tr>\n",
       "    <tr>\n",
       "      <th>59</th>\n",
       "      <td>2019-08-29</td>\n",
       "      <td>B</td>\n",
       "      <td>531</td>\n",
       "    </tr>\n",
       "    <tr>\n",
       "      <th>60</th>\n",
       "      <td>2019-08-30</td>\n",
       "      <td>B</td>\n",
       "      <td>490</td>\n",
       "    </tr>\n",
       "    <tr>\n",
       "      <th>61</th>\n",
       "      <td>2019-08-31</td>\n",
       "      <td>B</td>\n",
       "      <td>718</td>\n",
       "    </tr>\n",
       "  </tbody>\n",
       "</table>\n",
       "<p>62 rows × 3 columns</p>\n",
       "</div>"
      ],
      "text/plain": [
       "          date group  visitors\n",
       "0   2019-08-01     A       719\n",
       "1   2019-08-02     A       619\n",
       "2   2019-08-03     A       507\n",
       "3   2019-08-04     A       717\n",
       "4   2019-08-05     A       756\n",
       "..         ...   ...       ...\n",
       "57  2019-08-27     B       720\n",
       "58  2019-08-28     B       654\n",
       "59  2019-08-29     B       531\n",
       "60  2019-08-30     B       490\n",
       "61  2019-08-31     B       718\n",
       "\n",
       "[62 rows x 3 columns]"
      ]
     },
     "metadata": {},
     "output_type": "display_data"
    }
   ],
   "source": [
    "display(visitors)"
   ]
  },
  {
   "cell_type": "code",
   "execution_count": 12,
   "metadata": {},
   "outputs": [
    {
     "name": "stdout",
     "output_type": "stream",
     "text": [
      "<class 'pandas.core.frame.DataFrame'>\n",
      "RangeIndex: 1197 entries, 0 to 1196\n",
      "Data columns (total 5 columns):\n",
      " #   Column         Non-Null Count  Dtype \n",
      "---  ------         --------------  ----- \n",
      " 0   transactionId  1197 non-null   int64 \n",
      " 1   visitorId      1197 non-null   int64 \n",
      " 2   date           1197 non-null   object\n",
      " 3   revenue        1197 non-null   int64 \n",
      " 4   group          1197 non-null   object\n",
      "dtypes: int64(3), object(2)\n",
      "memory usage: 46.9+ KB\n"
     ]
    }
   ],
   "source": [
    "orders.info()"
   ]
  },
  {
   "cell_type": "code",
   "execution_count": 13,
   "metadata": {},
   "outputs": [
    {
     "name": "stdout",
     "output_type": "stream",
     "text": [
      "<class 'pandas.core.frame.DataFrame'>\n",
      "RangeIndex: 62 entries, 0 to 61\n",
      "Data columns (total 3 columns):\n",
      " #   Column    Non-Null Count  Dtype \n",
      "---  ------    --------------  ----- \n",
      " 0   date      62 non-null     object\n",
      " 1   group     62 non-null     object\n",
      " 2   visitors  62 non-null     int64 \n",
      "dtypes: int64(1), object(2)\n",
      "memory usage: 1.6+ KB\n"
     ]
    }
   ],
   "source": [
    "visitors.info()"
   ]
  },
  {
   "cell_type": "code",
   "execution_count": 14,
   "metadata": {},
   "outputs": [
    {
     "data": {
      "text/plain": [
       "transactionId    0\n",
       "visitorId        0\n",
       "date             0\n",
       "revenue          0\n",
       "group            0\n",
       "dtype: int64"
      ]
     },
     "metadata": {},
     "output_type": "display_data"
    }
   ],
   "source": [
    "display(orders.isna().sum())"
   ]
  },
  {
   "cell_type": "code",
   "execution_count": 15,
   "metadata": {},
   "outputs": [
    {
     "data": {
      "text/plain": [
       "date        0\n",
       "group       0\n",
       "visitors    0\n",
       "dtype: int64"
      ]
     },
     "metadata": {},
     "output_type": "display_data"
    }
   ],
   "source": [
    "display(visitors.isna().sum())"
   ]
  },
  {
   "cell_type": "code",
   "execution_count": 16,
   "metadata": {},
   "outputs": [
    {
     "data": {
      "text/plain": [
       "0"
      ]
     },
     "metadata": {},
     "output_type": "display_data"
    }
   ],
   "source": [
    "display(orders.duplicated().sum()) "
   ]
  },
  {
   "cell_type": "code",
   "execution_count": 17,
   "metadata": {},
   "outputs": [
    {
     "data": {
      "text/plain": [
       "0"
      ]
     },
     "metadata": {},
     "output_type": "display_data"
    }
   ],
   "source": [
    "display(visitors.duplicated().sum()) "
   ]
  },
  {
   "cell_type": "markdown",
   "metadata": {},
   "source": [
    "Проверим, есть ли пользователи, попавшие в обе группы А и В, выведем список:"
   ]
  },
  {
   "cell_type": "code",
   "execution_count": 18,
   "metadata": {},
   "outputs": [
    {
     "data": {
      "text/plain": [
       "58"
      ]
     },
     "metadata": {},
     "output_type": "display_data"
    }
   ],
   "source": [
    "visitors_groups=orders.groupby('visitorId').agg({'group':'nunique'}).query('group == 2')\n",
    "display(len(visitors_groups))\n"
   ]
  },
  {
   "cell_type": "markdown",
   "metadata": {},
   "source": [
    "Пользователи, попавшие в 2 группы есть, удалим их и далее будем дальше строить анализ без них."
   ]
  },
  {
   "cell_type": "code",
   "execution_count": 19,
   "metadata": {},
   "outputs": [
    {
     "data": {
      "text/plain": [
       "0"
      ]
     },
     "metadata": {},
     "output_type": "display_data"
    }
   ],
   "source": [
    "groupA=orders.query('group==\"A\"')\n",
    "groupB=orders.query('group==\"B\"')\n",
    "crossing_visitors=set(groupA['visitorId']).intersection(set(groupB['visitorId']))\n",
    "orders=orders.query('visitorId not in @crossing_visitors').reset_index()\n",
    "\n",
    "visitors_groups=orders.groupby('visitorId').agg({'group':'nunique'}).query('group == 2')\n",
    "display(len(visitors_groups))"
   ]
  },
  {
   "cell_type": "markdown",
   "metadata": {},
   "source": [
    "Удаление прошло успешно, пользователей, попавших в две группы, не осталось."
   ]
  },
  {
   "cell_type": "markdown",
   "metadata": {},
   "source": [
    "Далее построим график кумулятивной выручки по группам:"
   ]
  },
  {
   "cell_type": "code",
   "execution_count": 20,
   "metadata": {},
   "outputs": [
    {
     "data": {
      "image/png": "[encoded data removed]",
      "text/plain": [
       "<Figure size 640x480 with 1 Axes>"
      ]
     },
     "metadata": {},
     "output_type": "display_data"
    }
   ],
   "source": [
    "\n",
    "orders['date'] = orders['date'].map(\n",
    "    lambda x: dt.datetime.strptime(x, '%Y-%m-%d')\n",
    ")\n",
    "\n",
    "\n",
    "visitors['date'] = visitors['date'].map(\n",
    "    lambda x: dt.datetime.strptime(x, '%Y-%m-%d')\n",
    ")\n",
    "\n",
    "datesGroups = orders[['date', 'group']].drop_duplicates()\n",
    "\n",
    "ordersAggregated = datesGroups.apply(\n",
    "    lambda x: orders[\n",
    "        np.logical_and(\n",
    "            orders['date'] <= x['date'], orders['group'] == x['group']\n",
    "        )\n",
    "    ].agg(\n",
    "        {\n",
    "            'date': 'max',\n",
    "            'group': 'max',\n",
    "            'transactionId': 'nunique',\n",
    "            'visitorId': 'nunique',\n",
    "            'revenue': 'sum',\n",
    "        }\n",
    "    ),\n",
    "    axis=1,\n",
    ").sort_values(by=['date', 'group'])\n",
    "\n",
    "visitorsAggregated = datesGroups.apply(\n",
    "    lambda x: visitors[\n",
    "        np.logical_and(\n",
    "            visitors['date'] <= x['date'], visitors['group'] == x['group']\n",
    "        )\n",
    "    ].agg({'date': 'max', 'group': 'max', 'visitors': 'sum'}),\n",
    "    axis=1,\n",
    ").sort_values(by=['date', 'group'])\n",
    "\n",
    "cumulativeData = ordersAggregated.merge(\n",
    "    visitorsAggregated, left_on=['date', 'group'], right_on=['date', 'group']\n",
    ")\n",
    "cumulativeData.columns = [\n",
    "    'date',\n",
    "    'group',\n",
    "    'orders',\n",
    "    'buyers',\n",
    "    'revenue',\n",
    "    'visitors',\n",
    "]\n",
    "\n",
    "\n",
    "\n",
    "\n",
    "\n",
    "cumulativeRevenueA = cumulativeData[cumulativeData['group']=='A'][['date','revenue', 'orders']]\n",
    "\n",
    "\n",
    "cumulativeRevenueB = cumulativeData[cumulativeData['group']=='B'][['date','revenue', 'orders']]\n",
    "\n",
    "\n",
    "plt.plot(cumulativeRevenueA['date'], cumulativeRevenueA['revenue'], label='A')\n",
    "\n",
    "\n",
    "plt.plot(cumulativeRevenueB['date'], cumulativeRevenueB['revenue'], label='B')\n",
    "\n",
    "\n",
    "plt.title('Кумулятивная выручка по группам')\n",
    "plt.xlabel('Дата')\n",
    "plt.ylabel('Кумулятивная выручка')\n",
    "plt.xticks(rotation=90)\n",
    "plt.legend();\n"
   ]
  },
  {
   "cell_type": "markdown",
   "metadata": {},
   "source": [
    "Выручка увеличивается в течение всего теста в группе А и в группе В. \n",
    "График выручки группы В в одной точке резко растет. Это может сигнализировать о всплесках числа заказов, либо о появлении очень дорогих заказов в выборке. \n"
   ]
  },
  {
   "cell_type": "markdown",
   "metadata": {},
   "source": [
    "Далее построим график кумулятивного среднего чека по группам:"
   ]
  },
  {
   "cell_type": "code",
   "execution_count": 21,
   "metadata": {},
   "outputs": [
    {
     "data": {
      "image/png": "[encoded data removed]",
      "text/plain": [
       "<Figure size 640x480 with 1 Axes>"
      ]
     },
     "metadata": {},
     "output_type": "display_data"
    }
   ],
   "source": [
    "plt.plot(cumulativeRevenueA['date'], cumulativeRevenueA['revenue']/cumulativeRevenueA['orders'], label='A')\n",
    "plt.plot(cumulativeRevenueB['date'], cumulativeRevenueB['revenue']/cumulativeRevenueB['orders'], label='B')\n",
    "plt.legend() \n",
    "plt.title('Кумулятивный средний чек по группам')\n",
    "plt.xlabel('Дата')\n",
    "plt.ylabel('Кумулятивный средний чек')\n",
    "plt.xticks(rotation=90);\n",
    "\n"
   ]
  },
  {
   "cell_type": "markdown",
   "metadata": {},
   "source": [
    "Также наблюдаем резкий рост среднего чека в одной точке в группе В. Возможно резкий всплеск на графике объясняется тем, что в группу B попали крупные заказы. Тогда кривой нужно больше данных, чтобы прийти к реальному среднему чеку и установиться на его уровне. В группе А наблюдаем тенденцию к росту, в группе В тенденцию к падению после скачка, однако средний чек выше в группе В."
   ]
  },
  {
   "cell_type": "markdown",
   "metadata": {},
   "source": [
    "Далее построим график относительного изменения кумулятивного среднего чека группы B к группе A:"
   ]
  },
  {
   "cell_type": "code",
   "execution_count": 22,
   "metadata": {},
   "outputs": [
    {
     "data": {
      "image/png": "[encoded data removed]",
      "text/plain": [
       "<Figure size 640x480 with 1 Axes>"
      ]
     },
     "metadata": {},
     "output_type": "display_data"
    }
   ],
   "source": [
    "mergedCumulativeRevenue = cumulativeRevenueA.merge(cumulativeRevenueB, left_on='date', right_on='date', how='left', suffixes=['A', 'B'])\n",
    "\n",
    "\n",
    "plt.plot(mergedCumulativeRevenue['date'], (mergedCumulativeRevenue['revenueB']/mergedCumulativeRevenue['ordersB'])/(mergedCumulativeRevenue['revenueA']/mergedCumulativeRevenue['ordersA'])-1, label=\"Относительное изменение кумулятивного среднего чека группы B к группе A\")\n",
    "plt.legend() \n",
    "\n",
    "plt.axhline(y=0, color='black', linestyle='--')\n",
    "\n",
    "plt.xlabel('Дата')\n",
    "\n",
    "plt.xticks(rotation=90);\n"
   ]
  },
  {
   "cell_type": "markdown",
   "metadata": {},
   "source": [
    "В нескольких точках график различия между сегментами резко меняются. Это говорит о крупных заказах или выбросах аномальных значений. После резкого скачка график имеет тенденцию к понижению."
   ]
  },
  {
   "cell_type": "markdown",
   "metadata": {},
   "source": [
    "Построим график кумулятивного среднего количества заказов по группам:"
   ]
  },
  {
   "cell_type": "code",
   "execution_count": 23,
   "metadata": {},
   "outputs": [
    {
     "data": {
      "image/png": "[encoded data removed]",
      "text/plain": [
       "<Figure size 640x480 with 1 Axes>"
      ]
     },
     "metadata": {},
     "output_type": "display_data"
    }
   ],
   "source": [
    "cumulativeData['conversion'] = cumulativeData['orders']/cumulativeData['visitors']\n",
    "\n",
    "\n",
    "cumulativeDataA = cumulativeData[cumulativeData['group']=='A']\n",
    "\n",
    "\n",
    "cumulativeDataB = cumulativeData[cumulativeData['group']=='B']\n",
    "\n",
    "\n",
    "plt.plot(cumulativeDataA['date'], cumulativeDataA['conversion'], label='A')\n",
    "plt.plot(cumulativeDataB['date'], cumulativeDataB['conversion'], label='B')\n",
    "plt.legend()\n",
    "\n",
    "\n",
    "\n",
    "plt.axis([\"2019-08-01\", '2019-09-01', 0.015, 0.037]) \n",
    "plt.title('Кумулятивное среднее количество заказов по группам')\n",
    "plt.xlabel('Дата')\n",
    "plt.ylabel('Кумулятивное среднее количество заказов')\n",
    "\n",
    "plt.xticks(rotation=90);"
   ]
  },
  {
   "cell_type": "markdown",
   "metadata": {},
   "source": [
    "Группы колебались около одного значения, но затем конверсия группы B вырвалась вперёд и зафиксировалась, а конверсия группы А просела и также зафиксировалась."
   ]
  },
  {
   "cell_type": "markdown",
   "metadata": {},
   "source": [
    "Построим график относительного изменения кумулятивного среднего количества заказов группы B к группе A:"
   ]
  },
  {
   "cell_type": "code",
   "execution_count": 24,
   "metadata": {},
   "outputs": [
    {
     "data": {
      "image/png": "[encoded data removed]",
      "text/plain": [
       "<Figure size 640x480 with 1 Axes>"
      ]
     },
     "metadata": {},
     "output_type": "display_data"
    }
   ],
   "source": [
    "mergedCumulativeConversions = cumulativeDataA[['date','conversion']].merge(cumulativeDataB[['date','conversion']], left_on='date', right_on='date', how='left', suffixes=['A', 'B'])\n",
    "\n",
    "plt.plot(mergedCumulativeConversions['date'], mergedCumulativeConversions['conversionB']/mergedCumulativeConversions['conversionA']-1, label=\"Относительный прирост кумулятивного среднего количества заказов группы B к группе A\")\n",
    "plt.legend()\n",
    "\n",
    "plt.axhline(y=0, color='black', linestyle='--')\n",
    "plt.axhline(y=-0.1, color='grey', linestyle='--')\n",
    "plt.axis([\"2019-08-01\", '2019-09-01', -0.15, 0.25]) \n",
    "\n",
    "plt.xlabel('Дата')\n",
    "\n",
    "\n",
    "\n",
    "plt.xticks(rotation=90);\n"
   ]
  },
  {
   "cell_type": "markdown",
   "metadata": {},
   "source": [
    "Наблюдаем бурный рост кумулятивного среднего количества заказов группы B к группе A"
   ]
  },
  {
   "cell_type": "markdown",
   "metadata": {},
   "source": [
    "Построим точечный график количества заказов по пользователям:"
   ]
  },
  {
   "cell_type": "code",
   "execution_count": 25,
   "metadata": {},
   "outputs": [
    {
     "data": {
      "text/plain": [
       "Text(0, 0.5, 'Количество заказов')"
      ]
     },
     "execution_count": 25,
     "metadata": {},
     "output_type": "execute_result"
    },
    {
     "data": {
      "image/png": "[encoded data removed]",
      "text/plain": [
       "<Figure size 640x480 with 1 Axes>"
      ]
     },
     "metadata": {},
     "output_type": "display_data"
    }
   ],
   "source": [
    "ordersByVisitors = (\n",
    "    orders.groupby('visitorId', as_index=False)\n",
    "    .agg({'transactionId': 'nunique'})\n",
    ")\n",
    "\n",
    "ordersByVisitors.columns = ['visitorId', 'orders'] \n",
    "    \n",
    "    \n",
    "    \n",
    "    \n",
    "x_values = pd.Series(range(0,len(ordersByVisitors)))\n",
    "\n",
    "plt.scatter(x_values, ordersByVisitors['orders']) \n",
    "plt.title('Количество заказов по пользователям')\n",
    "\n",
    "plt.ylabel('Количество заказов')\n"
   ]
  },
  {
   "cell_type": "markdown",
   "metadata": {},
   "source": [
    "Много пользователей с 1 заказом"
   ]
  },
  {
   "cell_type": "markdown",
   "metadata": {},
   "source": [
    "Посчитаем 95-й и 99-й перцентили количества заказов на пользователя: "
   ]
  },
  {
   "cell_type": "code",
   "execution_count": 26,
   "metadata": {},
   "outputs": [
    {
     "data": {
      "text/plain": [
       "array([1., 2.])"
      ]
     },
     "metadata": {},
     "output_type": "display_data"
    }
   ],
   "source": [
    "display(np.percentile(ordersByVisitors['orders'], [95, 99])) "
   ]
  },
  {
   "cell_type": "markdown",
   "metadata": {},
   "source": [
    "Не более 5% пользователей оформляли больше чем 1 заказа. И 1% пользователей заказывали более 2 раз."
   ]
  },
  {
   "cell_type": "markdown",
   "metadata": {},
   "source": [
    "Построим точечный график стоимостей заказов: "
   ]
  },
  {
   "cell_type": "code",
   "execution_count": 27,
   "metadata": {},
   "outputs": [
    {
     "data": {
      "text/plain": [
       "Text(0.5, 1.0, 'Стоимость заказов')"
      ]
     },
     "execution_count": 27,
     "metadata": {},
     "output_type": "execute_result"
    },
    {
     "data": {
      "image/png": "[encoded data removed]",
      "text/plain": [
       "<Figure size 640x480 with 1 Axes>"
      ]
     },
     "metadata": {},
     "output_type": "display_data"
    }
   ],
   "source": [
    "x_values = pd.Series(range(0,len(orders['revenue'])))\n",
    "plt.scatter(x_values, orders['revenue'])\n",
    "\n",
    "plt.title('Стоимость заказов')"
   ]
  },
  {
   "cell_type": "markdown",
   "metadata": {},
   "source": [
    "На графике видим совсем немного выбросов"
   ]
  },
  {
   "cell_type": "markdown",
   "metadata": {},
   "source": [
    "Посчитаем 95-й и 99-й перцентили стоимости заказов:"
   ]
  },
  {
   "cell_type": "code",
   "execution_count": 28,
   "metadata": {},
   "outputs": [
    {
     "data": {
      "text/plain": [
       "array([26785., 53904.])"
      ]
     },
     "metadata": {},
     "output_type": "display_data"
    }
   ],
   "source": [
    "display(np.percentile(orders['revenue'], [95, 99])) "
   ]
  },
  {
   "cell_type": "markdown",
   "metadata": {},
   "source": [
    "Не более 5% заказов дороже 26 785 рублей и не более 1% дороже 53 904 рублей."
   ]
  },
  {
   "cell_type": "markdown",
   "metadata": {},
   "source": [
    "Посчитаем статистическую значимость различий в среднем количестве заказов между группами по «сырым» данным, сначала подготовим данные. Нулевая гипотеза H0: различий в среднем количестве заказов между группами нет. Альтернативная гипотеза H1: различия в среднем количестве заказов между группами есть."
   ]
  },
  {
   "cell_type": "code",
   "execution_count": 29,
   "metadata": {},
   "outputs": [
    {
     "data": {
      "text/html": [
       "<div>\n",
       "<style scoped>\n",
       "    .dataframe tbody tr th:only-of-type {\n",
       "        vertical-align: middle;\n",
       "    }\n",
       "\n",
       "    .dataframe tbody tr th {\n",
       "        vertical-align: top;\n",
       "    }\n",
       "\n",
       "    .dataframe thead th {\n",
       "        text-align: right;\n",
       "    }\n",
       "</style>\n",
       "<table border=\"1\" class=\"dataframe\">\n",
       "  <thead>\n",
       "    <tr style=\"text-align: right;\">\n",
       "      <th></th>\n",
       "      <th>date</th>\n",
       "      <th>ordersPerDateA</th>\n",
       "      <th>revenuePerDateA</th>\n",
       "      <th>ordersPerDateB</th>\n",
       "      <th>revenuePerDateB</th>\n",
       "      <th>ordersCummulativeA</th>\n",
       "      <th>revenueCummulativeA</th>\n",
       "      <th>ordersCummulativeB</th>\n",
       "      <th>revenueCummulativeB</th>\n",
       "      <th>visitorsPerDateA</th>\n",
       "      <th>visitorsPerDateB</th>\n",
       "      <th>visitorsCummulativeA</th>\n",
       "      <th>visitorsCummulativeB</th>\n",
       "    </tr>\n",
       "  </thead>\n",
       "  <tbody>\n",
       "    <tr>\n",
       "      <th>0</th>\n",
       "      <td>2019-08-01</td>\n",
       "      <td>23</td>\n",
       "      <td>142779</td>\n",
       "      <td>17</td>\n",
       "      <td>59758</td>\n",
       "      <td>23</td>\n",
       "      <td>142779</td>\n",
       "      <td>17</td>\n",
       "      <td>59758</td>\n",
       "      <td>719</td>\n",
       "      <td>713</td>\n",
       "      <td>719</td>\n",
       "      <td>713</td>\n",
       "    </tr>\n",
       "    <tr>\n",
       "      <th>1</th>\n",
       "      <td>2019-08-02</td>\n",
       "      <td>19</td>\n",
       "      <td>91602</td>\n",
       "      <td>23</td>\n",
       "      <td>162043</td>\n",
       "      <td>42</td>\n",
       "      <td>234381</td>\n",
       "      <td>40</td>\n",
       "      <td>221801</td>\n",
       "      <td>619</td>\n",
       "      <td>581</td>\n",
       "      <td>1338</td>\n",
       "      <td>1294</td>\n",
       "    </tr>\n",
       "    <tr>\n",
       "      <th>2</th>\n",
       "      <td>2019-08-03</td>\n",
       "      <td>24</td>\n",
       "      <td>112473</td>\n",
       "      <td>14</td>\n",
       "      <td>67049</td>\n",
       "      <td>66</td>\n",
       "      <td>346854</td>\n",
       "      <td>54</td>\n",
       "      <td>288850</td>\n",
       "      <td>507</td>\n",
       "      <td>509</td>\n",
       "      <td>1845</td>\n",
       "      <td>1803</td>\n",
       "    </tr>\n",
       "    <tr>\n",
       "      <th>3</th>\n",
       "      <td>2019-08-04</td>\n",
       "      <td>11</td>\n",
       "      <td>41176</td>\n",
       "      <td>14</td>\n",
       "      <td>96890</td>\n",
       "      <td>77</td>\n",
       "      <td>388030</td>\n",
       "      <td>68</td>\n",
       "      <td>385740</td>\n",
       "      <td>717</td>\n",
       "      <td>770</td>\n",
       "      <td>2562</td>\n",
       "      <td>2573</td>\n",
       "    </tr>\n",
       "    <tr>\n",
       "      <th>4</th>\n",
       "      <td>2019-08-05</td>\n",
       "      <td>22</td>\n",
       "      <td>86383</td>\n",
       "      <td>21</td>\n",
       "      <td>89908</td>\n",
       "      <td>99</td>\n",
       "      <td>474413</td>\n",
       "      <td>89</td>\n",
       "      <td>475648</td>\n",
       "      <td>756</td>\n",
       "      <td>707</td>\n",
       "      <td>3318</td>\n",
       "      <td>3280</td>\n",
       "    </tr>\n",
       "  </tbody>\n",
       "</table>\n",
       "</div>"
      ],
      "text/plain": [
       "        date  ordersPerDateA  revenuePerDateA  ordersPerDateB  \\\n",
       "0 2019-08-01              23           142779              17   \n",
       "1 2019-08-02              19            91602              23   \n",
       "2 2019-08-03              24           112473              14   \n",
       "3 2019-08-04              11            41176              14   \n",
       "4 2019-08-05              22            86383              21   \n",
       "\n",
       "   revenuePerDateB  ordersCummulativeA  revenueCummulativeA  \\\n",
       "0            59758                  23               142779   \n",
       "1           162043                  42               234381   \n",
       "2            67049                  66               346854   \n",
       "3            96890                  77               388030   \n",
       "4            89908                  99               474413   \n",
       "\n",
       "   ordersCummulativeB  revenueCummulativeB  visitorsPerDateA  \\\n",
       "0                  17                59758               719   \n",
       "1                  40               221801               619   \n",
       "2                  54               288850               507   \n",
       "3                  68               385740               717   \n",
       "4                  89               475648               756   \n",
       "\n",
       "   visitorsPerDateB  visitorsCummulativeA  visitorsCummulativeB  \n",
       "0               713                   719                   713  \n",
       "1               581                  1338                  1294  \n",
       "2               509                  1845                  1803  \n",
       "3               770                  2562                  2573  \n",
       "4               707                  3318                  3280  "
      ]
     },
     "metadata": {},
     "output_type": "display_data"
    }
   ],
   "source": [
    "visitorsADaily = visitors[visitors['group'] == 'A'][['date', 'visitors']]\n",
    "visitorsADaily.columns = ['date', 'visitorsPerDateA']\n",
    "\n",
    "visitorsACummulative = visitorsADaily.apply(\n",
    "    lambda x: visitorsADaily[visitorsADaily['date'] <= x['date']].agg(\n",
    "        {'date': 'max', 'visitorsPerDateA': 'sum'}\n",
    "    ),\n",
    "    axis=1,\n",
    ")\n",
    "visitorsACummulative.columns = ['date', 'visitorsCummulativeA']\n",
    "\n",
    "visitorsBDaily = visitors[visitors['group'] == 'B'][['date', 'visitors']]\n",
    "visitorsBDaily.columns = ['date', 'visitorsPerDateB']\n",
    "\n",
    "visitorsBCummulative = visitorsBDaily.apply(\n",
    "    lambda x: visitorsBDaily[visitorsBDaily['date'] <= x['date']].agg(\n",
    "        {'date': 'max', 'visitorsPerDateB': 'sum'}\n",
    "    ),\n",
    "    axis=1,\n",
    ")\n",
    "visitorsBCummulative.columns = ['date', 'visitorsCummulativeB']\n",
    "\n",
    "ordersADaily = (\n",
    "    orders[orders['group'] == 'A'][['date', 'transactionId', 'visitorId', 'revenue']]\n",
    "    .groupby('date', as_index=False)\n",
    "    .agg({'transactionId': pd.Series.nunique, 'revenue': 'sum'})\n",
    ")\n",
    "ordersADaily.columns = ['date', 'ordersPerDateA', 'revenuePerDateA']\n",
    "\n",
    "ordersACummulative = ordersADaily.apply(\n",
    "    lambda x: ordersADaily[ordersADaily['date'] <= x['date']].agg(\n",
    "        {'date': 'max', 'ordersPerDateA': 'sum', 'revenuePerDateA': 'sum'}\n",
    "    ),\n",
    "    axis=1,\n",
    ").sort_values(by=['date'])\n",
    "ordersACummulative.columns = [\n",
    "    'date',\n",
    "    'ordersCummulativeA',\n",
    "    'revenueCummulativeA',\n",
    "]\n",
    "\n",
    "ordersBDaily = (\n",
    "    orders[orders['group'] == 'B'][['date', 'transactionId', 'visitorId', 'revenue']]\n",
    "    .groupby('date', as_index=False)\n",
    "    .agg({'transactionId': pd.Series.nunique, 'revenue': 'sum'})\n",
    ")\n",
    "ordersBDaily.columns = ['date', 'ordersPerDateB', 'revenuePerDateB']\n",
    "\n",
    "ordersBCummulative = ordersBDaily.apply(\n",
    "    lambda x: ordersBDaily[ordersBDaily['date'] <= x['date']].agg(\n",
    "        {'date': 'max', 'ordersPerDateB': 'sum', 'revenuePerDateB': 'sum'}\n",
    "    ),\n",
    "    axis=1,\n",
    ").sort_values(by=['date'])\n",
    "ordersBCummulative.columns = [\n",
    "    'date',\n",
    "    'ordersCummulativeB',\n",
    "    'revenueCummulativeB',\n",
    "]\n",
    "\n",
    "data = (\n",
    "    ordersADaily.merge(\n",
    "        ordersBDaily, left_on='date', right_on='date', how='left'\n",
    "    )\n",
    "    .merge(ordersACummulative, left_on='date', right_on='date', how='left')\n",
    "    .merge(ordersBCummulative, left_on='date', right_on='date', how='left')\n",
    "    .merge(visitorsADaily, left_on='date', right_on='date', how='left')\n",
    "    .merge(visitorsBDaily, left_on='date', right_on='date', how='left')\n",
    "    .merge(visitorsACummulative, left_on='date', right_on='date', how='left')\n",
    "    .merge(visitorsBCummulative, left_on='date', right_on='date', how='left')\n",
    ")\n",
    "\n",
    "display(data.head(5)) \n"
   ]
  },
  {
   "cell_type": "code",
   "execution_count": 30,
   "metadata": {},
   "outputs": [
    {
     "data": {
      "text/plain": [
       "' p-value 0.011'"
      ]
     },
     "metadata": {},
     "output_type": "display_data"
    },
    {
     "data": {
      "text/plain": [
       "'Относительный выигрыш группы B  0.160'"
      ]
     },
     "metadata": {},
     "output_type": "display_data"
    }
   ],
   "source": [
    "ordersByUsersA = (\n",
    "    orders[orders['group'] == 'A']\n",
    "    .groupby('visitorId', as_index=False)\n",
    "    .agg({'transactionId': pd.Series.nunique})\n",
    ")\n",
    "ordersByUsersA.columns = ['visitorId', 'orders']\n",
    "\n",
    "ordersByUsersB = (\n",
    "    orders[orders['group'] == 'B']\n",
    "    .groupby('visitorId', as_index=False)\n",
    "    .agg({'transactionId': pd.Series.nunique})\n",
    ")\n",
    "ordersByUsersB.columns = ['visitorId', 'orders'] \n",
    "\n",
    "\n",
    "sampleA = pd.concat([ordersByUsersA['orders'],\n",
    "                     pd.Series(0, index=np.arange(data['visitorsPerDateA'].sum() - len(ordersByUsersA['orders'])), \n",
    "                               name='orders')],axis=0)\n",
    "\n",
    "sampleB = pd.concat([ordersByUsersB['orders'],pd.Series(0, index=np.arange(data['visitorsPerDateB'].sum() - len(ordersByUsersB['orders'])), name='orders')],axis=0)\n",
    "\n",
    "\n",
    "display(\" p-value {0:.3f}\".format(stats.mannwhitneyu(sampleA, sampleB)[1]))\n",
    "\n",
    "display(\"Относительный выигрыш группы B  {0:.3f}\".format(sampleB.mean() / sampleA.mean() - 1))\n",
    " \n",
    "\n"
   ]
  },
  {
   "cell_type": "markdown",
   "metadata": {},
   "source": [
    "По «сырым» данным есть различия в среднем числе заказов групп A и B тк 0.011 меньше p-value 0.05\n",
    "Значит, нулевую гипотезу о том, что статистически значимых различий в среднем числе заказов между группами нет, отвергаем. Относительный выигрыш группы B равен 16% \n"
   ]
  },
  {
   "cell_type": "markdown",
   "metadata": {},
   "source": [
    "Далее посчитаем статистическую значимость различий в среднем чеке заказа между группами по «сырым» данным. Нулевая гипотеза: различий в среднем чеке заказа  между группами нет. Альтернативная гипотеза: различия в среднем чеке между группами есть."
   ]
  },
  {
   "cell_type": "code",
   "execution_count": 31,
   "metadata": {},
   "outputs": [
    {
     "data": {
      "text/plain": [
       "'p-value 0.829'"
      ]
     },
     "metadata": {},
     "output_type": "display_data"
    },
    {
     "data": {
      "text/plain": [
       "'Средний чек группы B 0.287'"
      ]
     },
     "metadata": {},
     "output_type": "display_data"
    }
   ],
   "source": [
    "display('p-value {0:.3f}'.format(stats.mannwhitneyu(orders[orders['group']=='A']['revenue'], orders[orders['group']=='B']['revenue'])[1]))\n",
    "display('Средний чек группы B {0:.3f}'.format(orders[orders['group']=='B']['revenue'].mean()/orders[orders['group']=='A']['revenue'].mean()-1)) \n"
   ]
  },
  {
   "cell_type": "markdown",
   "metadata": {},
   "source": [
    "Так как 0.829 больше p-value 0.05 значит нет оснований отвергать нулевую гипотезу о том, что различий в среднем чеке заказа  между группами нет. Наблюдаемое различие среднего чека группы B от группы А в 28.7% не является статистически значимым."
   ]
  },
  {
   "cell_type": "markdown",
   "metadata": {},
   "source": [
    "Далее проведем анализ по «очищенным» данным, сделаем срезы пользователей с числом заказов больше 2 — usersWithManyOrders и пользователей, совершивших заказы дороже 28 000 — usersWithExpensiveOrders. Объединим их в таблице abnormalUsers."
   ]
  },
  {
   "cell_type": "code",
   "execution_count": 32,
   "metadata": {},
   "outputs": [
    {
     "data": {
      "text/plain": [
       "937    148427295\n",
       "792    204675465\n",
       "33     249864742\n",
       "586    358944393\n",
       "557    382846391\n",
       "Name: visitorId, dtype: int64"
      ]
     },
     "metadata": {},
     "output_type": "display_data"
    },
    {
     "data": {
      "text/plain": [
       "55"
      ]
     },
     "metadata": {},
     "output_type": "display_data"
    }
   ],
   "source": [
    "usersWithManyOrders = pd.concat(\n",
    "    [\n",
    "        ordersByUsersA[ordersByUsersA['orders'] > 2]['visitorId'],\n",
    "        ordersByUsersB[ordersByUsersB['orders'] > 2]['visitorId'],\n",
    "    ],\n",
    "    axis=0,\n",
    ")\n",
    "usersWithExpensiveOrders = orders[orders['revenue'] > 28000]['visitorId']\n",
    "abnormalUsers = (\n",
    "    pd.concat([usersWithManyOrders, usersWithExpensiveOrders], axis=0)\n",
    "    .drop_duplicates()\n",
    "    .sort_values()\n",
    ")\n",
    "display(abnormalUsers.head(5))\n",
    "display(abnormalUsers.shape[0]) \n"
   ]
  },
  {
   "cell_type": "markdown",
   "metadata": {},
   "source": [
    "Всего 55 аномальных пользователя"
   ]
  },
  {
   "cell_type": "markdown",
   "metadata": {},
   "source": [
    "Посчитаем статистическую значимость различий в среднем количестве заказов между группами по «очищенным» данным. Нулевая гипотеза: различий в среднем количестве заказов между группами нет. Альтернативная гипотеза: различия в среднем количестве заказов между группами есть."
   ]
  },
  {
   "cell_type": "code",
   "execution_count": 33,
   "metadata": {},
   "outputs": [
    {
     "data": {
      "text/plain": [
       "'0.009'"
      ]
     },
     "metadata": {},
     "output_type": "display_data"
    },
    {
     "data": {
      "text/plain": [
       "'0.189'"
      ]
     },
     "metadata": {},
     "output_type": "display_data"
    }
   ],
   "source": [
    "sampleAFiltered = pd.concat(\n",
    "    [\n",
    "        ordersByUsersA[\n",
    "            np.logical_not(ordersByUsersA['visitorId'].isin(abnormalUsers))\n",
    "        ]['orders'],\n",
    "        pd.Series(\n",
    "            0,\n",
    "            index=np.arange(\n",
    "                data['visitorsPerDateA'].sum() - len(ordersByUsersA['orders'])\n",
    "            ),\n",
    "            name='orders',\n",
    "        ),\n",
    "    ],\n",
    "    axis=0,\n",
    ")\n",
    "\n",
    "sampleBFiltered = pd.concat(\n",
    "    [\n",
    "        ordersByUsersB[\n",
    "            np.logical_not(ordersByUsersB['visitorId'].isin(abnormalUsers))\n",
    "        ]['orders'],\n",
    "        pd.Series(\n",
    "            0,\n",
    "            index=np.arange(\n",
    "                data['visitorsPerDateB'].sum() - len(ordersByUsersB['orders'])\n",
    "            ),\n",
    "            name='orders',\n",
    "        ),\n",
    "    ],\n",
    "    axis=0,\n",
    ") \n",
    "\n",
    "\n",
    "\n",
    "display('{0:.3f}'.format(stats.mannwhitneyu(sampleAFiltered, sampleBFiltered)[1]))\n",
    "display('{0:.3f}'.format(sampleBFiltered.mean()/sampleAFiltered.mean()-1)) \n"
   ]
  },
  {
   "cell_type": "markdown",
   "metadata": {},
   "source": [
    "По «очищенным» данным тоже есть различия в среднем числе заказов групп A и B тк 0.009 меньше p-value 0.05 Значит, нулевую гипотезу о том, что статистически значимых различий в среднем числе заказов между группами нет, отвергаем. Относительный выигрыш группы B равен 18.9%"
   ]
  },
  {
   "cell_type": "markdown",
   "metadata": {},
   "source": [
    "Посчитаем статистическую значимость различий в среднем чеке заказа между группами по «очищенным» данным. Нулевая гипотеза: различий в среднем чеке заказа  между группами нет. Альтернативная гипотеза: различия в среднем чеке между группами есть."
   ]
  },
  {
   "cell_type": "code",
   "execution_count": 34,
   "metadata": {},
   "outputs": [
    {
     "data": {
      "text/plain": [
       "'0.762'"
      ]
     },
     "metadata": {},
     "output_type": "display_data"
    },
    {
     "data": {
      "text/plain": [
       "'-0.022'"
      ]
     },
     "metadata": {},
     "output_type": "display_data"
    }
   ],
   "source": [
    "display(\n",
    "    '{0:.3f}'.format(\n",
    "        stats.mannwhitneyu(\n",
    "            orders[\n",
    "                np.logical_and(\n",
    "                    orders['group'] == 'A',\n",
    "                    np.logical_not(orders['visitorId'].isin(abnormalUsers)),\n",
    "                )\n",
    "            ]['revenue'],\n",
    "            orders[\n",
    "                np.logical_and(\n",
    "                    orders['group'] == 'B',\n",
    "                    np.logical_not(orders['visitorId'].isin(abnormalUsers)),\n",
    "                )\n",
    "            ]['revenue'],\n",
    "        )[1]\n",
    "    )\n",
    ")\n",
    "\n",
    "display(\n",
    "    \"{0:.3f}\".format(\n",
    "        orders[\n",
    "            np.logical_and(\n",
    "                orders['group'] == 'B',\n",
    "                np.logical_not(orders['visitorId'].isin(abnormalUsers)),\n",
    "            )\n",
    "        ]['revenue'].mean()\n",
    "        / orders[\n",
    "            np.logical_and(\n",
    "                orders['group'] == 'A',\n",
    "                np.logical_not(orders['visitorId'].isin(abnormalUsers)),\n",
    "            )\n",
    "        ]['revenue'].mean()\n",
    "        - 1\n",
    "    )\n",
    ") \n"
   ]
  },
  {
   "cell_type": "markdown",
   "metadata": {},
   "source": [
    "Так как 0.762 также больше p-value 0.05 значит нет оснований отвергать нулевую гипотезу о том, что различий в среднем чеке заказа между группами нет. Однако средний чек группы B стал на 2,2% ниже среднего чека группы A, что не является статистически значимым."
   ]
  },
  {
   "cell_type": "markdown",
   "metadata": {},
   "source": [
    "## Выводы\n",
    "* Есть статистически значимые различия по среднему количеству заказов между группами  по «сырым» и по данным после фильтрации аномалий;\n",
    "* Нет статистически значимого различия по среднему чеку между группами ни по «сырым», ни по данным после фильтрации аномалий;\n",
    "* По графику относительного изменения кумулятивного среднего количества заказов группы B к группе A видим бурный рост кумулятивного среднего количества заказов группы B к группе A, затем постепенное плавное снижение;\n",
    "* По графику относительного изменения кумулятивного среднего чека группы B к группе A наблюдаем, что в нескольких точках график различия между сегментами резко меняются. После резкого скачка график имеет тенденцию к понижению.\n",
    "* Принимая перечисленные выше выводы можем сказать, что по среднему чеку нет отличий, а по количеству заказов есть. Скачки в группе В можно объяснить увеличением количества заказов в группе В при том, что сумма заказа остается примерно такой же. Выручка также больше в группе В по сравнению с группой А. Делаем вывод о том, что тест прошел успешно.\n",
    "\n"
   ]
  },
  {
   "cell_type": "code",
   "execution_count": null,
   "metadata": {},
   "outputs": [],
   "source": []
  }
 ],
 "metadata": {
  "ExecuteTimeLog": [
   {
    "duration": 3,
    "start_time": "2022-11-10T14:09:14.441Z"
   },
   {
    "duration": 3,
    "start_time": "2022-11-10T15:20:20.795Z"
   },
   {
    "duration": 444,
    "start_time": "2022-11-10T15:20:51.895Z"
   },
   {
    "duration": 3,
    "start_time": "2022-11-10T15:22:35.855Z"
   },
   {
    "duration": 55,
    "start_time": "2022-11-10T15:23:03.760Z"
   },
   {
    "duration": 13,
    "start_time": "2022-11-10T15:23:40.260Z"
   },
   {
    "duration": 15,
    "start_time": "2022-11-10T15:23:56.904Z"
   },
   {
    "duration": 9,
    "start_time": "2022-11-10T15:24:54.856Z"
   },
   {
    "duration": 8,
    "start_time": "2022-11-10T15:26:13.503Z"
   },
   {
    "duration": 7,
    "start_time": "2022-11-10T15:26:17.755Z"
   },
   {
    "duration": 78,
    "start_time": "2022-11-10T15:27:42.538Z"
   },
   {
    "duration": 9,
    "start_time": "2022-11-10T15:28:07.969Z"
   },
   {
    "duration": 9,
    "start_time": "2022-11-10T15:28:29.567Z"
   },
   {
    "duration": 95,
    "start_time": "2022-11-10T15:42:13.015Z"
   },
   {
    "duration": 37,
    "start_time": "2022-11-10T15:42:22.746Z"
   },
   {
    "duration": 38,
    "start_time": "2022-11-10T15:42:39.078Z"
   },
   {
    "duration": 36,
    "start_time": "2022-11-10T15:42:46.211Z"
   },
   {
    "duration": 36,
    "start_time": "2022-11-10T15:42:58.121Z"
   },
   {
    "duration": 72,
    "start_time": "2022-11-10T15:43:20.576Z"
   },
   {
    "duration": 37,
    "start_time": "2022-11-10T15:43:26.507Z"
   },
   {
    "duration": 61,
    "start_time": "2022-11-10T15:43:40.650Z"
   },
   {
    "duration": 435,
    "start_time": "2022-11-10T15:58:57.276Z"
   },
   {
    "duration": 381,
    "start_time": "2022-11-10T15:59:47.698Z"
   },
   {
    "duration": 342,
    "start_time": "2022-11-10T16:01:24.415Z"
   },
   {
    "duration": 359,
    "start_time": "2022-11-10T16:02:29.758Z"
   },
   {
    "duration": 354,
    "start_time": "2022-11-10T16:36:28.998Z"
   },
   {
    "duration": 912,
    "start_time": "2022-11-10T16:36:53.915Z"
   },
   {
    "duration": 24,
    "start_time": "2022-11-10T16:36:54.829Z"
   },
   {
    "duration": 12,
    "start_time": "2022-11-10T16:36:54.855Z"
   },
   {
    "duration": 15,
    "start_time": "2022-11-10T16:36:54.870Z"
   },
   {
    "duration": 13,
    "start_time": "2022-11-10T16:36:54.887Z"
   },
   {
    "duration": 36,
    "start_time": "2022-11-10T16:36:54.903Z"
   },
   {
    "duration": 15,
    "start_time": "2022-11-10T16:36:54.941Z"
   },
   {
    "duration": 421,
    "start_time": "2022-11-10T16:36:54.958Z"
   },
   {
    "duration": 38,
    "start_time": "2022-11-10T16:39:25.636Z"
   },
   {
    "duration": 14,
    "start_time": "2022-11-10T16:40:02.454Z"
   },
   {
    "duration": 8,
    "start_time": "2022-11-10T16:40:20.913Z"
   },
   {
    "duration": 7,
    "start_time": "2022-11-10T16:40:40.235Z"
   },
   {
    "duration": 679,
    "start_time": "2022-11-10T16:40:47.917Z"
   },
   {
    "duration": 23,
    "start_time": "2022-11-10T16:40:48.598Z"
   },
   {
    "duration": 12,
    "start_time": "2022-11-10T16:40:48.623Z"
   },
   {
    "duration": 18,
    "start_time": "2022-11-10T16:40:48.637Z"
   },
   {
    "duration": 9,
    "start_time": "2022-11-10T16:40:48.656Z"
   },
   {
    "duration": 11,
    "start_time": "2022-11-10T16:40:48.668Z"
   },
   {
    "duration": 9,
    "start_time": "2022-11-10T16:40:48.681Z"
   },
   {
    "duration": 30,
    "start_time": "2022-11-10T16:40:48.722Z"
   },
   {
    "duration": 14,
    "start_time": "2022-11-10T16:40:48.753Z"
   },
   {
    "duration": 14,
    "start_time": "2022-11-10T16:40:48.769Z"
   },
   {
    "duration": 15,
    "start_time": "2022-11-10T16:40:48.784Z"
   },
   {
    "duration": 361,
    "start_time": "2022-11-10T16:40:48.800Z"
   },
   {
    "duration": 411,
    "start_time": "2022-11-10T16:41:36.300Z"
   },
   {
    "duration": 40,
    "start_time": "2022-11-10T16:42:04.991Z"
   },
   {
    "duration": 658,
    "start_time": "2022-11-10T16:42:12.843Z"
   },
   {
    "duration": 23,
    "start_time": "2022-11-10T16:42:13.504Z"
   },
   {
    "duration": 13,
    "start_time": "2022-11-10T16:42:13.529Z"
   },
   {
    "duration": 21,
    "start_time": "2022-11-10T16:42:13.544Z"
   },
   {
    "duration": 11,
    "start_time": "2022-11-10T16:42:13.568Z"
   },
   {
    "duration": 13,
    "start_time": "2022-11-10T16:42:13.581Z"
   },
   {
    "duration": 34,
    "start_time": "2022-11-10T16:42:13.596Z"
   },
   {
    "duration": 37,
    "start_time": "2022-11-10T16:42:13.632Z"
   },
   {
    "duration": 13,
    "start_time": "2022-11-10T16:42:13.671Z"
   },
   {
    "duration": 14,
    "start_time": "2022-11-10T16:42:13.686Z"
   },
   {
    "duration": 11,
    "start_time": "2022-11-10T16:42:13.701Z"
   },
   {
    "duration": 117,
    "start_time": "2022-11-10T16:42:13.715Z"
   },
   {
    "duration": 13,
    "start_time": "2022-11-10T16:42:52.508Z"
   },
   {
    "duration": 11,
    "start_time": "2022-11-10T16:43:23.380Z"
   },
   {
    "duration": 10,
    "start_time": "2022-11-10T16:43:39.903Z"
   },
   {
    "duration": 12,
    "start_time": "2022-11-10T16:43:49.140Z"
   },
   {
    "duration": 11,
    "start_time": "2022-11-10T17:37:06.386Z"
   },
   {
    "duration": 7,
    "start_time": "2022-11-10T17:37:31.229Z"
   },
   {
    "duration": 6,
    "start_time": "2022-11-10T17:37:33.817Z"
   },
   {
    "duration": 9,
    "start_time": "2022-11-10T17:38:40.182Z"
   },
   {
    "duration": 5,
    "start_time": "2022-11-10T17:38:48.578Z"
   },
   {
    "duration": 5,
    "start_time": "2022-11-10T17:38:58.829Z"
   },
   {
    "duration": 341,
    "start_time": "2022-11-10T17:41:20.760Z"
   },
   {
    "duration": 660,
    "start_time": "2022-11-10T17:47:08.514Z"
   },
   {
    "duration": 22,
    "start_time": "2022-11-10T17:47:09.176Z"
   },
   {
    "duration": 13,
    "start_time": "2022-11-10T17:47:09.199Z"
   },
   {
    "duration": 10,
    "start_time": "2022-11-10T17:47:09.214Z"
   },
   {
    "duration": 8,
    "start_time": "2022-11-10T17:47:09.225Z"
   },
   {
    "duration": 10,
    "start_time": "2022-11-10T17:47:09.235Z"
   },
   {
    "duration": 8,
    "start_time": "2022-11-10T17:47:09.246Z"
   },
   {
    "duration": 31,
    "start_time": "2022-11-10T17:47:09.255Z"
   },
   {
    "duration": 12,
    "start_time": "2022-11-10T17:47:09.288Z"
   },
   {
    "duration": 12,
    "start_time": "2022-11-10T17:47:09.303Z"
   },
   {
    "duration": 17,
    "start_time": "2022-11-10T17:47:09.316Z"
   },
   {
    "duration": 14,
    "start_time": "2022-11-10T17:47:09.334Z"
   },
   {
    "duration": 11,
    "start_time": "2022-11-10T17:47:09.350Z"
   },
   {
    "duration": 12,
    "start_time": "2022-11-10T17:47:09.363Z"
   },
   {
    "duration": 10,
    "start_time": "2022-11-10T17:47:09.376Z"
   },
   {
    "duration": 8,
    "start_time": "2022-11-10T17:47:09.388Z"
   },
   {
    "duration": 26,
    "start_time": "2022-11-10T17:47:09.398Z"
   },
   {
    "duration": 564,
    "start_time": "2022-11-10T17:47:09.425Z"
   },
   {
    "duration": 405,
    "start_time": "2022-11-10T17:47:29.844Z"
   },
   {
    "duration": 621,
    "start_time": "2022-11-10T17:47:39.138Z"
   },
   {
    "duration": 22,
    "start_time": "2022-11-10T17:47:39.762Z"
   },
   {
    "duration": 11,
    "start_time": "2022-11-10T17:47:39.785Z"
   },
   {
    "duration": 13,
    "start_time": "2022-11-10T17:47:39.798Z"
   },
   {
    "duration": 11,
    "start_time": "2022-11-10T17:47:39.814Z"
   },
   {
    "duration": 22,
    "start_time": "2022-11-10T17:47:39.827Z"
   },
   {
    "duration": 17,
    "start_time": "2022-11-10T17:47:39.851Z"
   },
   {
    "duration": 36,
    "start_time": "2022-11-10T17:47:39.869Z"
   },
   {
    "duration": 12,
    "start_time": "2022-11-10T17:47:39.907Z"
   },
   {
    "duration": 13,
    "start_time": "2022-11-10T17:47:39.921Z"
   },
   {
    "duration": 26,
    "start_time": "2022-11-10T17:47:39.935Z"
   },
   {
    "duration": 15,
    "start_time": "2022-11-10T17:47:39.963Z"
   },
   {
    "duration": 29,
    "start_time": "2022-11-10T17:47:39.980Z"
   },
   {
    "duration": 19,
    "start_time": "2022-11-10T17:47:40.012Z"
   },
   {
    "duration": 21,
    "start_time": "2022-11-10T17:47:40.033Z"
   },
   {
    "duration": 20,
    "start_time": "2022-11-10T17:47:40.056Z"
   },
   {
    "duration": 14,
    "start_time": "2022-11-10T17:47:40.078Z"
   },
   {
    "duration": 579,
    "start_time": "2022-11-10T17:47:40.094Z"
   },
   {
    "duration": 654,
    "start_time": "2022-11-10T17:48:19.217Z"
   },
   {
    "duration": 23,
    "start_time": "2022-11-10T17:48:19.873Z"
   },
   {
    "duration": 12,
    "start_time": "2022-11-10T17:48:19.897Z"
   },
   {
    "duration": 13,
    "start_time": "2022-11-10T17:48:19.910Z"
   },
   {
    "duration": 8,
    "start_time": "2022-11-10T17:48:19.926Z"
   },
   {
    "duration": 12,
    "start_time": "2022-11-10T17:48:19.935Z"
   },
   {
    "duration": 8,
    "start_time": "2022-11-10T17:48:19.948Z"
   },
   {
    "duration": 37,
    "start_time": "2022-11-10T17:48:19.958Z"
   },
   {
    "duration": 17,
    "start_time": "2022-11-10T17:48:19.996Z"
   },
   {
    "duration": 13,
    "start_time": "2022-11-10T17:48:20.014Z"
   },
   {
    "duration": 12,
    "start_time": "2022-11-10T17:48:20.028Z"
   },
   {
    "duration": 12,
    "start_time": "2022-11-10T17:48:20.041Z"
   },
   {
    "duration": 13,
    "start_time": "2022-11-10T17:48:20.055Z"
   },
   {
    "duration": 8,
    "start_time": "2022-11-10T17:48:20.070Z"
   },
   {
    "duration": 7,
    "start_time": "2022-11-10T17:48:20.080Z"
   },
   {
    "duration": 35,
    "start_time": "2022-11-10T17:48:20.089Z"
   },
   {
    "duration": 5,
    "start_time": "2022-11-10T17:48:20.125Z"
   },
   {
    "duration": 568,
    "start_time": "2022-11-10T17:48:20.132Z"
   },
   {
    "duration": 186,
    "start_time": "2022-11-10T17:54:44.954Z"
   },
   {
    "duration": 47,
    "start_time": "2022-11-10T20:04:02.528Z"
   },
   {
    "duration": 749,
    "start_time": "2022-11-10T20:04:15.980Z"
   },
   {
    "duration": 80,
    "start_time": "2022-11-10T20:04:16.731Z"
   },
   {
    "duration": 12,
    "start_time": "2022-11-10T20:04:16.813Z"
   },
   {
    "duration": 13,
    "start_time": "2022-11-10T20:04:16.826Z"
   },
   {
    "duration": 8,
    "start_time": "2022-11-10T20:04:16.840Z"
   },
   {
    "duration": 11,
    "start_time": "2022-11-10T20:04:16.849Z"
   },
   {
    "duration": 8,
    "start_time": "2022-11-10T20:04:16.861Z"
   },
   {
    "duration": 92,
    "start_time": "2022-11-10T20:04:16.871Z"
   },
   {
    "duration": 64,
    "start_time": "2022-11-10T20:04:16.964Z"
   },
   {
    "duration": 11,
    "start_time": "2022-11-10T20:04:17.030Z"
   },
   {
    "duration": 9,
    "start_time": "2022-11-10T20:04:17.043Z"
   },
   {
    "duration": 10,
    "start_time": "2022-11-10T20:04:17.053Z"
   },
   {
    "duration": 9,
    "start_time": "2022-11-10T20:04:17.065Z"
   },
   {
    "duration": 6,
    "start_time": "2022-11-10T20:04:17.076Z"
   },
   {
    "duration": 6,
    "start_time": "2022-11-10T20:04:17.084Z"
   },
   {
    "duration": 7,
    "start_time": "2022-11-10T20:04:17.091Z"
   },
   {
    "duration": 6,
    "start_time": "2022-11-10T20:04:17.099Z"
   },
   {
    "duration": 526,
    "start_time": "2022-11-10T20:04:17.106Z"
   },
   {
    "duration": 171,
    "start_time": "2022-11-10T20:04:17.634Z"
   },
   {
    "duration": 341,
    "start_time": "2022-11-10T20:04:17.807Z"
   },
   {
    "duration": 377,
    "start_time": "2022-11-10T20:13:57.806Z"
   },
   {
    "duration": 276,
    "start_time": "2022-11-10T20:14:25.344Z"
   },
   {
    "duration": 277,
    "start_time": "2022-11-10T20:14:35.163Z"
   },
   {
    "duration": 162,
    "start_time": "2022-11-10T20:14:47.108Z"
   },
   {
    "duration": 191,
    "start_time": "2022-11-10T20:14:53.694Z"
   },
   {
    "duration": 559,
    "start_time": "2022-11-10T20:15:04.593Z"
   },
   {
    "duration": 28,
    "start_time": "2022-11-10T20:15:05.154Z"
   },
   {
    "duration": 10,
    "start_time": "2022-11-10T20:15:05.184Z"
   },
   {
    "duration": 13,
    "start_time": "2022-11-10T20:15:05.196Z"
   },
   {
    "duration": 7,
    "start_time": "2022-11-10T20:15:05.211Z"
   },
   {
    "duration": 9,
    "start_time": "2022-11-10T20:15:05.220Z"
   },
   {
    "duration": 9,
    "start_time": "2022-11-10T20:15:05.231Z"
   },
   {
    "duration": 40,
    "start_time": "2022-11-10T20:15:05.241Z"
   },
   {
    "duration": 14,
    "start_time": "2022-11-10T20:15:05.283Z"
   },
   {
    "duration": 13,
    "start_time": "2022-11-10T20:15:05.300Z"
   },
   {
    "duration": 18,
    "start_time": "2022-11-10T20:15:05.315Z"
   },
   {
    "duration": 12,
    "start_time": "2022-11-10T20:15:05.335Z"
   },
   {
    "duration": 12,
    "start_time": "2022-11-10T20:15:05.349Z"
   },
   {
    "duration": 12,
    "start_time": "2022-11-10T20:15:05.363Z"
   },
   {
    "duration": 21,
    "start_time": "2022-11-10T20:15:05.377Z"
   },
   {
    "duration": 15,
    "start_time": "2022-11-10T20:15:05.400Z"
   },
   {
    "duration": 13,
    "start_time": "2022-11-10T20:15:05.416Z"
   },
   {
    "duration": 555,
    "start_time": "2022-11-10T20:15:05.431Z"
   },
   {
    "duration": 172,
    "start_time": "2022-11-10T20:15:05.987Z"
   },
   {
    "duration": 262,
    "start_time": "2022-11-10T20:15:06.161Z"
   },
   {
    "duration": 216,
    "start_time": "2022-11-10T20:17:00.910Z"
   },
   {
    "duration": 157,
    "start_time": "2022-11-10T20:17:33.501Z"
   },
   {
    "duration": 203,
    "start_time": "2022-11-10T20:18:01.453Z"
   },
   {
    "duration": 167,
    "start_time": "2022-11-10T20:18:38.708Z"
   },
   {
    "duration": 173,
    "start_time": "2022-11-10T20:19:11.076Z"
   },
   {
    "duration": 164,
    "start_time": "2022-11-10T20:19:47.755Z"
   },
   {
    "duration": 165,
    "start_time": "2022-11-10T20:20:03.531Z"
   },
   {
    "duration": 175,
    "start_time": "2022-11-10T20:20:11.945Z"
   },
   {
    "duration": 276,
    "start_time": "2022-11-10T20:23:04.230Z"
   },
   {
    "duration": 268,
    "start_time": "2022-11-10T20:23:14.474Z"
   },
   {
    "duration": 289,
    "start_time": "2022-11-10T20:24:25.649Z"
   },
   {
    "duration": 367,
    "start_time": "2022-11-10T20:24:31.010Z"
   },
   {
    "duration": 278,
    "start_time": "2022-11-10T20:27:17.098Z"
   },
   {
    "duration": 47,
    "start_time": "2022-11-11T10:54:43.691Z"
   },
   {
    "duration": 756,
    "start_time": "2022-11-11T10:55:20.551Z"
   },
   {
    "duration": 89,
    "start_time": "2022-11-11T10:55:21.309Z"
   },
   {
    "duration": 11,
    "start_time": "2022-11-11T10:55:21.400Z"
   },
   {
    "duration": 12,
    "start_time": "2022-11-11T10:55:21.413Z"
   },
   {
    "duration": 7,
    "start_time": "2022-11-11T10:55:21.426Z"
   },
   {
    "duration": 10,
    "start_time": "2022-11-11T10:55:21.435Z"
   },
   {
    "duration": 6,
    "start_time": "2022-11-11T10:55:21.447Z"
   },
   {
    "duration": 102,
    "start_time": "2022-11-11T10:55:21.455Z"
   },
   {
    "duration": 64,
    "start_time": "2022-11-11T10:55:21.559Z"
   },
   {
    "duration": 11,
    "start_time": "2022-11-11T10:55:21.625Z"
   },
   {
    "duration": 11,
    "start_time": "2022-11-11T10:55:21.637Z"
   },
   {
    "duration": 14,
    "start_time": "2022-11-11T10:55:21.649Z"
   },
   {
    "duration": 8,
    "start_time": "2022-11-11T10:55:21.664Z"
   },
   {
    "duration": 8,
    "start_time": "2022-11-11T10:55:21.673Z"
   },
   {
    "duration": 16,
    "start_time": "2022-11-11T10:55:21.683Z"
   },
   {
    "duration": 15,
    "start_time": "2022-11-11T10:55:21.701Z"
   },
   {
    "duration": 23,
    "start_time": "2022-11-11T10:55:21.718Z"
   },
   {
    "duration": 498,
    "start_time": "2022-11-11T10:55:21.743Z"
   },
   {
    "duration": 161,
    "start_time": "2022-11-11T10:55:22.242Z"
   },
   {
    "duration": 325,
    "start_time": "2022-11-11T10:55:22.405Z"
   },
   {
    "duration": 235,
    "start_time": "2022-11-11T10:55:22.732Z"
   },
   {
    "duration": 320,
    "start_time": "2022-11-11T10:55:22.968Z"
   },
   {
    "duration": 791,
    "start_time": "2022-11-11T10:55:23.290Z"
   },
   {
    "duration": 827,
    "start_time": "2022-11-11T10:59:32.529Z"
   },
   {
    "duration": 121,
    "start_time": "2022-11-11T10:59:50.968Z"
   },
   {
    "duration": 119,
    "start_time": "2022-11-11T11:02:04.091Z"
   },
   {
    "duration": 113,
    "start_time": "2022-11-11T11:02:26.831Z"
   },
   {
    "duration": 4,
    "start_time": "2022-11-11T11:15:05.816Z"
   },
   {
    "duration": 5,
    "start_time": "2022-11-11T11:18:18.470Z"
   },
   {
    "duration": 5,
    "start_time": "2022-11-11T11:18:46.798Z"
   },
   {
    "duration": 113,
    "start_time": "2022-11-11T11:22:03.967Z"
   },
   {
    "duration": 11,
    "start_time": "2022-11-11T11:23:50.459Z"
   },
   {
    "duration": 15,
    "start_time": "2022-11-11T11:26:19.484Z"
   },
   {
    "duration": 657,
    "start_time": "2022-11-11T11:26:40.128Z"
   },
   {
    "duration": 29,
    "start_time": "2022-11-11T11:26:40.786Z"
   },
   {
    "duration": 10,
    "start_time": "2022-11-11T11:26:40.816Z"
   },
   {
    "duration": 12,
    "start_time": "2022-11-11T11:26:40.828Z"
   },
   {
    "duration": 6,
    "start_time": "2022-11-11T11:26:40.842Z"
   },
   {
    "duration": 10,
    "start_time": "2022-11-11T11:26:40.849Z"
   },
   {
    "duration": 21,
    "start_time": "2022-11-11T11:26:40.861Z"
   },
   {
    "duration": 43,
    "start_time": "2022-11-11T11:26:40.883Z"
   },
   {
    "duration": 16,
    "start_time": "2022-11-11T11:26:40.927Z"
   },
   {
    "duration": 10,
    "start_time": "2022-11-11T11:26:40.945Z"
   },
   {
    "duration": 29,
    "start_time": "2022-11-11T11:26:40.956Z"
   },
   {
    "duration": 11,
    "start_time": "2022-11-11T11:26:40.987Z"
   },
   {
    "duration": 9,
    "start_time": "2022-11-11T11:26:41.000Z"
   },
   {
    "duration": 14,
    "start_time": "2022-11-11T11:26:41.010Z"
   },
   {
    "duration": 11,
    "start_time": "2022-11-11T11:26:41.025Z"
   },
   {
    "duration": 7,
    "start_time": "2022-11-11T11:26:41.038Z"
   },
   {
    "duration": 7,
    "start_time": "2022-11-11T11:26:41.046Z"
   },
   {
    "duration": 530,
    "start_time": "2022-11-11T11:26:41.054Z"
   },
   {
    "duration": 168,
    "start_time": "2022-11-11T11:26:41.585Z"
   },
   {
    "duration": 298,
    "start_time": "2022-11-11T11:26:41.755Z"
   },
   {
    "duration": 234,
    "start_time": "2022-11-11T11:26:42.058Z"
   },
   {
    "duration": 293,
    "start_time": "2022-11-11T11:26:42.293Z"
   },
   {
    "duration": 89,
    "start_time": "2022-11-11T11:26:42.588Z"
   },
   {
    "duration": 0,
    "start_time": "2022-11-11T11:26:42.679Z"
   },
   {
    "duration": 0,
    "start_time": "2022-11-11T11:26:42.680Z"
   },
   {
    "duration": 10,
    "start_time": "2022-11-11T11:27:03.255Z"
   },
   {
    "duration": 11,
    "start_time": "2022-11-11T11:29:45.806Z"
   },
   {
    "duration": 14,
    "start_time": "2022-11-11T11:29:54.612Z"
   },
   {
    "duration": 106,
    "start_time": "2022-11-11T11:30:06.525Z"
   },
   {
    "duration": 4,
    "start_time": "2022-11-11T11:30:43.531Z"
   },
   {
    "duration": 48,
    "start_time": "2022-11-12T16:55:43.052Z"
   },
   {
    "duration": 775,
    "start_time": "2022-11-12T16:56:03.050Z"
   },
   {
    "duration": 81,
    "start_time": "2022-11-12T16:56:03.828Z"
   },
   {
    "duration": 12,
    "start_time": "2022-11-12T16:56:03.910Z"
   },
   {
    "duration": 12,
    "start_time": "2022-11-12T16:56:03.924Z"
   },
   {
    "duration": 8,
    "start_time": "2022-11-12T16:56:03.938Z"
   },
   {
    "duration": 13,
    "start_time": "2022-11-12T16:56:03.947Z"
   },
   {
    "duration": 7,
    "start_time": "2022-11-12T16:56:03.962Z"
   },
   {
    "duration": 93,
    "start_time": "2022-11-12T16:56:03.970Z"
   },
   {
    "duration": 61,
    "start_time": "2022-11-12T16:56:04.065Z"
   },
   {
    "duration": 11,
    "start_time": "2022-11-12T16:56:04.127Z"
   },
   {
    "duration": 10,
    "start_time": "2022-11-12T16:56:04.140Z"
   },
   {
    "duration": 12,
    "start_time": "2022-11-12T16:56:04.151Z"
   },
   {
    "duration": 11,
    "start_time": "2022-11-12T16:56:04.164Z"
   },
   {
    "duration": 7,
    "start_time": "2022-11-12T16:56:04.178Z"
   },
   {
    "duration": 7,
    "start_time": "2022-11-12T16:56:04.186Z"
   },
   {
    "duration": 8,
    "start_time": "2022-11-12T16:56:04.194Z"
   },
   {
    "duration": 5,
    "start_time": "2022-11-12T16:56:04.203Z"
   },
   {
    "duration": 515,
    "start_time": "2022-11-12T16:56:04.209Z"
   },
   {
    "duration": 170,
    "start_time": "2022-11-12T16:56:04.725Z"
   },
   {
    "duration": 304,
    "start_time": "2022-11-12T16:56:04.897Z"
   },
   {
    "duration": 255,
    "start_time": "2022-11-12T16:56:05.203Z"
   },
   {
    "duration": 322,
    "start_time": "2022-11-12T16:56:05.459Z"
   },
   {
    "duration": 115,
    "start_time": "2022-11-12T16:56:05.783Z"
   },
   {
    "duration": 3,
    "start_time": "2022-11-12T16:56:05.900Z"
   },
   {
    "duration": 134,
    "start_time": "2022-11-12T16:56:05.905Z"
   },
   {
    "duration": 4,
    "start_time": "2022-11-12T16:56:06.040Z"
   },
   {
    "duration": 842,
    "start_time": "2022-11-12T16:56:06.046Z"
   },
   {
    "duration": 97,
    "start_time": "2022-11-12T19:20:28.415Z"
   },
   {
    "duration": 217,
    "start_time": "2022-11-12T19:24:04.006Z"
   },
   {
    "duration": 171,
    "start_time": "2022-11-12T19:24:14.896Z"
   },
   {
    "duration": 1137,
    "start_time": "2022-11-12T19:25:13.550Z"
   },
   {
    "duration": 26,
    "start_time": "2022-11-12T19:25:14.690Z"
   },
   {
    "duration": 13,
    "start_time": "2022-11-12T19:25:14.721Z"
   },
   {
    "duration": 27,
    "start_time": "2022-11-12T19:25:14.736Z"
   },
   {
    "duration": 10,
    "start_time": "2022-11-12T19:25:14.765Z"
   },
   {
    "duration": 30,
    "start_time": "2022-11-12T19:25:14.777Z"
   },
   {
    "duration": 30,
    "start_time": "2022-11-12T19:25:14.809Z"
   },
   {
    "duration": 59,
    "start_time": "2022-11-12T19:25:14.841Z"
   },
   {
    "duration": 15,
    "start_time": "2022-11-12T19:25:14.903Z"
   },
   {
    "duration": 12,
    "start_time": "2022-11-12T19:25:14.919Z"
   },
   {
    "duration": 27,
    "start_time": "2022-11-12T19:25:14.934Z"
   },
   {
    "duration": 26,
    "start_time": "2022-11-12T19:25:14.963Z"
   },
   {
    "duration": 17,
    "start_time": "2022-11-12T19:25:14.990Z"
   },
   {
    "duration": 34,
    "start_time": "2022-11-12T19:25:15.009Z"
   },
   {
    "duration": 15,
    "start_time": "2022-11-12T19:25:15.045Z"
   },
   {
    "duration": 29,
    "start_time": "2022-11-12T19:25:15.062Z"
   },
   {
    "duration": 12,
    "start_time": "2022-11-12T19:25:15.092Z"
   },
   {
    "duration": 602,
    "start_time": "2022-11-12T19:25:15.106Z"
   },
   {
    "duration": 204,
    "start_time": "2022-11-12T19:25:15.710Z"
   },
   {
    "duration": 275,
    "start_time": "2022-11-12T19:25:15.915Z"
   },
   {
    "duration": 225,
    "start_time": "2022-11-12T19:25:16.192Z"
   },
   {
    "duration": 374,
    "start_time": "2022-11-12T19:25:16.419Z"
   },
   {
    "duration": 143,
    "start_time": "2022-11-12T19:25:16.796Z"
   },
   {
    "duration": 6,
    "start_time": "2022-11-12T19:25:16.942Z"
   },
   {
    "duration": 180,
    "start_time": "2022-11-12T19:25:16.950Z"
   },
   {
    "duration": 5,
    "start_time": "2022-11-12T19:25:17.133Z"
   },
   {
    "duration": 256,
    "start_time": "2022-11-12T19:25:17.143Z"
   },
   {
    "duration": 186,
    "start_time": "2022-11-12T19:25:17.400Z"
   },
   {
    "duration": 10,
    "start_time": "2022-11-12T19:39:24.879Z"
   },
   {
    "duration": 9,
    "start_time": "2022-11-12T20:10:23.181Z"
   },
   {
    "duration": 10,
    "start_time": "2022-11-12T20:10:51.925Z"
   },
   {
    "duration": 9,
    "start_time": "2022-11-12T20:11:03.424Z"
   },
   {
    "duration": 9,
    "start_time": "2022-11-12T20:11:15.638Z"
   },
   {
    "duration": 9,
    "start_time": "2022-11-12T20:11:34.537Z"
   },
   {
    "duration": 9,
    "start_time": "2022-11-12T20:12:04.712Z"
   },
   {
    "duration": 890,
    "start_time": "2022-11-12T20:14:00.371Z"
   },
   {
    "duration": 30,
    "start_time": "2022-11-12T20:14:45.226Z"
   },
   {
    "duration": 14,
    "start_time": "2022-11-12T20:18:40.325Z"
   },
   {
    "duration": 1233,
    "start_time": "2022-11-14T12:46:18.983Z"
   },
   {
    "duration": 78,
    "start_time": "2022-11-14T12:46:20.218Z"
   },
   {
    "duration": 11,
    "start_time": "2022-11-14T12:46:20.298Z"
   },
   {
    "duration": 13,
    "start_time": "2022-11-14T12:46:20.311Z"
   },
   {
    "duration": 7,
    "start_time": "2022-11-14T12:46:20.327Z"
   },
   {
    "duration": 11,
    "start_time": "2022-11-14T12:46:20.336Z"
   },
   {
    "duration": 8,
    "start_time": "2022-11-14T12:46:20.348Z"
   },
   {
    "duration": 145,
    "start_time": "2022-11-14T12:46:20.357Z"
   },
   {
    "duration": 61,
    "start_time": "2022-11-14T12:46:20.503Z"
   },
   {
    "duration": 13,
    "start_time": "2022-11-14T12:46:20.566Z"
   },
   {
    "duration": 13,
    "start_time": "2022-11-14T12:46:20.581Z"
   },
   {
    "duration": 14,
    "start_time": "2022-11-14T12:46:20.596Z"
   },
   {
    "duration": 16,
    "start_time": "2022-11-14T12:46:20.612Z"
   },
   {
    "duration": 9,
    "start_time": "2022-11-14T12:46:20.631Z"
   },
   {
    "duration": 6,
    "start_time": "2022-11-14T12:46:20.659Z"
   },
   {
    "duration": 7,
    "start_time": "2022-11-14T12:46:20.667Z"
   },
   {
    "duration": 5,
    "start_time": "2022-11-14T12:46:20.675Z"
   },
   {
    "duration": 573,
    "start_time": "2022-11-14T12:46:20.682Z"
   },
   {
    "duration": 196,
    "start_time": "2022-11-14T12:46:21.258Z"
   },
   {
    "duration": 333,
    "start_time": "2022-11-14T12:46:21.456Z"
   },
   {
    "duration": 175,
    "start_time": "2022-11-14T12:46:21.791Z"
   },
   {
    "duration": 317,
    "start_time": "2022-11-14T12:46:21.968Z"
   },
   {
    "duration": 114,
    "start_time": "2022-11-14T12:46:22.286Z"
   },
   {
    "duration": 3,
    "start_time": "2022-11-14T12:46:22.402Z"
   },
   {
    "duration": 134,
    "start_time": "2022-11-14T12:46:22.407Z"
   },
   {
    "duration": 4,
    "start_time": "2022-11-14T12:46:22.542Z"
   },
   {
    "duration": 212,
    "start_time": "2022-11-14T12:46:22.547Z"
   },
   {
    "duration": 176,
    "start_time": "2022-11-14T12:46:22.761Z"
   },
   {
    "duration": 20,
    "start_time": "2022-11-14T12:46:22.939Z"
   },
   {
    "duration": 8,
    "start_time": "2022-11-14T12:46:22.961Z"
   },
   {
    "duration": 34,
    "start_time": "2022-11-14T12:46:22.971Z"
   },
   {
    "duration": 14,
    "start_time": "2022-11-14T12:46:23.007Z"
   },
   {
    "duration": 1205,
    "start_time": "2022-11-14T16:17:43.802Z"
   },
   {
    "duration": 61,
    "start_time": "2022-11-14T16:17:45.010Z"
   },
   {
    "duration": 13,
    "start_time": "2022-11-14T16:17:45.073Z"
   },
   {
    "duration": 15,
    "start_time": "2022-11-14T16:17:45.088Z"
   },
   {
    "duration": 10,
    "start_time": "2022-11-14T16:17:45.106Z"
   },
   {
    "duration": 23,
    "start_time": "2022-11-14T16:17:45.118Z"
   },
   {
    "duration": 11,
    "start_time": "2022-11-14T16:17:45.143Z"
   },
   {
    "duration": 73,
    "start_time": "2022-11-14T16:17:45.156Z"
   },
   {
    "duration": 59,
    "start_time": "2022-11-14T16:17:45.232Z"
   },
   {
    "duration": 15,
    "start_time": "2022-11-14T16:17:45.292Z"
   },
   {
    "duration": 11,
    "start_time": "2022-11-14T16:17:45.309Z"
   },
   {
    "duration": 22,
    "start_time": "2022-11-14T16:17:45.322Z"
   },
   {
    "duration": 16,
    "start_time": "2022-11-14T16:17:45.346Z"
   },
   {
    "duration": 10,
    "start_time": "2022-11-14T16:17:45.366Z"
   },
   {
    "duration": 31,
    "start_time": "2022-11-14T16:17:45.378Z"
   },
   {
    "duration": 8,
    "start_time": "2022-11-14T16:17:45.411Z"
   },
   {
    "duration": 7,
    "start_time": "2022-11-14T16:17:45.422Z"
   },
   {
    "duration": 611,
    "start_time": "2022-11-14T16:17:45.431Z"
   },
   {
    "duration": 225,
    "start_time": "2022-11-14T16:17:46.045Z"
   },
   {
    "duration": 345,
    "start_time": "2022-11-14T16:17:46.273Z"
   },
   {
    "duration": 219,
    "start_time": "2022-11-14T16:17:46.620Z"
   },
   {
    "duration": 320,
    "start_time": "2022-11-14T16:17:46.841Z"
   },
   {
    "duration": 128,
    "start_time": "2022-11-14T16:17:47.163Z"
   },
   {
    "duration": 12,
    "start_time": "2022-11-14T16:17:47.293Z"
   },
   {
    "duration": 150,
    "start_time": "2022-11-14T16:17:47.308Z"
   },
   {
    "duration": 5,
    "start_time": "2022-11-14T16:17:47.460Z"
   },
   {
    "duration": 243,
    "start_time": "2022-11-14T16:17:47.467Z"
   },
   {
    "duration": 171,
    "start_time": "2022-11-14T16:17:47.711Z"
   },
   {
    "duration": 21,
    "start_time": "2022-11-14T16:17:47.883Z"
   },
   {
    "duration": 9,
    "start_time": "2022-11-14T16:17:47.906Z"
   },
   {
    "duration": 33,
    "start_time": "2022-11-14T16:17:47.917Z"
   },
   {
    "duration": 17,
    "start_time": "2022-11-14T16:17:47.952Z"
   },
   {
    "duration": 57,
    "start_time": "2022-11-15T08:35:33.141Z"
   },
   {
    "duration": 1314,
    "start_time": "2022-11-15T08:36:01.603Z"
   },
   {
    "duration": 95,
    "start_time": "2022-11-15T08:36:02.919Z"
   },
   {
    "duration": 13,
    "start_time": "2022-11-15T08:36:03.015Z"
   },
   {
    "duration": 52,
    "start_time": "2022-11-15T08:36:03.031Z"
   },
   {
    "duration": 15,
    "start_time": "2022-11-15T08:36:03.085Z"
   },
   {
    "duration": 49,
    "start_time": "2022-11-15T08:36:03.103Z"
   },
   {
    "duration": 0,
    "start_time": "2022-11-15T08:36:03.155Z"
   },
   {
    "duration": 0,
    "start_time": "2022-11-15T08:36:03.157Z"
   },
   {
    "duration": 0,
    "start_time": "2022-11-15T08:36:03.158Z"
   },
   {
    "duration": 0,
    "start_time": "2022-11-15T08:36:03.160Z"
   },
   {
    "duration": 0,
    "start_time": "2022-11-15T08:36:03.162Z"
   },
   {
    "duration": 0,
    "start_time": "2022-11-15T08:36:03.165Z"
   },
   {
    "duration": 0,
    "start_time": "2022-11-15T08:36:03.167Z"
   },
   {
    "duration": 0,
    "start_time": "2022-11-15T08:36:03.168Z"
   },
   {
    "duration": 0,
    "start_time": "2022-11-15T08:36:03.170Z"
   },
   {
    "duration": 0,
    "start_time": "2022-11-15T08:36:03.172Z"
   },
   {
    "duration": 0,
    "start_time": "2022-11-15T08:36:03.173Z"
   },
   {
    "duration": 0,
    "start_time": "2022-11-15T08:36:03.175Z"
   },
   {
    "duration": 0,
    "start_time": "2022-11-15T08:36:03.176Z"
   },
   {
    "duration": 0,
    "start_time": "2022-11-15T08:36:03.178Z"
   },
   {
    "duration": 0,
    "start_time": "2022-11-15T08:36:03.179Z"
   },
   {
    "duration": 0,
    "start_time": "2022-11-15T08:36:03.182Z"
   },
   {
    "duration": 0,
    "start_time": "2022-11-15T08:36:03.184Z"
   },
   {
    "duration": 0,
    "start_time": "2022-11-15T08:36:03.187Z"
   },
   {
    "duration": 0,
    "start_time": "2022-11-15T08:36:03.188Z"
   },
   {
    "duration": 0,
    "start_time": "2022-11-15T08:36:03.190Z"
   },
   {
    "duration": 0,
    "start_time": "2022-11-15T08:36:03.191Z"
   },
   {
    "duration": 0,
    "start_time": "2022-11-15T08:36:03.194Z"
   },
   {
    "duration": 0,
    "start_time": "2022-11-15T08:36:03.212Z"
   },
   {
    "duration": 0,
    "start_time": "2022-11-15T08:36:03.214Z"
   },
   {
    "duration": 0,
    "start_time": "2022-11-15T08:36:03.215Z"
   },
   {
    "duration": 0,
    "start_time": "2022-11-15T08:36:03.217Z"
   },
   {
    "duration": 28,
    "start_time": "2022-11-15T08:43:05.008Z"
   },
   {
    "duration": 56,
    "start_time": "2022-11-15T08:43:47.955Z"
   },
   {
    "duration": 1164,
    "start_time": "2022-11-15T08:44:45.574Z"
   },
   {
    "duration": 37,
    "start_time": "2022-11-15T08:44:46.740Z"
   },
   {
    "duration": 12,
    "start_time": "2022-11-15T08:44:46.779Z"
   },
   {
    "duration": 33,
    "start_time": "2022-11-15T08:44:46.793Z"
   },
   {
    "duration": 11,
    "start_time": "2022-11-15T08:44:46.827Z"
   },
   {
    "duration": 19,
    "start_time": "2022-11-15T08:44:46.841Z"
   },
   {
    "duration": 9,
    "start_time": "2022-11-15T08:44:46.862Z"
   },
   {
    "duration": 104,
    "start_time": "2022-11-15T08:44:46.873Z"
   },
   {
    "duration": 66,
    "start_time": "2022-11-15T08:44:46.979Z"
   },
   {
    "duration": 15,
    "start_time": "2022-11-15T08:44:47.049Z"
   },
   {
    "duration": 29,
    "start_time": "2022-11-15T08:44:47.066Z"
   },
   {
    "duration": 27,
    "start_time": "2022-11-15T08:44:47.097Z"
   },
   {
    "duration": 18,
    "start_time": "2022-11-15T08:44:47.126Z"
   },
   {
    "duration": 27,
    "start_time": "2022-11-15T08:44:47.147Z"
   },
   {
    "duration": 13,
    "start_time": "2022-11-15T08:44:47.176Z"
   },
   {
    "duration": 10,
    "start_time": "2022-11-15T08:44:47.191Z"
   },
   {
    "duration": 10,
    "start_time": "2022-11-15T08:44:47.203Z"
   },
   {
    "duration": 603,
    "start_time": "2022-11-15T08:44:47.215Z"
   },
   {
    "duration": 194,
    "start_time": "2022-11-15T08:44:47.820Z"
   },
   {
    "duration": 301,
    "start_time": "2022-11-15T08:44:48.015Z"
   },
   {
    "duration": 213,
    "start_time": "2022-11-15T08:44:48.318Z"
   },
   {
    "duration": 327,
    "start_time": "2022-11-15T08:44:48.533Z"
   },
   {
    "duration": 137,
    "start_time": "2022-11-15T08:44:48.863Z"
   },
   {
    "duration": 13,
    "start_time": "2022-11-15T08:44:49.002Z"
   },
   {
    "duration": 170,
    "start_time": "2022-11-15T08:44:49.016Z"
   },
   {
    "duration": 5,
    "start_time": "2022-11-15T08:44:49.189Z"
   },
   {
    "duration": 290,
    "start_time": "2022-11-15T08:44:49.196Z"
   },
   {
    "duration": 191,
    "start_time": "2022-11-15T08:44:49.490Z"
   },
   {
    "duration": 12,
    "start_time": "2022-11-15T08:44:49.682Z"
   },
   {
    "duration": 23,
    "start_time": "2022-11-15T08:44:49.696Z"
   },
   {
    "duration": 34,
    "start_time": "2022-11-15T08:44:49.721Z"
   },
   {
    "duration": 15,
    "start_time": "2022-11-15T08:44:49.758Z"
   },
   {
    "duration": 52,
    "start_time": "2022-11-15T08:45:56.860Z"
   },
   {
    "duration": 1166,
    "start_time": "2022-11-15T08:48:57.101Z"
   },
   {
    "duration": 1142,
    "start_time": "2022-11-15T08:49:37.044Z"
   },
   {
    "duration": 30,
    "start_time": "2022-11-15T08:49:38.188Z"
   },
   {
    "duration": 16,
    "start_time": "2022-11-15T08:49:38.220Z"
   },
   {
    "duration": 15,
    "start_time": "2022-11-15T08:49:38.239Z"
   },
   {
    "duration": 10,
    "start_time": "2022-11-15T08:49:38.256Z"
   },
   {
    "duration": 19,
    "start_time": "2022-11-15T08:49:38.268Z"
   },
   {
    "duration": 12,
    "start_time": "2022-11-15T08:49:38.313Z"
   },
   {
    "duration": 45,
    "start_time": "2022-11-15T08:49:38.328Z"
   },
   {
    "duration": 16,
    "start_time": "2022-11-15T08:49:38.375Z"
   },
   {
    "duration": 14,
    "start_time": "2022-11-15T08:49:38.394Z"
   },
   {
    "duration": 21,
    "start_time": "2022-11-15T08:49:38.410Z"
   },
   {
    "duration": 14,
    "start_time": "2022-11-15T08:49:38.433Z"
   },
   {
    "duration": 18,
    "start_time": "2022-11-15T08:49:38.449Z"
   },
   {
    "duration": 10,
    "start_time": "2022-11-15T08:49:38.469Z"
   },
   {
    "duration": 11,
    "start_time": "2022-11-15T08:49:38.481Z"
   },
   {
    "duration": 20,
    "start_time": "2022-11-15T08:49:38.494Z"
   },
   {
    "duration": 5,
    "start_time": "2022-11-15T08:49:38.516Z"
   },
   {
    "duration": 615,
    "start_time": "2022-11-15T08:49:38.523Z"
   },
   {
    "duration": 221,
    "start_time": "2022-11-15T08:49:39.141Z"
   },
   {
    "duration": 285,
    "start_time": "2022-11-15T08:49:39.364Z"
   },
   {
    "duration": 218,
    "start_time": "2022-11-15T08:49:39.651Z"
   },
   {
    "duration": 401,
    "start_time": "2022-11-15T08:49:39.872Z"
   },
   {
    "duration": 137,
    "start_time": "2022-11-15T08:49:40.275Z"
   },
   {
    "duration": 5,
    "start_time": "2022-11-15T08:49:40.415Z"
   },
   {
    "duration": 217,
    "start_time": "2022-11-15T08:49:40.422Z"
   },
   {
    "duration": 6,
    "start_time": "2022-11-15T08:49:40.641Z"
   },
   {
    "duration": 257,
    "start_time": "2022-11-15T08:49:40.649Z"
   },
   {
    "duration": 200,
    "start_time": "2022-11-15T08:49:40.912Z"
   },
   {
    "duration": 12,
    "start_time": "2022-11-15T08:49:41.114Z"
   },
   {
    "duration": 16,
    "start_time": "2022-11-15T08:49:41.129Z"
   },
   {
    "duration": 55,
    "start_time": "2022-11-15T08:49:41.148Z"
   },
   {
    "duration": 15,
    "start_time": "2022-11-15T08:49:41.213Z"
   },
   {
    "duration": 1223,
    "start_time": "2022-11-15T08:50:52.440Z"
   },
   {
    "duration": 1211,
    "start_time": "2022-11-15T08:51:08.781Z"
   },
   {
    "duration": 32,
    "start_time": "2022-11-15T08:51:09.994Z"
   },
   {
    "duration": 13,
    "start_time": "2022-11-15T08:51:10.028Z"
   },
   {
    "duration": 26,
    "start_time": "2022-11-15T08:51:10.044Z"
   },
   {
    "duration": 18,
    "start_time": "2022-11-15T08:51:10.071Z"
   },
   {
    "duration": 57,
    "start_time": "2022-11-15T08:51:10.091Z"
   },
   {
    "duration": 26,
    "start_time": "2022-11-15T08:51:10.150Z"
   },
   {
    "duration": 64,
    "start_time": "2022-11-15T08:51:10.178Z"
   },
   {
    "duration": 18,
    "start_time": "2022-11-15T08:51:10.244Z"
   },
   {
    "duration": 14,
    "start_time": "2022-11-15T08:51:10.265Z"
   },
   {
    "duration": 30,
    "start_time": "2022-11-15T08:51:10.281Z"
   },
   {
    "duration": 21,
    "start_time": "2022-11-15T08:51:10.314Z"
   },
   {
    "duration": 18,
    "start_time": "2022-11-15T08:51:10.337Z"
   },
   {
    "duration": 14,
    "start_time": "2022-11-15T08:51:10.357Z"
   },
   {
    "duration": 7,
    "start_time": "2022-11-15T08:51:10.373Z"
   },
   {
    "duration": 8,
    "start_time": "2022-11-15T08:51:10.382Z"
   },
   {
    "duration": 21,
    "start_time": "2022-11-15T08:51:10.392Z"
   },
   {
    "duration": 594,
    "start_time": "2022-11-15T08:51:10.415Z"
   },
   {
    "duration": 209,
    "start_time": "2022-11-15T08:51:11.012Z"
   },
   {
    "duration": 283,
    "start_time": "2022-11-15T08:51:11.223Z"
   },
   {
    "duration": 217,
    "start_time": "2022-11-15T08:51:11.513Z"
   },
   {
    "duration": 316,
    "start_time": "2022-11-15T08:51:11.732Z"
   },
   {
    "duration": 147,
    "start_time": "2022-11-15T08:51:12.049Z"
   },
   {
    "duration": 18,
    "start_time": "2022-11-15T08:51:12.198Z"
   },
   {
    "duration": 161,
    "start_time": "2022-11-15T08:51:12.218Z"
   },
   {
    "duration": 5,
    "start_time": "2022-11-15T08:51:12.381Z"
   },
   {
    "duration": 255,
    "start_time": "2022-11-15T08:51:12.387Z"
   },
   {
    "duration": 205,
    "start_time": "2022-11-15T08:51:12.645Z"
   },
   {
    "duration": 13,
    "start_time": "2022-11-15T08:51:12.852Z"
   },
   {
    "duration": 13,
    "start_time": "2022-11-15T08:51:12.867Z"
   },
   {
    "duration": 53,
    "start_time": "2022-11-15T08:51:12.882Z"
   },
   {
    "duration": 16,
    "start_time": "2022-11-15T08:51:12.937Z"
   },
   {
    "duration": 1229,
    "start_time": "2022-11-15T08:52:18.502Z"
   },
   {
    "duration": 30,
    "start_time": "2022-11-15T08:52:19.733Z"
   },
   {
    "duration": 12,
    "start_time": "2022-11-15T08:52:19.764Z"
   },
   {
    "duration": 32,
    "start_time": "2022-11-15T08:52:19.778Z"
   },
   {
    "duration": 32,
    "start_time": "2022-11-15T08:52:19.811Z"
   },
   {
    "duration": 40,
    "start_time": "2022-11-15T08:52:19.845Z"
   },
   {
    "duration": 30,
    "start_time": "2022-11-15T08:52:19.886Z"
   },
   {
    "duration": 75,
    "start_time": "2022-11-15T08:52:19.918Z"
   },
   {
    "duration": 15,
    "start_time": "2022-11-15T08:52:19.995Z"
   },
   {
    "duration": 27,
    "start_time": "2022-11-15T08:52:20.014Z"
   },
   {
    "duration": 33,
    "start_time": "2022-11-15T08:52:20.043Z"
   },
   {
    "duration": 26,
    "start_time": "2022-11-15T08:52:20.078Z"
   },
   {
    "duration": 34,
    "start_time": "2022-11-15T08:52:20.106Z"
   },
   {
    "duration": 49,
    "start_time": "2022-11-15T08:52:20.141Z"
   },
   {
    "duration": 31,
    "start_time": "2022-11-15T08:52:20.192Z"
   },
   {
    "duration": 33,
    "start_time": "2022-11-15T08:52:20.226Z"
   },
   {
    "duration": 26,
    "start_time": "2022-11-15T08:52:20.261Z"
   },
   {
    "duration": 591,
    "start_time": "2022-11-15T08:52:20.289Z"
   },
   {
    "duration": 198,
    "start_time": "2022-11-15T08:52:20.882Z"
   },
   {
    "duration": 306,
    "start_time": "2022-11-15T08:52:21.082Z"
   },
   {
    "duration": 205,
    "start_time": "2022-11-15T08:52:21.390Z"
   },
   {
    "duration": 351,
    "start_time": "2022-11-15T08:52:21.596Z"
   },
   {
    "duration": 135,
    "start_time": "2022-11-15T08:52:21.949Z"
   },
   {
    "duration": 4,
    "start_time": "2022-11-15T08:52:22.086Z"
   },
   {
    "duration": 162,
    "start_time": "2022-11-15T08:52:22.091Z"
   },
   {
    "duration": 5,
    "start_time": "2022-11-15T08:52:22.255Z"
   },
   {
    "duration": 255,
    "start_time": "2022-11-15T08:52:22.262Z"
   },
   {
    "duration": 203,
    "start_time": "2022-11-15T08:52:22.523Z"
   },
   {
    "duration": 11,
    "start_time": "2022-11-15T08:52:22.727Z"
   },
   {
    "duration": 23,
    "start_time": "2022-11-15T08:52:22.741Z"
   },
   {
    "duration": 47,
    "start_time": "2022-11-15T08:52:22.766Z"
   },
   {
    "duration": 14,
    "start_time": "2022-11-15T08:52:22.814Z"
   },
   {
    "duration": 1227,
    "start_time": "2022-11-15T08:52:45.972Z"
   },
   {
    "duration": 29,
    "start_time": "2022-11-15T08:52:47.202Z"
   },
   {
    "duration": 15,
    "start_time": "2022-11-15T08:52:47.233Z"
   },
   {
    "duration": 18,
    "start_time": "2022-11-15T08:52:47.251Z"
   },
   {
    "duration": 9,
    "start_time": "2022-11-15T08:52:47.271Z"
   },
   {
    "duration": 17,
    "start_time": "2022-11-15T08:52:47.282Z"
   },
   {
    "duration": 20,
    "start_time": "2022-11-15T08:52:47.301Z"
   },
   {
    "duration": 50,
    "start_time": "2022-11-15T08:52:47.323Z"
   },
   {
    "duration": 16,
    "start_time": "2022-11-15T08:52:47.375Z"
   },
   {
    "duration": 13,
    "start_time": "2022-11-15T08:52:47.394Z"
   },
   {
    "duration": 29,
    "start_time": "2022-11-15T08:52:47.409Z"
   },
   {
    "duration": 37,
    "start_time": "2022-11-15T08:52:47.440Z"
   },
   {
    "duration": 12,
    "start_time": "2022-11-15T08:52:47.480Z"
   },
   {
    "duration": 9,
    "start_time": "2022-11-15T08:52:47.494Z"
   },
   {
    "duration": 10,
    "start_time": "2022-11-15T08:52:47.505Z"
   },
   {
    "duration": 12,
    "start_time": "2022-11-15T08:52:47.516Z"
   },
   {
    "duration": 6,
    "start_time": "2022-11-15T08:52:47.530Z"
   },
   {
    "duration": 608,
    "start_time": "2022-11-15T08:52:47.538Z"
   },
   {
    "duration": 203,
    "start_time": "2022-11-15T08:52:48.148Z"
   },
   {
    "duration": 263,
    "start_time": "2022-11-15T08:52:48.352Z"
   },
   {
    "duration": 223,
    "start_time": "2022-11-15T08:52:48.617Z"
   },
   {
    "duration": 340,
    "start_time": "2022-11-15T08:52:48.842Z"
   },
   {
    "duration": 182,
    "start_time": "2022-11-15T08:52:49.185Z"
   },
   {
    "duration": 5,
    "start_time": "2022-11-15T08:52:49.369Z"
   },
   {
    "duration": 154,
    "start_time": "2022-11-15T08:52:49.376Z"
   },
   {
    "duration": 4,
    "start_time": "2022-11-15T08:52:49.532Z"
   },
   {
    "duration": 277,
    "start_time": "2022-11-15T08:52:49.538Z"
   },
   {
    "duration": 222,
    "start_time": "2022-11-15T08:52:49.819Z"
   },
   {
    "duration": 11,
    "start_time": "2022-11-15T08:52:50.043Z"
   },
   {
    "duration": 15,
    "start_time": "2022-11-15T08:52:50.057Z"
   },
   {
    "duration": 44,
    "start_time": "2022-11-15T08:52:50.074Z"
   },
   {
    "duration": 17,
    "start_time": "2022-11-15T08:52:50.120Z"
   },
   {
    "duration": 106,
    "start_time": "2022-11-15T10:36:36.727Z"
   },
   {
    "duration": 67,
    "start_time": "2022-11-15T10:36:49.380Z"
   },
   {
    "duration": 69,
    "start_time": "2022-11-15T10:40:32.031Z"
   },
   {
    "duration": 75,
    "start_time": "2022-11-15T10:40:41.812Z"
   },
   {
    "duration": 71,
    "start_time": "2022-11-15T10:41:50.727Z"
   },
   {
    "duration": 74,
    "start_time": "2022-11-15T10:43:45.538Z"
   },
   {
    "duration": 8,
    "start_time": "2022-11-15T10:53:31.157Z"
   },
   {
    "duration": 12,
    "start_time": "2022-11-15T10:53:47.507Z"
   },
   {
    "duration": 78,
    "start_time": "2022-11-15T10:54:21.811Z"
   },
   {
    "duration": 4,
    "start_time": "2022-11-15T10:57:36.660Z"
   },
   {
    "duration": 15,
    "start_time": "2022-11-15T10:57:42.535Z"
   },
   {
    "duration": 16,
    "start_time": "2022-11-15T10:57:56.256Z"
   },
   {
    "duration": 11,
    "start_time": "2022-11-15T10:59:12.670Z"
   },
   {
    "duration": 12,
    "start_time": "2022-11-15T11:42:27.384Z"
   },
   {
    "duration": 18,
    "start_time": "2022-11-15T11:48:29.866Z"
   },
   {
    "duration": 50,
    "start_time": "2022-11-15T15:27:35.005Z"
   },
   {
    "duration": 1244,
    "start_time": "2022-11-15T15:27:44.517Z"
   },
   {
    "duration": 57,
    "start_time": "2022-11-15T15:27:45.766Z"
   },
   {
    "duration": 12,
    "start_time": "2022-11-15T15:27:45.824Z"
   },
   {
    "duration": 13,
    "start_time": "2022-11-15T15:27:45.838Z"
   },
   {
    "duration": 16,
    "start_time": "2022-11-15T15:27:45.852Z"
   },
   {
    "duration": 17,
    "start_time": "2022-11-15T15:27:45.870Z"
   },
   {
    "duration": 7,
    "start_time": "2022-11-15T15:27:45.889Z"
   },
   {
    "duration": 67,
    "start_time": "2022-11-15T15:27:45.898Z"
   },
   {
    "duration": 55,
    "start_time": "2022-11-15T15:27:45.967Z"
   },
   {
    "duration": 12,
    "start_time": "2022-11-15T15:27:46.025Z"
   },
   {
    "duration": 13,
    "start_time": "2022-11-15T15:27:46.038Z"
   },
   {
    "duration": 19,
    "start_time": "2022-11-15T15:27:46.053Z"
   },
   {
    "duration": 17,
    "start_time": "2022-11-15T15:27:46.074Z"
   },
   {
    "duration": 6,
    "start_time": "2022-11-15T15:27:46.093Z"
   },
   {
    "duration": 16,
    "start_time": "2022-11-15T15:27:46.100Z"
   },
   {
    "duration": 9,
    "start_time": "2022-11-15T15:27:46.117Z"
   },
   {
    "duration": 8,
    "start_time": "2022-11-15T15:27:46.128Z"
   },
   {
    "duration": 17,
    "start_time": "2022-11-15T15:27:46.138Z"
   },
   {
    "duration": 9,
    "start_time": "2022-11-15T15:27:46.157Z"
   },
   {
    "duration": 388,
    "start_time": "2022-11-15T15:27:46.177Z"
   },
   {
    "duration": 0,
    "start_time": "2022-11-15T15:27:46.567Z"
   },
   {
    "duration": 0,
    "start_time": "2022-11-15T15:27:46.568Z"
   },
   {
    "duration": 0,
    "start_time": "2022-11-15T15:27:46.570Z"
   },
   {
    "duration": 0,
    "start_time": "2022-11-15T15:27:46.571Z"
   },
   {
    "duration": 0,
    "start_time": "2022-11-15T15:27:46.572Z"
   },
   {
    "duration": 0,
    "start_time": "2022-11-15T15:27:46.573Z"
   },
   {
    "duration": 0,
    "start_time": "2022-11-15T15:27:46.574Z"
   },
   {
    "duration": 0,
    "start_time": "2022-11-15T15:27:46.575Z"
   },
   {
    "duration": 0,
    "start_time": "2022-11-15T15:27:46.577Z"
   },
   {
    "duration": 0,
    "start_time": "2022-11-15T15:27:46.578Z"
   },
   {
    "duration": 0,
    "start_time": "2022-11-15T15:27:46.579Z"
   },
   {
    "duration": 0,
    "start_time": "2022-11-15T15:27:46.580Z"
   },
   {
    "duration": 0,
    "start_time": "2022-11-15T15:27:46.581Z"
   },
   {
    "duration": 0,
    "start_time": "2022-11-15T15:27:46.583Z"
   },
   {
    "duration": 74,
    "start_time": "2022-11-15T15:32:12.248Z"
   },
   {
    "duration": 89,
    "start_time": "2022-11-15T15:32:25.526Z"
   },
   {
    "duration": 1158,
    "start_time": "2022-11-15T15:33:14.465Z"
   },
   {
    "duration": 24,
    "start_time": "2022-11-15T15:33:15.625Z"
   },
   {
    "duration": 14,
    "start_time": "2022-11-15T15:33:15.651Z"
   },
   {
    "duration": 16,
    "start_time": "2022-11-15T15:33:15.668Z"
   },
   {
    "duration": 9,
    "start_time": "2022-11-15T15:33:15.686Z"
   },
   {
    "duration": 13,
    "start_time": "2022-11-15T15:33:15.696Z"
   },
   {
    "duration": 10,
    "start_time": "2022-11-15T15:33:15.711Z"
   },
   {
    "duration": 45,
    "start_time": "2022-11-15T15:33:15.722Z"
   },
   {
    "duration": 13,
    "start_time": "2022-11-15T15:33:15.769Z"
   },
   {
    "duration": 14,
    "start_time": "2022-11-15T15:33:15.785Z"
   },
   {
    "duration": 12,
    "start_time": "2022-11-15T15:33:15.800Z"
   },
   {
    "duration": 12,
    "start_time": "2022-11-15T15:33:15.813Z"
   },
   {
    "duration": 16,
    "start_time": "2022-11-15T15:33:15.826Z"
   },
   {
    "duration": 10,
    "start_time": "2022-11-15T15:33:15.844Z"
   },
   {
    "duration": 7,
    "start_time": "2022-11-15T15:33:15.877Z"
   },
   {
    "duration": 6,
    "start_time": "2022-11-15T15:33:15.886Z"
   },
   {
    "duration": 5,
    "start_time": "2022-11-15T15:33:15.894Z"
   },
   {
    "duration": 13,
    "start_time": "2022-11-15T15:33:15.901Z"
   },
   {
    "duration": 70,
    "start_time": "2022-11-15T15:33:15.916Z"
   },
   {
    "duration": 0,
    "start_time": "2022-11-15T15:33:15.988Z"
   },
   {
    "duration": 0,
    "start_time": "2022-11-15T15:33:15.989Z"
   },
   {
    "duration": 0,
    "start_time": "2022-11-15T15:33:15.991Z"
   },
   {
    "duration": 0,
    "start_time": "2022-11-15T15:33:15.992Z"
   },
   {
    "duration": 0,
    "start_time": "2022-11-15T15:33:15.993Z"
   },
   {
    "duration": 0,
    "start_time": "2022-11-15T15:33:15.994Z"
   },
   {
    "duration": 0,
    "start_time": "2022-11-15T15:33:15.995Z"
   },
   {
    "duration": 0,
    "start_time": "2022-11-15T15:33:15.996Z"
   },
   {
    "duration": 0,
    "start_time": "2022-11-15T15:33:15.997Z"
   },
   {
    "duration": 0,
    "start_time": "2022-11-15T15:33:15.998Z"
   },
   {
    "duration": 0,
    "start_time": "2022-11-15T15:33:15.999Z"
   },
   {
    "duration": 1,
    "start_time": "2022-11-15T15:33:16.000Z"
   },
   {
    "duration": 0,
    "start_time": "2022-11-15T15:33:16.002Z"
   },
   {
    "duration": 0,
    "start_time": "2022-11-15T15:33:16.003Z"
   },
   {
    "duration": 0,
    "start_time": "2022-11-15T15:33:16.004Z"
   },
   {
    "duration": 71,
    "start_time": "2022-11-15T15:33:39.397Z"
   },
   {
    "duration": 109,
    "start_time": "2022-11-15T15:33:47.270Z"
   },
   {
    "duration": 11,
    "start_time": "2022-11-15T15:43:24.213Z"
   },
   {
    "duration": 10,
    "start_time": "2022-11-15T15:46:53.641Z"
   },
   {
    "duration": 1208,
    "start_time": "2022-11-15T16:13:44.225Z"
   },
   {
    "duration": 1219,
    "start_time": "2022-11-15T16:14:20.898Z"
   },
   {
    "duration": 1075,
    "start_time": "2022-11-15T16:15:27.151Z"
   },
   {
    "duration": 22,
    "start_time": "2022-11-15T16:15:28.228Z"
   },
   {
    "duration": 10,
    "start_time": "2022-11-15T16:15:28.254Z"
   },
   {
    "duration": 13,
    "start_time": "2022-11-15T16:15:28.266Z"
   },
   {
    "duration": 8,
    "start_time": "2022-11-15T16:15:28.280Z"
   },
   {
    "duration": 18,
    "start_time": "2022-11-15T16:15:28.290Z"
   },
   {
    "duration": 7,
    "start_time": "2022-11-15T16:15:28.310Z"
   },
   {
    "duration": 37,
    "start_time": "2022-11-15T16:15:28.319Z"
   },
   {
    "duration": 13,
    "start_time": "2022-11-15T16:15:28.360Z"
   },
   {
    "duration": 13,
    "start_time": "2022-11-15T16:15:28.375Z"
   },
   {
    "duration": 12,
    "start_time": "2022-11-15T16:15:28.389Z"
   },
   {
    "duration": 14,
    "start_time": "2022-11-15T16:15:28.402Z"
   },
   {
    "duration": 15,
    "start_time": "2022-11-15T16:15:28.418Z"
   },
   {
    "duration": 12,
    "start_time": "2022-11-15T16:15:28.434Z"
   },
   {
    "duration": 9,
    "start_time": "2022-11-15T16:15:28.448Z"
   },
   {
    "duration": 23,
    "start_time": "2022-11-15T16:15:28.459Z"
   },
   {
    "duration": 5,
    "start_time": "2022-11-15T16:15:28.484Z"
   },
   {
    "duration": 13,
    "start_time": "2022-11-15T16:15:28.491Z"
   },
   {
    "duration": 1372,
    "start_time": "2022-11-15T16:15:28.507Z"
   },
   {
    "duration": 0,
    "start_time": "2022-11-15T16:15:29.880Z"
   },
   {
    "duration": 0,
    "start_time": "2022-11-15T16:15:29.882Z"
   },
   {
    "duration": 0,
    "start_time": "2022-11-15T16:15:29.883Z"
   },
   {
    "duration": 0,
    "start_time": "2022-11-15T16:15:29.884Z"
   },
   {
    "duration": 0,
    "start_time": "2022-11-15T16:15:29.885Z"
   },
   {
    "duration": 0,
    "start_time": "2022-11-15T16:15:29.886Z"
   },
   {
    "duration": 0,
    "start_time": "2022-11-15T16:15:29.887Z"
   },
   {
    "duration": 0,
    "start_time": "2022-11-15T16:15:29.888Z"
   },
   {
    "duration": 0,
    "start_time": "2022-11-15T16:15:29.889Z"
   },
   {
    "duration": 0,
    "start_time": "2022-11-15T16:15:29.890Z"
   },
   {
    "duration": 0,
    "start_time": "2022-11-15T16:15:29.891Z"
   },
   {
    "duration": 0,
    "start_time": "2022-11-15T16:15:29.892Z"
   },
   {
    "duration": 0,
    "start_time": "2022-11-15T16:15:29.893Z"
   },
   {
    "duration": 0,
    "start_time": "2022-11-15T16:15:29.894Z"
   },
   {
    "duration": 0,
    "start_time": "2022-11-15T16:15:29.895Z"
   },
   {
    "duration": 0,
    "start_time": "2022-11-15T16:15:29.896Z"
   },
   {
    "duration": 1505,
    "start_time": "2022-11-15T16:20:41.808Z"
   },
   {
    "duration": 1207,
    "start_time": "2022-11-15T16:21:18.727Z"
   },
   {
    "duration": 75,
    "start_time": "2022-11-15T16:29:54.049Z"
   },
   {
    "duration": 68,
    "start_time": "2022-11-15T16:30:10.412Z"
   },
   {
    "duration": 9,
    "start_time": "2022-11-15T16:30:17.790Z"
   },
   {
    "duration": 1067,
    "start_time": "2022-11-15T16:31:24.538Z"
   },
   {
    "duration": 22,
    "start_time": "2022-11-15T16:31:25.607Z"
   },
   {
    "duration": 10,
    "start_time": "2022-11-15T16:31:25.631Z"
   },
   {
    "duration": 15,
    "start_time": "2022-11-15T16:31:25.642Z"
   },
   {
    "duration": 13,
    "start_time": "2022-11-15T16:31:25.660Z"
   },
   {
    "duration": 16,
    "start_time": "2022-11-15T16:31:25.675Z"
   },
   {
    "duration": 8,
    "start_time": "2022-11-15T16:31:25.692Z"
   },
   {
    "duration": 37,
    "start_time": "2022-11-15T16:31:25.701Z"
   },
   {
    "duration": 17,
    "start_time": "2022-11-15T16:31:25.739Z"
   },
   {
    "duration": 13,
    "start_time": "2022-11-15T16:31:25.758Z"
   },
   {
    "duration": 11,
    "start_time": "2022-11-15T16:31:25.773Z"
   },
   {
    "duration": 13,
    "start_time": "2022-11-15T16:31:25.785Z"
   },
   {
    "duration": 11,
    "start_time": "2022-11-15T16:31:25.800Z"
   },
   {
    "duration": 6,
    "start_time": "2022-11-15T16:31:25.814Z"
   },
   {
    "duration": 9,
    "start_time": "2022-11-15T16:31:25.822Z"
   },
   {
    "duration": 7,
    "start_time": "2022-11-15T16:31:25.832Z"
   },
   {
    "duration": 4,
    "start_time": "2022-11-15T16:31:25.841Z"
   },
   {
    "duration": 32,
    "start_time": "2022-11-15T16:31:25.847Z"
   },
   {
    "duration": 89,
    "start_time": "2022-11-15T16:31:25.881Z"
   },
   {
    "duration": 0,
    "start_time": "2022-11-15T16:31:25.978Z"
   },
   {
    "duration": 0,
    "start_time": "2022-11-15T16:31:25.979Z"
   },
   {
    "duration": 0,
    "start_time": "2022-11-15T16:31:25.981Z"
   },
   {
    "duration": 0,
    "start_time": "2022-11-15T16:31:25.982Z"
   },
   {
    "duration": 0,
    "start_time": "2022-11-15T16:31:25.983Z"
   },
   {
    "duration": 0,
    "start_time": "2022-11-15T16:31:25.984Z"
   },
   {
    "duration": 0,
    "start_time": "2022-11-15T16:31:25.985Z"
   },
   {
    "duration": 0,
    "start_time": "2022-11-15T16:31:25.986Z"
   },
   {
    "duration": 0,
    "start_time": "2022-11-15T16:31:25.988Z"
   },
   {
    "duration": 0,
    "start_time": "2022-11-15T16:31:25.989Z"
   },
   {
    "duration": 0,
    "start_time": "2022-11-15T16:31:25.990Z"
   },
   {
    "duration": 0,
    "start_time": "2022-11-15T16:31:25.991Z"
   },
   {
    "duration": 0,
    "start_time": "2022-11-15T16:31:25.992Z"
   },
   {
    "duration": 0,
    "start_time": "2022-11-15T16:31:25.993Z"
   },
   {
    "duration": 0,
    "start_time": "2022-11-15T16:31:25.995Z"
   },
   {
    "duration": 0,
    "start_time": "2022-11-15T16:31:25.996Z"
   },
   {
    "duration": 13,
    "start_time": "2022-11-15T16:44:23.739Z"
   },
   {
    "duration": 9,
    "start_time": "2022-11-15T16:44:30.186Z"
   },
   {
    "duration": 10,
    "start_time": "2022-11-15T16:45:30.304Z"
   },
   {
    "duration": 13,
    "start_time": "2022-11-15T16:45:54.947Z"
   },
   {
    "duration": 1109,
    "start_time": "2022-11-15T16:46:37.208Z"
   },
   {
    "duration": 22,
    "start_time": "2022-11-15T16:46:38.319Z"
   },
   {
    "duration": 12,
    "start_time": "2022-11-15T16:46:38.345Z"
   },
   {
    "duration": 17,
    "start_time": "2022-11-15T16:46:38.359Z"
   },
   {
    "duration": 17,
    "start_time": "2022-11-15T16:46:38.378Z"
   },
   {
    "duration": 28,
    "start_time": "2022-11-15T16:46:38.396Z"
   },
   {
    "duration": 21,
    "start_time": "2022-11-15T16:46:38.426Z"
   },
   {
    "duration": 47,
    "start_time": "2022-11-15T16:46:38.448Z"
   },
   {
    "duration": 13,
    "start_time": "2022-11-15T16:46:38.497Z"
   },
   {
    "duration": 13,
    "start_time": "2022-11-15T16:46:38.511Z"
   },
   {
    "duration": 14,
    "start_time": "2022-11-15T16:46:38.526Z"
   },
   {
    "duration": 20,
    "start_time": "2022-11-15T16:46:38.541Z"
   },
   {
    "duration": 19,
    "start_time": "2022-11-15T16:46:38.563Z"
   },
   {
    "duration": 19,
    "start_time": "2022-11-15T16:46:38.584Z"
   },
   {
    "duration": 17,
    "start_time": "2022-11-15T16:46:38.605Z"
   },
   {
    "duration": 12,
    "start_time": "2022-11-15T16:46:38.624Z"
   },
   {
    "duration": 11,
    "start_time": "2022-11-15T16:46:38.638Z"
   },
   {
    "duration": 17,
    "start_time": "2022-11-15T16:46:38.650Z"
   },
   {
    "duration": 87,
    "start_time": "2022-11-15T16:46:38.668Z"
   },
   {
    "duration": 0,
    "start_time": "2022-11-15T16:46:38.756Z"
   },
   {
    "duration": 0,
    "start_time": "2022-11-15T16:46:38.757Z"
   },
   {
    "duration": 0,
    "start_time": "2022-11-15T16:46:38.758Z"
   },
   {
    "duration": 0,
    "start_time": "2022-11-15T16:46:38.760Z"
   },
   {
    "duration": 0,
    "start_time": "2022-11-15T16:46:38.760Z"
   },
   {
    "duration": 0,
    "start_time": "2022-11-15T16:46:38.762Z"
   },
   {
    "duration": 0,
    "start_time": "2022-11-15T16:46:38.762Z"
   },
   {
    "duration": 0,
    "start_time": "2022-11-15T16:46:38.764Z"
   },
   {
    "duration": 0,
    "start_time": "2022-11-15T16:46:38.764Z"
   },
   {
    "duration": 0,
    "start_time": "2022-11-15T16:46:38.765Z"
   },
   {
    "duration": 0,
    "start_time": "2022-11-15T16:46:38.766Z"
   },
   {
    "duration": 0,
    "start_time": "2022-11-15T16:46:38.778Z"
   },
   {
    "duration": 0,
    "start_time": "2022-11-15T16:46:38.779Z"
   },
   {
    "duration": 0,
    "start_time": "2022-11-15T16:46:38.780Z"
   },
   {
    "duration": 0,
    "start_time": "2022-11-15T16:46:38.780Z"
   },
   {
    "duration": 0,
    "start_time": "2022-11-15T16:46:38.781Z"
   },
   {
    "duration": 11,
    "start_time": "2022-11-15T16:47:01.262Z"
   },
   {
    "duration": 18,
    "start_time": "2022-11-15T16:47:21.746Z"
   },
   {
    "duration": 1044,
    "start_time": "2022-11-15T16:47:27.071Z"
   },
   {
    "duration": 22,
    "start_time": "2022-11-15T16:47:28.117Z"
   },
   {
    "duration": 10,
    "start_time": "2022-11-15T16:47:28.141Z"
   },
   {
    "duration": 18,
    "start_time": "2022-11-15T16:47:28.153Z"
   },
   {
    "duration": 13,
    "start_time": "2022-11-15T16:47:28.172Z"
   },
   {
    "duration": 21,
    "start_time": "2022-11-15T16:47:28.187Z"
   },
   {
    "duration": 11,
    "start_time": "2022-11-15T16:47:28.209Z"
   },
   {
    "duration": 44,
    "start_time": "2022-11-15T16:47:28.222Z"
   },
   {
    "duration": 12,
    "start_time": "2022-11-15T16:47:28.268Z"
   },
   {
    "duration": 13,
    "start_time": "2022-11-15T16:47:28.282Z"
   },
   {
    "duration": 20,
    "start_time": "2022-11-15T16:47:28.296Z"
   },
   {
    "duration": 14,
    "start_time": "2022-11-15T16:47:28.317Z"
   },
   {
    "duration": 10,
    "start_time": "2022-11-15T16:47:28.332Z"
   },
   {
    "duration": 9,
    "start_time": "2022-11-15T16:47:28.344Z"
   },
   {
    "duration": 15,
    "start_time": "2022-11-15T16:47:28.354Z"
   },
   {
    "duration": 8,
    "start_time": "2022-11-15T16:47:28.370Z"
   },
   {
    "duration": 4,
    "start_time": "2022-11-15T16:47:28.380Z"
   },
   {
    "duration": 15,
    "start_time": "2022-11-15T16:47:28.386Z"
   },
   {
    "duration": 17,
    "start_time": "2022-11-15T16:47:28.402Z"
   },
   {
    "duration": 509,
    "start_time": "2022-11-15T16:47:28.420Z"
   },
   {
    "duration": 175,
    "start_time": "2022-11-15T16:47:28.931Z"
   },
   {
    "duration": 243,
    "start_time": "2022-11-15T16:47:29.108Z"
   },
   {
    "duration": 186,
    "start_time": "2022-11-15T16:47:29.352Z"
   },
   {
    "duration": 357,
    "start_time": "2022-11-15T16:47:29.539Z"
   },
   {
    "duration": 146,
    "start_time": "2022-11-15T16:47:29.897Z"
   },
   {
    "duration": 4,
    "start_time": "2022-11-15T16:47:30.045Z"
   },
   {
    "duration": 133,
    "start_time": "2022-11-15T16:47:30.050Z"
   },
   {
    "duration": 5,
    "start_time": "2022-11-15T16:47:30.185Z"
   },
   {
    "duration": 223,
    "start_time": "2022-11-15T16:47:30.191Z"
   },
   {
    "duration": 155,
    "start_time": "2022-11-15T16:47:30.416Z"
   },
   {
    "duration": 13,
    "start_time": "2022-11-15T16:47:30.573Z"
   },
   {
    "duration": 42,
    "start_time": "2022-11-15T16:47:30.588Z"
   },
   {
    "duration": 62,
    "start_time": "2022-11-15T16:47:30.632Z"
   },
   {
    "duration": 16,
    "start_time": "2022-11-15T16:47:30.696Z"
   },
   {
    "duration": 18,
    "start_time": "2022-11-15T16:47:53.160Z"
   },
   {
    "duration": 1032,
    "start_time": "2022-11-15T16:59:54.896Z"
   },
   {
    "duration": 21,
    "start_time": "2022-11-15T16:59:55.930Z"
   },
   {
    "duration": 11,
    "start_time": "2022-11-15T16:59:55.952Z"
   },
   {
    "duration": 13,
    "start_time": "2022-11-15T16:59:55.965Z"
   },
   {
    "duration": 8,
    "start_time": "2022-11-15T16:59:55.979Z"
   },
   {
    "duration": 14,
    "start_time": "2022-11-15T16:59:55.988Z"
   },
   {
    "duration": 7,
    "start_time": "2022-11-15T16:59:56.004Z"
   },
   {
    "duration": 33,
    "start_time": "2022-11-15T16:59:56.013Z"
   },
   {
    "duration": 12,
    "start_time": "2022-11-15T16:59:56.047Z"
   },
   {
    "duration": 12,
    "start_time": "2022-11-15T16:59:56.061Z"
   },
   {
    "duration": 9,
    "start_time": "2022-11-15T16:59:56.075Z"
   },
   {
    "duration": 17,
    "start_time": "2022-11-15T16:59:56.085Z"
   },
   {
    "duration": 15,
    "start_time": "2022-11-15T16:59:56.104Z"
   },
   {
    "duration": 9,
    "start_time": "2022-11-15T16:59:56.120Z"
   },
   {
    "duration": 10,
    "start_time": "2022-11-15T16:59:56.130Z"
   },
   {
    "duration": 10,
    "start_time": "2022-11-15T16:59:56.141Z"
   },
   {
    "duration": 5,
    "start_time": "2022-11-15T16:59:56.152Z"
   },
   {
    "duration": 25,
    "start_time": "2022-11-15T16:59:56.158Z"
   },
   {
    "duration": 15,
    "start_time": "2022-11-15T16:59:56.185Z"
   },
   {
    "duration": 536,
    "start_time": "2022-11-15T16:59:56.202Z"
   },
   {
    "duration": 189,
    "start_time": "2022-11-15T16:59:56.740Z"
   },
   {
    "duration": 259,
    "start_time": "2022-11-15T16:59:56.931Z"
   },
   {
    "duration": 198,
    "start_time": "2022-11-15T16:59:57.192Z"
   },
   {
    "duration": 301,
    "start_time": "2022-11-15T16:59:57.391Z"
   },
   {
    "duration": 134,
    "start_time": "2022-11-15T16:59:57.693Z"
   },
   {
    "duration": 4,
    "start_time": "2022-11-15T16:59:57.829Z"
   },
   {
    "duration": 126,
    "start_time": "2022-11-15T16:59:57.834Z"
   },
   {
    "duration": 4,
    "start_time": "2022-11-15T16:59:57.963Z"
   },
   {
    "duration": 209,
    "start_time": "2022-11-15T16:59:57.978Z"
   },
   {
    "duration": 153,
    "start_time": "2022-11-15T16:59:58.188Z"
   },
   {
    "duration": 9,
    "start_time": "2022-11-15T16:59:58.343Z"
   },
   {
    "duration": 19,
    "start_time": "2022-11-15T16:59:58.353Z"
   },
   {
    "duration": 36,
    "start_time": "2022-11-15T16:59:58.373Z"
   },
   {
    "duration": 12,
    "start_time": "2022-11-15T16:59:58.410Z"
   },
   {
    "duration": 71,
    "start_time": "2022-11-15T17:03:28.915Z"
   },
   {
    "duration": 282,
    "start_time": "2022-11-15T17:24:04.023Z"
   },
   {
    "duration": 1229,
    "start_time": "2022-11-15T17:24:40.726Z"
   },
   {
    "duration": 1069,
    "start_time": "2022-11-15T17:24:53.957Z"
   },
   {
    "duration": 21,
    "start_time": "2022-11-15T17:24:55.028Z"
   },
   {
    "duration": 11,
    "start_time": "2022-11-15T17:24:55.051Z"
   },
   {
    "duration": 14,
    "start_time": "2022-11-15T17:24:55.064Z"
   },
   {
    "duration": 13,
    "start_time": "2022-11-15T17:24:55.079Z"
   },
   {
    "duration": 17,
    "start_time": "2022-11-15T17:24:55.094Z"
   },
   {
    "duration": 10,
    "start_time": "2022-11-15T17:24:55.113Z"
   },
   {
    "duration": 33,
    "start_time": "2022-11-15T17:24:55.124Z"
   },
   {
    "duration": 12,
    "start_time": "2022-11-15T17:24:55.158Z"
   },
   {
    "duration": 13,
    "start_time": "2022-11-15T17:24:55.173Z"
   },
   {
    "duration": 16,
    "start_time": "2022-11-15T17:24:55.187Z"
   },
   {
    "duration": 15,
    "start_time": "2022-11-15T17:24:55.204Z"
   },
   {
    "duration": 12,
    "start_time": "2022-11-15T17:24:55.220Z"
   },
   {
    "duration": 15,
    "start_time": "2022-11-15T17:24:55.233Z"
   },
   {
    "duration": 15,
    "start_time": "2022-11-15T17:24:55.250Z"
   },
   {
    "duration": 14,
    "start_time": "2022-11-15T17:24:55.266Z"
   },
   {
    "duration": 18,
    "start_time": "2022-11-15T17:24:55.281Z"
   },
   {
    "duration": 16,
    "start_time": "2022-11-15T17:24:55.300Z"
   },
   {
    "duration": 22,
    "start_time": "2022-11-15T17:24:55.317Z"
   },
   {
    "duration": 552,
    "start_time": "2022-11-15T17:24:55.340Z"
   },
   {
    "duration": 198,
    "start_time": "2022-11-15T17:24:55.894Z"
   },
   {
    "duration": 259,
    "start_time": "2022-11-15T17:24:56.094Z"
   },
   {
    "duration": 204,
    "start_time": "2022-11-15T17:24:56.355Z"
   },
   {
    "duration": 342,
    "start_time": "2022-11-15T17:24:56.561Z"
   },
   {
    "duration": 160,
    "start_time": "2022-11-15T17:24:56.904Z"
   },
   {
    "duration": 4,
    "start_time": "2022-11-15T17:24:57.066Z"
   },
   {
    "duration": 136,
    "start_time": "2022-11-15T17:24:57.078Z"
   },
   {
    "duration": 6,
    "start_time": "2022-11-15T17:24:57.217Z"
   },
   {
    "duration": 228,
    "start_time": "2022-11-15T17:24:57.224Z"
   },
   {
    "duration": 159,
    "start_time": "2022-11-15T17:24:57.454Z"
   },
   {
    "duration": 10,
    "start_time": "2022-11-15T17:24:57.615Z"
   },
   {
    "duration": 19,
    "start_time": "2022-11-15T17:24:57.626Z"
   },
   {
    "duration": 33,
    "start_time": "2022-11-15T17:24:57.647Z"
   },
   {
    "duration": 12,
    "start_time": "2022-11-15T17:24:57.681Z"
   },
   {
    "duration": 4,
    "start_time": "2022-11-15T17:26:08.218Z"
   },
   {
    "duration": 6,
    "start_time": "2022-11-15T17:26:24.392Z"
   },
   {
    "duration": 143,
    "start_time": "2022-11-15T17:26:44.615Z"
   },
   {
    "duration": 150,
    "start_time": "2022-11-15T17:26:53.588Z"
   },
   {
    "duration": 10,
    "start_time": "2022-11-15T17:27:12.713Z"
   },
   {
    "duration": 10,
    "start_time": "2022-11-15T17:27:22.849Z"
   },
   {
    "duration": 25,
    "start_time": "2022-11-15T17:27:36.009Z"
   },
   {
    "duration": 13,
    "start_time": "2022-11-15T17:27:47.731Z"
   },
   {
    "duration": 406,
    "start_time": "2022-11-15T17:50:14.612Z"
   },
   {
    "duration": 1020,
    "start_time": "2022-11-15T17:50:27.215Z"
   },
   {
    "duration": 22,
    "start_time": "2022-11-15T17:50:28.237Z"
   },
   {
    "duration": 11,
    "start_time": "2022-11-15T17:50:28.261Z"
   },
   {
    "duration": 15,
    "start_time": "2022-11-15T17:50:28.273Z"
   },
   {
    "duration": 7,
    "start_time": "2022-11-15T17:50:28.290Z"
   },
   {
    "duration": 12,
    "start_time": "2022-11-15T17:50:28.299Z"
   },
   {
    "duration": 10,
    "start_time": "2022-11-15T17:50:28.312Z"
   },
   {
    "duration": 36,
    "start_time": "2022-11-15T17:50:28.323Z"
   },
   {
    "duration": 12,
    "start_time": "2022-11-15T17:50:28.360Z"
   },
   {
    "duration": 10,
    "start_time": "2022-11-15T17:50:28.375Z"
   },
   {
    "duration": 10,
    "start_time": "2022-11-15T17:50:28.386Z"
   },
   {
    "duration": 33,
    "start_time": "2022-11-15T17:50:28.398Z"
   },
   {
    "duration": 10,
    "start_time": "2022-11-15T17:50:28.433Z"
   },
   {
    "duration": 6,
    "start_time": "2022-11-15T17:50:28.445Z"
   },
   {
    "duration": 6,
    "start_time": "2022-11-15T17:50:28.453Z"
   },
   {
    "duration": 9,
    "start_time": "2022-11-15T17:50:28.460Z"
   },
   {
    "duration": 9,
    "start_time": "2022-11-15T17:50:28.470Z"
   },
   {
    "duration": 13,
    "start_time": "2022-11-15T17:50:28.480Z"
   },
   {
    "duration": 14,
    "start_time": "2022-11-15T17:50:28.495Z"
   },
   {
    "duration": 593,
    "start_time": "2022-11-15T17:50:28.510Z"
   },
   {
    "duration": 0,
    "start_time": "2022-11-15T17:50:29.105Z"
   },
   {
    "duration": 0,
    "start_time": "2022-11-15T17:50:29.107Z"
   },
   {
    "duration": 0,
    "start_time": "2022-11-15T17:50:29.108Z"
   },
   {
    "duration": 0,
    "start_time": "2022-11-15T17:50:29.110Z"
   },
   {
    "duration": 0,
    "start_time": "2022-11-15T17:50:29.112Z"
   },
   {
    "duration": 0,
    "start_time": "2022-11-15T17:50:29.113Z"
   },
   {
    "duration": 0,
    "start_time": "2022-11-15T17:50:29.115Z"
   },
   {
    "duration": 0,
    "start_time": "2022-11-15T17:50:29.116Z"
   },
   {
    "duration": 0,
    "start_time": "2022-11-15T17:50:29.118Z"
   },
   {
    "duration": 0,
    "start_time": "2022-11-15T17:50:29.119Z"
   },
   {
    "duration": 0,
    "start_time": "2022-11-15T17:50:29.120Z"
   },
   {
    "duration": 0,
    "start_time": "2022-11-15T17:50:29.122Z"
   },
   {
    "duration": 0,
    "start_time": "2022-11-15T17:50:29.123Z"
   },
   {
    "duration": 0,
    "start_time": "2022-11-15T17:50:29.124Z"
   },
   {
    "duration": 296,
    "start_time": "2022-11-15T17:52:11.557Z"
   },
   {
    "duration": 282,
    "start_time": "2022-11-15T17:52:32.033Z"
   },
   {
    "duration": 1142,
    "start_time": "2022-11-15T17:52:43.032Z"
   },
   {
    "duration": 23,
    "start_time": "2022-11-15T17:52:44.177Z"
   },
   {
    "duration": 11,
    "start_time": "2022-11-15T17:52:44.202Z"
   },
   {
    "duration": 14,
    "start_time": "2022-11-15T17:52:44.216Z"
   },
   {
    "duration": 8,
    "start_time": "2022-11-15T17:52:44.232Z"
   },
   {
    "duration": 14,
    "start_time": "2022-11-15T17:52:44.241Z"
   },
   {
    "duration": 23,
    "start_time": "2022-11-15T17:52:44.256Z"
   },
   {
    "duration": 32,
    "start_time": "2022-11-15T17:52:44.281Z"
   },
   {
    "duration": 13,
    "start_time": "2022-11-15T17:52:44.315Z"
   },
   {
    "duration": 13,
    "start_time": "2022-11-15T17:52:44.331Z"
   },
   {
    "duration": 13,
    "start_time": "2022-11-15T17:52:44.345Z"
   },
   {
    "duration": 14,
    "start_time": "2022-11-15T17:52:44.360Z"
   },
   {
    "duration": 11,
    "start_time": "2022-11-15T17:52:44.376Z"
   },
   {
    "duration": 9,
    "start_time": "2022-11-15T17:52:44.389Z"
   },
   {
    "duration": 8,
    "start_time": "2022-11-15T17:52:44.400Z"
   },
   {
    "duration": 7,
    "start_time": "2022-11-15T17:52:44.410Z"
   },
   {
    "duration": 6,
    "start_time": "2022-11-15T17:52:44.419Z"
   },
   {
    "duration": 22,
    "start_time": "2022-11-15T17:52:44.426Z"
   },
   {
    "duration": 40,
    "start_time": "2022-11-15T17:52:44.450Z"
   },
   {
    "duration": 530,
    "start_time": "2022-11-15T17:52:44.491Z"
   },
   {
    "duration": 168,
    "start_time": "2022-11-15T17:52:45.022Z"
   },
   {
    "duration": 261,
    "start_time": "2022-11-15T17:52:45.192Z"
   },
   {
    "duration": 199,
    "start_time": "2022-11-15T17:52:45.454Z"
   },
   {
    "duration": 329,
    "start_time": "2022-11-15T17:52:45.655Z"
   },
   {
    "duration": 130,
    "start_time": "2022-11-15T17:52:45.985Z"
   },
   {
    "duration": 4,
    "start_time": "2022-11-15T17:52:46.116Z"
   },
   {
    "duration": 125,
    "start_time": "2022-11-15T17:52:46.122Z"
   },
   {
    "duration": 4,
    "start_time": "2022-11-15T17:52:46.250Z"
   },
   {
    "duration": 223,
    "start_time": "2022-11-15T17:52:46.256Z"
   },
   {
    "duration": 161,
    "start_time": "2022-11-15T17:52:46.480Z"
   },
   {
    "duration": 11,
    "start_time": "2022-11-15T17:52:46.643Z"
   },
   {
    "duration": 24,
    "start_time": "2022-11-15T17:52:46.655Z"
   },
   {
    "duration": 24,
    "start_time": "2022-11-15T17:52:46.681Z"
   },
   {
    "duration": 14,
    "start_time": "2022-11-15T17:52:46.707Z"
   },
   {
    "duration": 427,
    "start_time": "2022-11-15T17:53:14.251Z"
   },
   {
    "duration": 1039,
    "start_time": "2022-11-15T17:53:20.720Z"
   },
   {
    "duration": 22,
    "start_time": "2022-11-15T17:53:21.761Z"
   },
   {
    "duration": 11,
    "start_time": "2022-11-15T17:53:21.785Z"
   },
   {
    "duration": 15,
    "start_time": "2022-11-15T17:53:21.799Z"
   },
   {
    "duration": 8,
    "start_time": "2022-11-15T17:53:21.815Z"
   },
   {
    "duration": 17,
    "start_time": "2022-11-15T17:53:21.825Z"
   },
   {
    "duration": 12,
    "start_time": "2022-11-15T17:53:21.844Z"
   },
   {
    "duration": 31,
    "start_time": "2022-11-15T17:53:21.877Z"
   },
   {
    "duration": 13,
    "start_time": "2022-11-15T17:53:21.910Z"
   },
   {
    "duration": 13,
    "start_time": "2022-11-15T17:53:21.927Z"
   },
   {
    "duration": 13,
    "start_time": "2022-11-15T17:53:21.942Z"
   },
   {
    "duration": 12,
    "start_time": "2022-11-15T17:53:21.956Z"
   },
   {
    "duration": 10,
    "start_time": "2022-11-15T17:53:21.970Z"
   },
   {
    "duration": 8,
    "start_time": "2022-11-15T17:53:21.981Z"
   },
   {
    "duration": 6,
    "start_time": "2022-11-15T17:53:21.990Z"
   },
   {
    "duration": 10,
    "start_time": "2022-11-15T17:53:21.997Z"
   },
   {
    "duration": 4,
    "start_time": "2022-11-15T17:53:22.008Z"
   },
   {
    "duration": 18,
    "start_time": "2022-11-15T17:53:22.014Z"
   },
   {
    "duration": 15,
    "start_time": "2022-11-15T17:53:22.033Z"
   },
   {
    "duration": 510,
    "start_time": "2022-11-15T17:53:22.049Z"
   },
   {
    "duration": 170,
    "start_time": "2022-11-15T17:53:22.560Z"
   },
   {
    "duration": 247,
    "start_time": "2022-11-15T17:53:22.732Z"
   },
   {
    "duration": 173,
    "start_time": "2022-11-15T17:53:22.981Z"
   },
   {
    "duration": 316,
    "start_time": "2022-11-15T17:53:23.156Z"
   },
   {
    "duration": 127,
    "start_time": "2022-11-15T17:53:23.477Z"
   },
   {
    "duration": 4,
    "start_time": "2022-11-15T17:53:23.606Z"
   },
   {
    "duration": 132,
    "start_time": "2022-11-15T17:53:23.611Z"
   },
   {
    "duration": 4,
    "start_time": "2022-11-15T17:53:23.746Z"
   },
   {
    "duration": 243,
    "start_time": "2022-11-15T17:53:23.751Z"
   },
   {
    "duration": 169,
    "start_time": "2022-11-15T17:53:23.997Z"
   },
   {
    "duration": 18,
    "start_time": "2022-11-15T17:53:24.167Z"
   },
   {
    "duration": 10,
    "start_time": "2022-11-15T17:53:24.187Z"
   },
   {
    "duration": 30,
    "start_time": "2022-11-15T17:53:24.198Z"
   },
   {
    "duration": 13,
    "start_time": "2022-11-15T17:53:24.230Z"
   },
   {
    "duration": 414,
    "start_time": "2022-11-15T17:55:38.392Z"
   },
   {
    "duration": 1074,
    "start_time": "2022-11-15T17:55:46.246Z"
   },
   {
    "duration": 22,
    "start_time": "2022-11-15T17:55:47.322Z"
   },
   {
    "duration": 11,
    "start_time": "2022-11-15T17:55:47.346Z"
   },
   {
    "duration": 21,
    "start_time": "2022-11-15T17:55:47.359Z"
   },
   {
    "duration": 17,
    "start_time": "2022-11-15T17:55:47.381Z"
   },
   {
    "duration": 23,
    "start_time": "2022-11-15T17:55:47.399Z"
   },
   {
    "duration": 9,
    "start_time": "2022-11-15T17:55:47.424Z"
   },
   {
    "duration": 39,
    "start_time": "2022-11-15T17:55:47.435Z"
   },
   {
    "duration": 13,
    "start_time": "2022-11-15T17:55:47.475Z"
   },
   {
    "duration": 13,
    "start_time": "2022-11-15T17:55:47.490Z"
   },
   {
    "duration": 32,
    "start_time": "2022-11-15T17:55:47.504Z"
   },
   {
    "duration": 25,
    "start_time": "2022-11-15T17:55:47.537Z"
   },
   {
    "duration": 23,
    "start_time": "2022-11-15T17:55:47.563Z"
   },
   {
    "duration": 8,
    "start_time": "2022-11-15T17:55:47.588Z"
   },
   {
    "duration": 8,
    "start_time": "2022-11-15T17:55:47.597Z"
   },
   {
    "duration": 11,
    "start_time": "2022-11-15T17:55:47.606Z"
   },
   {
    "duration": 19,
    "start_time": "2022-11-15T17:55:47.618Z"
   },
   {
    "duration": 17,
    "start_time": "2022-11-15T17:55:47.638Z"
   },
   {
    "duration": 15,
    "start_time": "2022-11-15T17:55:47.656Z"
   },
   {
    "duration": 549,
    "start_time": "2022-11-15T17:55:47.672Z"
   },
   {
    "duration": 0,
    "start_time": "2022-11-15T17:55:48.223Z"
   },
   {
    "duration": 0,
    "start_time": "2022-11-15T17:55:48.224Z"
   },
   {
    "duration": 0,
    "start_time": "2022-11-15T17:55:48.225Z"
   },
   {
    "duration": 0,
    "start_time": "2022-11-15T17:55:48.226Z"
   },
   {
    "duration": 0,
    "start_time": "2022-11-15T17:55:48.227Z"
   },
   {
    "duration": 0,
    "start_time": "2022-11-15T17:55:48.228Z"
   },
   {
    "duration": 0,
    "start_time": "2022-11-15T17:55:48.229Z"
   },
   {
    "duration": 0,
    "start_time": "2022-11-15T17:55:48.230Z"
   },
   {
    "duration": 0,
    "start_time": "2022-11-15T17:55:48.231Z"
   },
   {
    "duration": 0,
    "start_time": "2022-11-15T17:55:48.232Z"
   },
   {
    "duration": 0,
    "start_time": "2022-11-15T17:55:48.233Z"
   },
   {
    "duration": 0,
    "start_time": "2022-11-15T17:55:48.234Z"
   },
   {
    "duration": 0,
    "start_time": "2022-11-15T17:55:48.235Z"
   },
   {
    "duration": 0,
    "start_time": "2022-11-15T17:55:48.236Z"
   },
   {
    "duration": 299,
    "start_time": "2022-11-15T17:56:35.833Z"
   },
   {
    "duration": 1135,
    "start_time": "2022-11-15T17:56:41.913Z"
   },
   {
    "duration": 23,
    "start_time": "2022-11-15T17:56:43.050Z"
   },
   {
    "duration": 12,
    "start_time": "2022-11-15T17:56:43.075Z"
   },
   {
    "duration": 15,
    "start_time": "2022-11-15T17:56:43.089Z"
   },
   {
    "duration": 9,
    "start_time": "2022-11-15T17:56:43.106Z"
   },
   {
    "duration": 18,
    "start_time": "2022-11-15T17:56:43.117Z"
   },
   {
    "duration": 11,
    "start_time": "2022-11-15T17:56:43.137Z"
   },
   {
    "duration": 39,
    "start_time": "2022-11-15T17:56:43.149Z"
   },
   {
    "duration": 14,
    "start_time": "2022-11-15T17:56:43.189Z"
   },
   {
    "duration": 11,
    "start_time": "2022-11-15T17:56:43.206Z"
   },
   {
    "duration": 13,
    "start_time": "2022-11-15T17:56:43.219Z"
   },
   {
    "duration": 13,
    "start_time": "2022-11-15T17:56:43.234Z"
   },
   {
    "duration": 12,
    "start_time": "2022-11-15T17:56:43.249Z"
   },
   {
    "duration": 18,
    "start_time": "2022-11-15T17:56:43.263Z"
   },
   {
    "duration": 6,
    "start_time": "2022-11-15T17:56:43.282Z"
   },
   {
    "duration": 8,
    "start_time": "2022-11-15T17:56:43.289Z"
   },
   {
    "duration": 6,
    "start_time": "2022-11-15T17:56:43.298Z"
   },
   {
    "duration": 13,
    "start_time": "2022-11-15T17:56:43.305Z"
   },
   {
    "duration": 16,
    "start_time": "2022-11-15T17:56:43.320Z"
   },
   {
    "duration": 646,
    "start_time": "2022-11-15T17:56:43.338Z"
   },
   {
    "duration": 256,
    "start_time": "2022-11-15T17:56:43.987Z"
   },
   {
    "duration": 337,
    "start_time": "2022-11-15T17:56:44.245Z"
   },
   {
    "duration": 215,
    "start_time": "2022-11-15T17:56:44.584Z"
   },
   {
    "duration": 305,
    "start_time": "2022-11-15T17:56:44.801Z"
   },
   {
    "duration": 134,
    "start_time": "2022-11-15T17:56:45.107Z"
   },
   {
    "duration": 4,
    "start_time": "2022-11-15T17:56:45.243Z"
   },
   {
    "duration": 140,
    "start_time": "2022-11-15T17:56:45.249Z"
   },
   {
    "duration": 4,
    "start_time": "2022-11-15T17:56:45.392Z"
   },
   {
    "duration": 233,
    "start_time": "2022-11-15T17:56:45.397Z"
   },
   {
    "duration": 161,
    "start_time": "2022-11-15T17:56:45.632Z"
   },
   {
    "duration": 11,
    "start_time": "2022-11-15T17:56:45.794Z"
   },
   {
    "duration": 9,
    "start_time": "2022-11-15T17:56:45.806Z"
   },
   {
    "duration": 26,
    "start_time": "2022-11-15T17:56:45.816Z"
   },
   {
    "duration": 40,
    "start_time": "2022-11-15T17:56:45.843Z"
   },
   {
    "duration": 393,
    "start_time": "2022-11-15T18:01:31.543Z"
   },
   {
    "duration": 1039,
    "start_time": "2022-11-15T18:01:37.498Z"
   },
   {
    "duration": 23,
    "start_time": "2022-11-15T18:01:38.540Z"
   },
   {
    "duration": 11,
    "start_time": "2022-11-15T18:01:38.564Z"
   },
   {
    "duration": 14,
    "start_time": "2022-11-15T18:01:38.576Z"
   },
   {
    "duration": 7,
    "start_time": "2022-11-15T18:01:38.591Z"
   },
   {
    "duration": 17,
    "start_time": "2022-11-15T18:01:38.599Z"
   },
   {
    "duration": 10,
    "start_time": "2022-11-15T18:01:38.618Z"
   },
   {
    "duration": 30,
    "start_time": "2022-11-15T18:01:38.629Z"
   },
   {
    "duration": 12,
    "start_time": "2022-11-15T18:01:38.661Z"
   },
   {
    "duration": 11,
    "start_time": "2022-11-15T18:01:38.676Z"
   },
   {
    "duration": 9,
    "start_time": "2022-11-15T18:01:38.689Z"
   },
   {
    "duration": 13,
    "start_time": "2022-11-15T18:01:38.700Z"
   },
   {
    "duration": 11,
    "start_time": "2022-11-15T18:01:38.714Z"
   },
   {
    "duration": 8,
    "start_time": "2022-11-15T18:01:38.726Z"
   },
   {
    "duration": 7,
    "start_time": "2022-11-15T18:01:38.735Z"
   },
   {
    "duration": 6,
    "start_time": "2022-11-15T18:01:38.743Z"
   },
   {
    "duration": 28,
    "start_time": "2022-11-15T18:01:38.751Z"
   },
   {
    "duration": 12,
    "start_time": "2022-11-15T18:01:38.780Z"
   },
   {
    "duration": 15,
    "start_time": "2022-11-15T18:01:38.793Z"
   },
   {
    "duration": 511,
    "start_time": "2022-11-15T18:01:38.809Z"
   },
   {
    "duration": 167,
    "start_time": "2022-11-15T18:01:39.322Z"
   },
   {
    "duration": 255,
    "start_time": "2022-11-15T18:01:39.491Z"
   },
   {
    "duration": 218,
    "start_time": "2022-11-15T18:01:39.748Z"
   },
   {
    "duration": 320,
    "start_time": "2022-11-15T18:01:39.968Z"
   },
   {
    "duration": 158,
    "start_time": "2022-11-15T18:01:40.290Z"
   },
   {
    "duration": 5,
    "start_time": "2022-11-15T18:01:40.450Z"
   },
   {
    "duration": 149,
    "start_time": "2022-11-15T18:01:40.457Z"
   },
   {
    "duration": 5,
    "start_time": "2022-11-15T18:01:40.609Z"
   },
   {
    "duration": 250,
    "start_time": "2022-11-15T18:01:40.616Z"
   },
   {
    "duration": 165,
    "start_time": "2022-11-15T18:01:40.867Z"
   },
   {
    "duration": 11,
    "start_time": "2022-11-15T18:01:41.034Z"
   },
   {
    "duration": 9,
    "start_time": "2022-11-15T18:01:41.046Z"
   },
   {
    "duration": 29,
    "start_time": "2022-11-15T18:01:41.079Z"
   },
   {
    "duration": 16,
    "start_time": "2022-11-15T18:01:41.110Z"
   },
   {
    "duration": 377,
    "start_time": "2022-11-15T18:02:47.543Z"
   },
   {
    "duration": 999,
    "start_time": "2022-11-15T18:02:52.623Z"
   },
   {
    "duration": 22,
    "start_time": "2022-11-15T18:02:53.625Z"
   },
   {
    "duration": 11,
    "start_time": "2022-11-15T18:02:53.649Z"
   },
   {
    "duration": 18,
    "start_time": "2022-11-15T18:02:53.662Z"
   },
   {
    "duration": 12,
    "start_time": "2022-11-15T18:02:53.681Z"
   },
   {
    "duration": 15,
    "start_time": "2022-11-15T18:02:53.694Z"
   },
   {
    "duration": 16,
    "start_time": "2022-11-15T18:02:53.711Z"
   },
   {
    "duration": 34,
    "start_time": "2022-11-15T18:02:53.729Z"
   },
   {
    "duration": 12,
    "start_time": "2022-11-15T18:02:53.764Z"
   },
   {
    "duration": 11,
    "start_time": "2022-11-15T18:02:53.779Z"
   },
   {
    "duration": 13,
    "start_time": "2022-11-15T18:02:53.791Z"
   },
   {
    "duration": 12,
    "start_time": "2022-11-15T18:02:53.805Z"
   },
   {
    "duration": 10,
    "start_time": "2022-11-15T18:02:53.818Z"
   },
   {
    "duration": 10,
    "start_time": "2022-11-15T18:02:53.829Z"
   },
   {
    "duration": 8,
    "start_time": "2022-11-15T18:02:53.840Z"
   },
   {
    "duration": 7,
    "start_time": "2022-11-15T18:02:53.849Z"
   },
   {
    "duration": 24,
    "start_time": "2022-11-15T18:02:53.857Z"
   },
   {
    "duration": 17,
    "start_time": "2022-11-15T18:02:53.883Z"
   },
   {
    "duration": 21,
    "start_time": "2022-11-15T18:02:53.901Z"
   },
   {
    "duration": 554,
    "start_time": "2022-11-15T18:02:53.924Z"
   },
   {
    "duration": 170,
    "start_time": "2022-11-15T18:02:54.480Z"
   },
   {
    "duration": 280,
    "start_time": "2022-11-15T18:02:54.652Z"
   },
   {
    "duration": 194,
    "start_time": "2022-11-15T18:02:54.934Z"
   },
   {
    "duration": 293,
    "start_time": "2022-11-15T18:02:55.129Z"
   },
   {
    "duration": 139,
    "start_time": "2022-11-15T18:02:55.424Z"
   },
   {
    "duration": 4,
    "start_time": "2022-11-15T18:02:55.565Z"
   },
   {
    "duration": 138,
    "start_time": "2022-11-15T18:02:55.578Z"
   },
   {
    "duration": 7,
    "start_time": "2022-11-15T18:02:55.720Z"
   },
   {
    "duration": 236,
    "start_time": "2022-11-15T18:02:55.729Z"
   },
   {
    "duration": 175,
    "start_time": "2022-11-15T18:02:55.966Z"
   },
   {
    "duration": 13,
    "start_time": "2022-11-15T18:02:56.142Z"
   },
   {
    "duration": 28,
    "start_time": "2022-11-15T18:02:56.157Z"
   },
   {
    "duration": 33,
    "start_time": "2022-11-15T18:02:56.187Z"
   },
   {
    "duration": 16,
    "start_time": "2022-11-15T18:02:56.222Z"
   },
   {
    "duration": 1008,
    "start_time": "2022-11-15T18:09:21.712Z"
   },
   {
    "duration": 22,
    "start_time": "2022-11-15T18:09:22.721Z"
   },
   {
    "duration": 11,
    "start_time": "2022-11-15T18:09:22.745Z"
   },
   {
    "duration": 16,
    "start_time": "2022-11-15T18:09:22.757Z"
   },
   {
    "duration": 12,
    "start_time": "2022-11-15T18:09:22.774Z"
   },
   {
    "duration": 17,
    "start_time": "2022-11-15T18:09:22.787Z"
   },
   {
    "duration": 9,
    "start_time": "2022-11-15T18:09:22.805Z"
   },
   {
    "duration": 30,
    "start_time": "2022-11-15T18:09:22.816Z"
   },
   {
    "duration": 13,
    "start_time": "2022-11-15T18:09:22.847Z"
   },
   {
    "duration": 11,
    "start_time": "2022-11-15T18:09:22.862Z"
   },
   {
    "duration": 10,
    "start_time": "2022-11-15T18:09:22.875Z"
   },
   {
    "duration": 12,
    "start_time": "2022-11-15T18:09:22.886Z"
   },
   {
    "duration": 11,
    "start_time": "2022-11-15T18:09:22.899Z"
   },
   {
    "duration": 6,
    "start_time": "2022-11-15T18:09:22.912Z"
   },
   {
    "duration": 6,
    "start_time": "2022-11-15T18:09:22.920Z"
   },
   {
    "duration": 9,
    "start_time": "2022-11-15T18:09:22.928Z"
   },
   {
    "duration": 9,
    "start_time": "2022-11-15T18:09:22.939Z"
   },
   {
    "duration": 34,
    "start_time": "2022-11-15T18:09:22.949Z"
   },
   {
    "duration": 15,
    "start_time": "2022-11-15T18:09:22.984Z"
   },
   {
    "duration": 502,
    "start_time": "2022-11-15T18:09:23.001Z"
   },
   {
    "duration": 175,
    "start_time": "2022-11-15T18:09:23.505Z"
   },
   {
    "duration": 275,
    "start_time": "2022-11-15T18:09:23.681Z"
   },
   {
    "duration": 228,
    "start_time": "2022-11-15T18:09:23.958Z"
   },
   {
    "duration": 314,
    "start_time": "2022-11-15T18:09:24.188Z"
   },
   {
    "duration": 129,
    "start_time": "2022-11-15T18:09:24.503Z"
   },
   {
    "duration": 4,
    "start_time": "2022-11-15T18:09:24.633Z"
   },
   {
    "duration": 123,
    "start_time": "2022-11-15T18:09:24.639Z"
   },
   {
    "duration": 4,
    "start_time": "2022-11-15T18:09:24.765Z"
   },
   {
    "duration": 235,
    "start_time": "2022-11-15T18:09:24.771Z"
   },
   {
    "duration": 138,
    "start_time": "2022-11-15T18:09:25.008Z"
   },
   {
    "duration": 10,
    "start_time": "2022-11-15T18:09:25.147Z"
   },
   {
    "duration": 20,
    "start_time": "2022-11-15T18:09:25.159Z"
   },
   {
    "duration": 25,
    "start_time": "2022-11-15T18:09:25.181Z"
   },
   {
    "duration": 13,
    "start_time": "2022-11-15T18:09:25.208Z"
   },
   {
    "duration": 1047,
    "start_time": "2022-11-15T18:10:46.767Z"
   },
   {
    "duration": 22,
    "start_time": "2022-11-15T18:10:47.816Z"
   },
   {
    "duration": 12,
    "start_time": "2022-11-15T18:10:47.840Z"
   },
   {
    "duration": 15,
    "start_time": "2022-11-15T18:10:47.853Z"
   },
   {
    "duration": 11,
    "start_time": "2022-11-15T18:10:47.870Z"
   },
   {
    "duration": 14,
    "start_time": "2022-11-15T18:10:47.883Z"
   },
   {
    "duration": 10,
    "start_time": "2022-11-15T18:10:47.899Z"
   },
   {
    "duration": 30,
    "start_time": "2022-11-15T18:10:47.910Z"
   },
   {
    "duration": 13,
    "start_time": "2022-11-15T18:10:47.941Z"
   },
   {
    "duration": 11,
    "start_time": "2022-11-15T18:10:47.956Z"
   },
   {
    "duration": 13,
    "start_time": "2022-11-15T18:10:47.968Z"
   },
   {
    "duration": 19,
    "start_time": "2022-11-15T18:10:47.982Z"
   },
   {
    "duration": 9,
    "start_time": "2022-11-15T18:10:48.002Z"
   },
   {
    "duration": 9,
    "start_time": "2022-11-15T18:10:48.013Z"
   },
   {
    "duration": 9,
    "start_time": "2022-11-15T18:10:48.024Z"
   },
   {
    "duration": 9,
    "start_time": "2022-11-15T18:10:48.034Z"
   },
   {
    "duration": 9,
    "start_time": "2022-11-15T18:10:48.045Z"
   },
   {
    "duration": 22,
    "start_time": "2022-11-15T18:10:48.056Z"
   },
   {
    "duration": 14,
    "start_time": "2022-11-15T18:10:48.080Z"
   },
   {
    "duration": 570,
    "start_time": "2022-11-15T18:10:48.096Z"
   },
   {
    "duration": 168,
    "start_time": "2022-11-15T18:10:48.668Z"
   },
   {
    "duration": 250,
    "start_time": "2022-11-15T18:10:48.838Z"
   },
   {
    "duration": 188,
    "start_time": "2022-11-15T18:10:49.090Z"
   },
   {
    "duration": 328,
    "start_time": "2022-11-15T18:10:49.279Z"
   },
   {
    "duration": 132,
    "start_time": "2022-11-15T18:10:49.608Z"
   },
   {
    "duration": 5,
    "start_time": "2022-11-15T18:10:49.741Z"
   },
   {
    "duration": 131,
    "start_time": "2022-11-15T18:10:49.748Z"
   },
   {
    "duration": 4,
    "start_time": "2022-11-15T18:10:49.881Z"
   },
   {
    "duration": 220,
    "start_time": "2022-11-15T18:10:49.887Z"
   },
   {
    "duration": 137,
    "start_time": "2022-11-15T18:10:50.108Z"
   },
   {
    "duration": 10,
    "start_time": "2022-11-15T18:10:50.246Z"
   },
   {
    "duration": 27,
    "start_time": "2022-11-15T18:10:50.258Z"
   },
   {
    "duration": 30,
    "start_time": "2022-11-15T18:10:50.286Z"
   },
   {
    "duration": 13,
    "start_time": "2022-11-15T18:10:50.317Z"
   },
   {
    "duration": 415,
    "start_time": "2022-11-15T19:32:08.876Z"
   },
   {
    "duration": 1083,
    "start_time": "2022-11-15T19:32:16.537Z"
   },
   {
    "duration": 24,
    "start_time": "2022-11-15T19:32:17.621Z"
   },
   {
    "duration": 11,
    "start_time": "2022-11-15T19:32:17.646Z"
   },
   {
    "duration": 20,
    "start_time": "2022-11-15T19:32:17.659Z"
   },
   {
    "duration": 8,
    "start_time": "2022-11-15T19:32:17.681Z"
   },
   {
    "duration": 13,
    "start_time": "2022-11-15T19:32:17.691Z"
   },
   {
    "duration": 10,
    "start_time": "2022-11-15T19:32:17.706Z"
   },
   {
    "duration": 31,
    "start_time": "2022-11-15T19:32:17.717Z"
   },
   {
    "duration": 12,
    "start_time": "2022-11-15T19:32:17.750Z"
   },
   {
    "duration": 12,
    "start_time": "2022-11-15T19:32:17.763Z"
   },
   {
    "duration": 10,
    "start_time": "2022-11-15T19:32:17.776Z"
   },
   {
    "duration": 10,
    "start_time": "2022-11-15T19:32:17.788Z"
   },
   {
    "duration": 12,
    "start_time": "2022-11-15T19:32:17.800Z"
   },
   {
    "duration": 6,
    "start_time": "2022-11-15T19:32:17.815Z"
   },
   {
    "duration": 7,
    "start_time": "2022-11-15T19:32:17.822Z"
   },
   {
    "duration": 11,
    "start_time": "2022-11-15T19:32:17.831Z"
   },
   {
    "duration": 34,
    "start_time": "2022-11-15T19:32:17.844Z"
   },
   {
    "duration": 14,
    "start_time": "2022-11-15T19:32:17.880Z"
   },
   {
    "duration": 16,
    "start_time": "2022-11-15T19:32:17.895Z"
   },
   {
    "duration": 517,
    "start_time": "2022-11-15T19:32:17.913Z"
   },
   {
    "duration": 190,
    "start_time": "2022-11-15T19:32:18.432Z"
   },
   {
    "duration": 231,
    "start_time": "2022-11-15T19:32:18.624Z"
   },
   {
    "duration": 197,
    "start_time": "2022-11-15T19:32:18.856Z"
   },
   {
    "duration": 350,
    "start_time": "2022-11-15T19:32:19.054Z"
   },
   {
    "duration": 130,
    "start_time": "2022-11-15T19:32:19.407Z"
   },
   {
    "duration": 4,
    "start_time": "2022-11-15T19:32:19.538Z"
   },
   {
    "duration": 123,
    "start_time": "2022-11-15T19:32:19.544Z"
   },
   {
    "duration": 12,
    "start_time": "2022-11-15T19:32:19.669Z"
   },
   {
    "duration": 232,
    "start_time": "2022-11-15T19:32:19.683Z"
   },
   {
    "duration": 149,
    "start_time": "2022-11-15T19:32:19.917Z"
   },
   {
    "duration": 19,
    "start_time": "2022-11-15T19:32:20.067Z"
   },
   {
    "duration": 9,
    "start_time": "2022-11-15T19:32:20.088Z"
   },
   {
    "duration": 46,
    "start_time": "2022-11-15T19:32:20.099Z"
   },
   {
    "duration": 13,
    "start_time": "2022-11-15T19:32:20.146Z"
   },
   {
    "duration": 1035,
    "start_time": "2022-11-15T19:45:51.543Z"
   },
   {
    "duration": 31,
    "start_time": "2022-11-15T19:45:52.580Z"
   },
   {
    "duration": 11,
    "start_time": "2022-11-15T19:45:52.612Z"
   },
   {
    "duration": 13,
    "start_time": "2022-11-15T19:45:52.625Z"
   },
   {
    "duration": 8,
    "start_time": "2022-11-15T19:45:52.640Z"
   },
   {
    "duration": 13,
    "start_time": "2022-11-15T19:45:52.649Z"
   },
   {
    "duration": 15,
    "start_time": "2022-11-15T19:45:52.664Z"
   },
   {
    "duration": 29,
    "start_time": "2022-11-15T19:45:52.680Z"
   },
   {
    "duration": 13,
    "start_time": "2022-11-15T19:45:52.711Z"
   },
   {
    "duration": 11,
    "start_time": "2022-11-15T19:45:52.727Z"
   },
   {
    "duration": 12,
    "start_time": "2022-11-15T19:45:52.740Z"
   },
   {
    "duration": 14,
    "start_time": "2022-11-15T19:45:52.754Z"
   },
   {
    "duration": 10,
    "start_time": "2022-11-15T19:45:52.769Z"
   },
   {
    "duration": 7,
    "start_time": "2022-11-15T19:45:52.781Z"
   },
   {
    "duration": 8,
    "start_time": "2022-11-15T19:45:52.790Z"
   },
   {
    "duration": 8,
    "start_time": "2022-11-15T19:45:52.799Z"
   },
   {
    "duration": 7,
    "start_time": "2022-11-15T19:45:52.808Z"
   },
   {
    "duration": 16,
    "start_time": "2022-11-15T19:45:52.816Z"
   },
   {
    "duration": 15,
    "start_time": "2022-11-15T19:45:52.834Z"
   },
   {
    "duration": 584,
    "start_time": "2022-11-15T19:45:52.850Z"
   },
   {
    "duration": 178,
    "start_time": "2022-11-15T19:45:53.435Z"
   },
   {
    "duration": 237,
    "start_time": "2022-11-15T19:45:53.615Z"
   },
   {
    "duration": 248,
    "start_time": "2022-11-15T19:45:53.854Z"
   },
   {
    "duration": 304,
    "start_time": "2022-11-15T19:45:54.104Z"
   },
   {
    "duration": 144,
    "start_time": "2022-11-15T19:45:54.410Z"
   },
   {
    "duration": 5,
    "start_time": "2022-11-15T19:45:54.555Z"
   },
   {
    "duration": 148,
    "start_time": "2022-11-15T19:45:54.561Z"
   },
   {
    "duration": 4,
    "start_time": "2022-11-15T19:45:54.712Z"
   },
   {
    "duration": 268,
    "start_time": "2022-11-15T19:45:54.717Z"
   },
   {
    "duration": 163,
    "start_time": "2022-11-15T19:45:54.987Z"
   },
   {
    "duration": 11,
    "start_time": "2022-11-15T19:45:55.152Z"
   },
   {
    "duration": 11,
    "start_time": "2022-11-15T19:45:55.177Z"
   },
   {
    "duration": 29,
    "start_time": "2022-11-15T19:45:55.190Z"
   },
   {
    "duration": 15,
    "start_time": "2022-11-15T19:45:55.220Z"
   },
   {
    "duration": 177,
    "start_time": "2022-11-15T19:47:06.892Z"
   },
   {
    "duration": 289,
    "start_time": "2022-11-15T19:49:28.365Z"
   },
   {
    "duration": 253,
    "start_time": "2022-11-15T19:50:16.887Z"
   },
   {
    "duration": 1119,
    "start_time": "2022-11-15T19:50:25.107Z"
   },
   {
    "duration": 23,
    "start_time": "2022-11-15T19:50:26.228Z"
   },
   {
    "duration": 11,
    "start_time": "2022-11-15T19:50:26.252Z"
   },
   {
    "duration": 13,
    "start_time": "2022-11-15T19:50:26.265Z"
   },
   {
    "duration": 8,
    "start_time": "2022-11-15T19:50:26.280Z"
   },
   {
    "duration": 12,
    "start_time": "2022-11-15T19:50:26.289Z"
   },
   {
    "duration": 10,
    "start_time": "2022-11-15T19:50:26.302Z"
   },
   {
    "duration": 31,
    "start_time": "2022-11-15T19:50:26.313Z"
   },
   {
    "duration": 12,
    "start_time": "2022-11-15T19:50:26.345Z"
   },
   {
    "duration": 11,
    "start_time": "2022-11-15T19:50:26.360Z"
   },
   {
    "duration": 9,
    "start_time": "2022-11-15T19:50:26.378Z"
   },
   {
    "duration": 11,
    "start_time": "2022-11-15T19:50:26.388Z"
   },
   {
    "duration": 16,
    "start_time": "2022-11-15T19:50:26.401Z"
   },
   {
    "duration": 7,
    "start_time": "2022-11-15T19:50:26.418Z"
   },
   {
    "duration": 7,
    "start_time": "2022-11-15T19:50:26.427Z"
   },
   {
    "duration": 7,
    "start_time": "2022-11-15T19:50:26.435Z"
   },
   {
    "duration": 4,
    "start_time": "2022-11-15T19:50:26.444Z"
   },
   {
    "duration": 36,
    "start_time": "2022-11-15T19:50:26.450Z"
   },
   {
    "duration": 16,
    "start_time": "2022-11-15T19:50:26.488Z"
   },
   {
    "duration": 524,
    "start_time": "2022-11-15T19:50:26.505Z"
   },
   {
    "duration": 188,
    "start_time": "2022-11-15T19:50:27.031Z"
   },
   {
    "duration": 235,
    "start_time": "2022-11-15T19:50:27.221Z"
   },
   {
    "duration": 187,
    "start_time": "2022-11-15T19:50:27.458Z"
   },
   {
    "duration": 322,
    "start_time": "2022-11-15T19:50:27.647Z"
   },
   {
    "duration": 142,
    "start_time": "2022-11-15T19:50:27.970Z"
   },
   {
    "duration": 5,
    "start_time": "2022-11-15T19:50:28.113Z"
   },
   {
    "duration": 129,
    "start_time": "2022-11-15T19:50:28.119Z"
   },
   {
    "duration": 5,
    "start_time": "2022-11-15T19:50:28.252Z"
   },
   {
    "duration": 234,
    "start_time": "2022-11-15T19:50:28.258Z"
   },
   {
    "duration": 198,
    "start_time": "2022-11-15T19:50:28.493Z"
   },
   {
    "duration": 12,
    "start_time": "2022-11-15T19:50:28.693Z"
   },
   {
    "duration": 12,
    "start_time": "2022-11-15T19:50:28.706Z"
   },
   {
    "duration": 34,
    "start_time": "2022-11-15T19:50:28.720Z"
   },
   {
    "duration": 32,
    "start_time": "2022-11-15T19:50:28.755Z"
   },
   {
    "duration": 274,
    "start_time": "2022-11-15T19:51:39.382Z"
   },
   {
    "duration": 276,
    "start_time": "2022-11-15T19:53:06.772Z"
   },
   {
    "duration": 1032,
    "start_time": "2022-11-15T19:56:45.408Z"
   },
   {
    "duration": 22,
    "start_time": "2022-11-15T19:56:46.441Z"
   },
   {
    "duration": 18,
    "start_time": "2022-11-15T19:56:46.465Z"
   },
   {
    "duration": 38,
    "start_time": "2022-11-15T19:56:46.485Z"
   },
   {
    "duration": 21,
    "start_time": "2022-11-15T19:56:46.524Z"
   },
   {
    "duration": 27,
    "start_time": "2022-11-15T19:56:46.547Z"
   },
   {
    "duration": 19,
    "start_time": "2022-11-15T19:56:46.575Z"
   },
   {
    "duration": 47,
    "start_time": "2022-11-15T19:56:46.596Z"
   },
   {
    "duration": 13,
    "start_time": "2022-11-15T19:56:46.645Z"
   },
   {
    "duration": 26,
    "start_time": "2022-11-15T19:56:46.661Z"
   },
   {
    "duration": 31,
    "start_time": "2022-11-15T19:56:46.689Z"
   },
   {
    "duration": 36,
    "start_time": "2022-11-15T19:56:46.722Z"
   },
   {
    "duration": 45,
    "start_time": "2022-11-15T19:56:46.760Z"
   },
   {
    "duration": 29,
    "start_time": "2022-11-15T19:56:46.807Z"
   },
   {
    "duration": 19,
    "start_time": "2022-11-15T19:56:46.837Z"
   },
   {
    "duration": 23,
    "start_time": "2022-11-15T19:56:46.857Z"
   },
   {
    "duration": 33,
    "start_time": "2022-11-15T19:56:46.881Z"
   },
   {
    "duration": 34,
    "start_time": "2022-11-15T19:56:46.915Z"
   },
   {
    "duration": 24,
    "start_time": "2022-11-15T19:56:46.951Z"
   },
   {
    "duration": 603,
    "start_time": "2022-11-15T19:56:46.977Z"
   },
   {
    "duration": 0,
    "start_time": "2022-11-15T19:56:47.582Z"
   },
   {
    "duration": 0,
    "start_time": "2022-11-15T19:56:47.582Z"
   },
   {
    "duration": 0,
    "start_time": "2022-11-15T19:56:47.584Z"
   },
   {
    "duration": 0,
    "start_time": "2022-11-15T19:56:47.585Z"
   },
   {
    "duration": 0,
    "start_time": "2022-11-15T19:56:47.586Z"
   },
   {
    "duration": 0,
    "start_time": "2022-11-15T19:56:47.587Z"
   },
   {
    "duration": 0,
    "start_time": "2022-11-15T19:56:47.588Z"
   },
   {
    "duration": 0,
    "start_time": "2022-11-15T19:56:47.590Z"
   },
   {
    "duration": 0,
    "start_time": "2022-11-15T19:56:47.591Z"
   },
   {
    "duration": 0,
    "start_time": "2022-11-15T19:56:47.592Z"
   },
   {
    "duration": 0,
    "start_time": "2022-11-15T19:56:47.593Z"
   },
   {
    "duration": 0,
    "start_time": "2022-11-15T19:56:47.594Z"
   },
   {
    "duration": 0,
    "start_time": "2022-11-15T19:56:47.595Z"
   },
   {
    "duration": 0,
    "start_time": "2022-11-15T19:56:47.595Z"
   },
   {
    "duration": 321,
    "start_time": "2022-11-15T19:57:04.602Z"
   },
   {
    "duration": 1057,
    "start_time": "2022-11-15T19:57:10.164Z"
   },
   {
    "duration": 22,
    "start_time": "2022-11-15T19:57:11.223Z"
   },
   {
    "duration": 11,
    "start_time": "2022-11-15T19:57:11.246Z"
   },
   {
    "duration": 17,
    "start_time": "2022-11-15T19:57:11.259Z"
   },
   {
    "duration": 9,
    "start_time": "2022-11-15T19:57:11.277Z"
   },
   {
    "duration": 22,
    "start_time": "2022-11-15T19:57:11.287Z"
   },
   {
    "duration": 12,
    "start_time": "2022-11-15T19:57:11.311Z"
   },
   {
    "duration": 31,
    "start_time": "2022-11-15T19:57:11.325Z"
   },
   {
    "duration": 13,
    "start_time": "2022-11-15T19:57:11.357Z"
   },
   {
    "duration": 11,
    "start_time": "2022-11-15T19:57:11.372Z"
   },
   {
    "duration": 13,
    "start_time": "2022-11-15T19:57:11.385Z"
   },
   {
    "duration": 16,
    "start_time": "2022-11-15T19:57:11.399Z"
   },
   {
    "duration": 10,
    "start_time": "2022-11-15T19:57:11.416Z"
   },
   {
    "duration": 7,
    "start_time": "2022-11-15T19:57:11.427Z"
   },
   {
    "duration": 6,
    "start_time": "2022-11-15T19:57:11.436Z"
   },
   {
    "duration": 6,
    "start_time": "2022-11-15T19:57:11.444Z"
   },
   {
    "duration": 29,
    "start_time": "2022-11-15T19:57:11.452Z"
   },
   {
    "duration": 15,
    "start_time": "2022-11-15T19:57:11.483Z"
   },
   {
    "duration": 18,
    "start_time": "2022-11-15T19:57:11.500Z"
   },
   {
    "duration": 536,
    "start_time": "2022-11-15T19:57:11.520Z"
   },
   {
    "duration": 222,
    "start_time": "2022-11-15T19:57:12.058Z"
   },
   {
    "duration": 303,
    "start_time": "2022-11-15T19:57:12.281Z"
   },
   {
    "duration": 259,
    "start_time": "2022-11-15T19:57:12.585Z"
   },
   {
    "duration": 322,
    "start_time": "2022-11-15T19:57:12.846Z"
   },
   {
    "duration": 139,
    "start_time": "2022-11-15T19:57:13.170Z"
   },
   {
    "duration": 4,
    "start_time": "2022-11-15T19:57:13.311Z"
   },
   {
    "duration": 125,
    "start_time": "2022-11-15T19:57:13.316Z"
   },
   {
    "duration": 4,
    "start_time": "2022-11-15T19:57:13.444Z"
   },
   {
    "duration": 217,
    "start_time": "2022-11-15T19:57:13.450Z"
   },
   {
    "duration": 158,
    "start_time": "2022-11-15T19:57:13.668Z"
   },
   {
    "duration": 10,
    "start_time": "2022-11-15T19:57:13.828Z"
   },
   {
    "duration": 21,
    "start_time": "2022-11-15T19:57:13.840Z"
   },
   {
    "duration": 37,
    "start_time": "2022-11-15T19:57:13.862Z"
   },
   {
    "duration": 19,
    "start_time": "2022-11-15T19:57:13.901Z"
   },
   {
    "duration": 177,
    "start_time": "2022-11-15T20:01:29.737Z"
   },
   {
    "duration": 10,
    "start_time": "2022-11-15T20:01:40.100Z"
   },
   {
    "duration": 218,
    "start_time": "2022-11-15T20:02:01.072Z"
   },
   {
    "duration": 159,
    "start_time": "2022-11-15T20:02:23.370Z"
   },
   {
    "duration": 282,
    "start_time": "2022-11-15T20:02:31.580Z"
   },
   {
    "duration": 323,
    "start_time": "2022-11-15T20:08:59.937Z"
   },
   {
    "duration": 288,
    "start_time": "2022-11-15T20:09:08.778Z"
   },
   {
    "duration": 1059,
    "start_time": "2022-11-15T20:09:27.667Z"
   },
   {
    "duration": 21,
    "start_time": "2022-11-15T20:09:28.728Z"
   },
   {
    "duration": 10,
    "start_time": "2022-11-15T20:09:28.751Z"
   },
   {
    "duration": 12,
    "start_time": "2022-11-15T20:09:28.763Z"
   },
   {
    "duration": 7,
    "start_time": "2022-11-15T20:09:28.778Z"
   },
   {
    "duration": 18,
    "start_time": "2022-11-15T20:09:28.787Z"
   },
   {
    "duration": 10,
    "start_time": "2022-11-15T20:09:28.807Z"
   },
   {
    "duration": 33,
    "start_time": "2022-11-15T20:09:28.819Z"
   },
   {
    "duration": 13,
    "start_time": "2022-11-15T20:09:28.854Z"
   },
   {
    "duration": 13,
    "start_time": "2022-11-15T20:09:28.869Z"
   },
   {
    "duration": 17,
    "start_time": "2022-11-15T20:09:28.883Z"
   },
   {
    "duration": 11,
    "start_time": "2022-11-15T20:09:28.902Z"
   },
   {
    "duration": 14,
    "start_time": "2022-11-15T20:09:28.915Z"
   },
   {
    "duration": 16,
    "start_time": "2022-11-15T20:09:28.931Z"
   },
   {
    "duration": 7,
    "start_time": "2022-11-15T20:09:28.950Z"
   },
   {
    "duration": 11,
    "start_time": "2022-11-15T20:09:28.977Z"
   },
   {
    "duration": 10,
    "start_time": "2022-11-15T20:09:28.990Z"
   },
   {
    "duration": 17,
    "start_time": "2022-11-15T20:09:29.002Z"
   },
   {
    "duration": 15,
    "start_time": "2022-11-15T20:09:29.021Z"
   },
   {
    "duration": 619,
    "start_time": "2022-11-15T20:09:29.038Z"
   },
   {
    "duration": 0,
    "start_time": "2022-11-15T20:09:29.659Z"
   },
   {
    "duration": 0,
    "start_time": "2022-11-15T20:09:29.660Z"
   },
   {
    "duration": 0,
    "start_time": "2022-11-15T20:09:29.662Z"
   },
   {
    "duration": 0,
    "start_time": "2022-11-15T20:09:29.663Z"
   },
   {
    "duration": 0,
    "start_time": "2022-11-15T20:09:29.664Z"
   },
   {
    "duration": 0,
    "start_time": "2022-11-15T20:09:29.666Z"
   },
   {
    "duration": 0,
    "start_time": "2022-11-15T20:09:29.678Z"
   },
   {
    "duration": 0,
    "start_time": "2022-11-15T20:09:29.679Z"
   },
   {
    "duration": 0,
    "start_time": "2022-11-15T20:09:29.680Z"
   },
   {
    "duration": 0,
    "start_time": "2022-11-15T20:09:29.681Z"
   },
   {
    "duration": 0,
    "start_time": "2022-11-15T20:09:29.683Z"
   },
   {
    "duration": 0,
    "start_time": "2022-11-15T20:09:29.685Z"
   },
   {
    "duration": 0,
    "start_time": "2022-11-15T20:09:29.686Z"
   },
   {
    "duration": 0,
    "start_time": "2022-11-15T20:09:29.688Z"
   },
   {
    "duration": 318,
    "start_time": "2022-11-15T20:09:50.045Z"
   },
   {
    "duration": 1019,
    "start_time": "2022-11-15T20:09:54.919Z"
   },
   {
    "duration": 32,
    "start_time": "2022-11-15T20:09:55.940Z"
   },
   {
    "duration": 12,
    "start_time": "2022-11-15T20:09:55.974Z"
   },
   {
    "duration": 12,
    "start_time": "2022-11-15T20:09:55.989Z"
   },
   {
    "duration": 9,
    "start_time": "2022-11-15T20:09:56.003Z"
   },
   {
    "duration": 20,
    "start_time": "2022-11-15T20:09:56.013Z"
   },
   {
    "duration": 13,
    "start_time": "2022-11-15T20:09:56.035Z"
   },
   {
    "duration": 32,
    "start_time": "2022-11-15T20:09:56.050Z"
   },
   {
    "duration": 13,
    "start_time": "2022-11-15T20:09:56.083Z"
   },
   {
    "duration": 11,
    "start_time": "2022-11-15T20:09:56.098Z"
   },
   {
    "duration": 11,
    "start_time": "2022-11-15T20:09:56.111Z"
   },
   {
    "duration": 11,
    "start_time": "2022-11-15T20:09:56.123Z"
   },
   {
    "duration": 13,
    "start_time": "2022-11-15T20:09:56.136Z"
   },
   {
    "duration": 31,
    "start_time": "2022-11-15T20:09:56.150Z"
   },
   {
    "duration": 8,
    "start_time": "2022-11-15T20:09:56.183Z"
   },
   {
    "duration": 8,
    "start_time": "2022-11-15T20:09:56.193Z"
   },
   {
    "duration": 6,
    "start_time": "2022-11-15T20:09:56.202Z"
   },
   {
    "duration": 13,
    "start_time": "2022-11-15T20:09:56.210Z"
   },
   {
    "duration": 15,
    "start_time": "2022-11-15T20:09:56.224Z"
   },
   {
    "duration": 581,
    "start_time": "2022-11-15T20:09:56.241Z"
   },
   {
    "duration": 185,
    "start_time": "2022-11-15T20:09:56.824Z"
   },
   {
    "duration": 256,
    "start_time": "2022-11-15T20:09:57.010Z"
   },
   {
    "duration": 202,
    "start_time": "2022-11-15T20:09:57.267Z"
   },
   {
    "duration": 316,
    "start_time": "2022-11-15T20:09:57.470Z"
   },
   {
    "duration": 129,
    "start_time": "2022-11-15T20:09:57.787Z"
   },
   {
    "duration": 5,
    "start_time": "2022-11-15T20:09:57.918Z"
   },
   {
    "duration": 127,
    "start_time": "2022-11-15T20:09:57.925Z"
   },
   {
    "duration": 4,
    "start_time": "2022-11-15T20:09:58.055Z"
   },
   {
    "duration": 224,
    "start_time": "2022-11-15T20:09:58.061Z"
   },
   {
    "duration": 167,
    "start_time": "2022-11-15T20:09:58.287Z"
   },
   {
    "duration": 11,
    "start_time": "2022-11-15T20:09:58.456Z"
   },
   {
    "duration": 20,
    "start_time": "2022-11-15T20:09:58.469Z"
   },
   {
    "duration": 30,
    "start_time": "2022-11-15T20:09:58.491Z"
   },
   {
    "duration": 22,
    "start_time": "2022-11-15T20:09:58.523Z"
   },
   {
    "duration": 137,
    "start_time": "2022-11-15T20:14:24.114Z"
   },
   {
    "duration": 139,
    "start_time": "2022-11-15T20:14:51.865Z"
   },
   {
    "duration": 141,
    "start_time": "2022-11-15T20:16:06.652Z"
   },
   {
    "duration": 124,
    "start_time": "2022-11-15T20:16:34.496Z"
   },
   {
    "duration": 11,
    "start_time": "2022-11-15T20:17:40.040Z"
   },
   {
    "duration": 1219,
    "start_time": "2022-11-16T11:22:41.307Z"
   },
   {
    "duration": 25,
    "start_time": "2022-11-16T11:22:42.528Z"
   },
   {
    "duration": 12,
    "start_time": "2022-11-16T11:22:42.555Z"
   },
   {
    "duration": 14,
    "start_time": "2022-11-16T11:22:42.570Z"
   },
   {
    "duration": 10,
    "start_time": "2022-11-16T11:22:42.586Z"
   },
   {
    "duration": 25,
    "start_time": "2022-11-16T11:22:42.598Z"
   },
   {
    "duration": 18,
    "start_time": "2022-11-16T11:22:42.625Z"
   },
   {
    "duration": 71,
    "start_time": "2022-11-16T11:22:42.645Z"
   },
   {
    "duration": 58,
    "start_time": "2022-11-16T11:22:42.718Z"
   },
   {
    "duration": 13,
    "start_time": "2022-11-16T11:22:42.779Z"
   },
   {
    "duration": 13,
    "start_time": "2022-11-16T11:22:42.794Z"
   },
   {
    "duration": 14,
    "start_time": "2022-11-16T11:22:42.808Z"
   },
   {
    "duration": 14,
    "start_time": "2022-11-16T11:22:42.824Z"
   },
   {
    "duration": 12,
    "start_time": "2022-11-16T11:22:42.840Z"
   },
   {
    "duration": 11,
    "start_time": "2022-11-16T11:22:42.853Z"
   },
   {
    "duration": 9,
    "start_time": "2022-11-16T11:22:42.865Z"
   },
   {
    "duration": 5,
    "start_time": "2022-11-16T11:22:42.876Z"
   },
   {
    "duration": 16,
    "start_time": "2022-11-16T11:22:42.883Z"
   },
   {
    "duration": 49,
    "start_time": "2022-11-16T11:22:42.901Z"
   },
   {
    "duration": 607,
    "start_time": "2022-11-16T11:22:42.952Z"
   },
   {
    "duration": 221,
    "start_time": "2022-11-16T11:22:43.561Z"
   },
   {
    "duration": 299,
    "start_time": "2022-11-16T11:22:43.784Z"
   },
   {
    "duration": 229,
    "start_time": "2022-11-16T11:22:44.085Z"
   },
   {
    "duration": 358,
    "start_time": "2022-11-16T11:22:44.316Z"
   },
   {
    "duration": 153,
    "start_time": "2022-11-16T11:22:44.676Z"
   },
   {
    "duration": 10,
    "start_time": "2022-11-16T11:22:44.831Z"
   },
   {
    "duration": 154,
    "start_time": "2022-11-16T11:22:44.842Z"
   },
   {
    "duration": 5,
    "start_time": "2022-11-16T11:22:44.999Z"
   },
   {
    "duration": 258,
    "start_time": "2022-11-16T11:22:45.007Z"
   },
   {
    "duration": 165,
    "start_time": "2022-11-16T11:22:45.267Z"
   },
   {
    "duration": 13,
    "start_time": "2022-11-16T11:22:45.438Z"
   },
   {
    "duration": 16,
    "start_time": "2022-11-16T11:22:45.453Z"
   },
   {
    "duration": 33,
    "start_time": "2022-11-16T11:22:45.471Z"
   },
   {
    "duration": 41,
    "start_time": "2022-11-16T11:22:45.506Z"
   },
   {
    "duration": 420,
    "start_time": "2022-11-16T11:26:18.367Z"
   },
   {
    "duration": 347,
    "start_time": "2022-11-16T11:26:26.248Z"
   },
   {
    "duration": 1213,
    "start_time": "2022-11-16T11:26:30.127Z"
   },
   {
    "duration": 23,
    "start_time": "2022-11-16T11:26:31.342Z"
   },
   {
    "duration": 12,
    "start_time": "2022-11-16T11:26:31.367Z"
   },
   {
    "duration": 19,
    "start_time": "2022-11-16T11:26:31.382Z"
   },
   {
    "duration": 9,
    "start_time": "2022-11-16T11:26:31.403Z"
   },
   {
    "duration": 17,
    "start_time": "2022-11-16T11:26:31.414Z"
   },
   {
    "duration": 13,
    "start_time": "2022-11-16T11:26:31.438Z"
   },
   {
    "duration": 39,
    "start_time": "2022-11-16T11:26:31.453Z"
   },
   {
    "duration": 14,
    "start_time": "2022-11-16T11:26:31.494Z"
   },
   {
    "duration": 14,
    "start_time": "2022-11-16T11:26:31.510Z"
   },
   {
    "duration": 13,
    "start_time": "2022-11-16T11:26:31.526Z"
   },
   {
    "duration": 14,
    "start_time": "2022-11-16T11:26:31.541Z"
   },
   {
    "duration": 10,
    "start_time": "2022-11-16T11:26:31.557Z"
   },
   {
    "duration": 7,
    "start_time": "2022-11-16T11:26:31.570Z"
   },
   {
    "duration": 8,
    "start_time": "2022-11-16T11:26:31.579Z"
   },
   {
    "duration": 8,
    "start_time": "2022-11-16T11:26:31.588Z"
   },
   {
    "duration": 6,
    "start_time": "2022-11-16T11:26:31.597Z"
   },
   {
    "duration": 50,
    "start_time": "2022-11-16T11:26:31.604Z"
   },
   {
    "duration": 20,
    "start_time": "2022-11-16T11:26:31.657Z"
   },
   {
    "duration": 900,
    "start_time": "2022-11-16T11:26:31.678Z"
   },
   {
    "duration": 558,
    "start_time": "2022-11-16T11:26:32.581Z"
   },
   {
    "duration": 505,
    "start_time": "2022-11-16T11:26:33.141Z"
   },
   {
    "duration": 491,
    "start_time": "2022-11-16T11:26:33.649Z"
   },
   {
    "duration": 376,
    "start_time": "2022-11-16T11:26:34.143Z"
   },
   {
    "duration": 158,
    "start_time": "2022-11-16T11:26:34.521Z"
   },
   {
    "duration": 5,
    "start_time": "2022-11-16T11:26:34.681Z"
   },
   {
    "duration": 149,
    "start_time": "2022-11-16T11:26:34.688Z"
   },
   {
    "duration": 5,
    "start_time": "2022-11-16T11:26:34.839Z"
   },
   {
    "duration": 351,
    "start_time": "2022-11-16T11:26:34.846Z"
   },
   {
    "duration": 164,
    "start_time": "2022-11-16T11:26:35.199Z"
   },
   {
    "duration": 14,
    "start_time": "2022-11-16T11:26:35.365Z"
   },
   {
    "duration": 11,
    "start_time": "2022-11-16T11:26:35.381Z"
   },
   {
    "duration": 62,
    "start_time": "2022-11-16T11:26:35.394Z"
   },
   {
    "duration": 16,
    "start_time": "2022-11-16T11:26:35.457Z"
   },
   {
    "duration": 425,
    "start_time": "2022-11-16T11:26:56.024Z"
   },
   {
    "duration": 308,
    "start_time": "2022-11-16T11:27:10.543Z"
   },
   {
    "duration": 394,
    "start_time": "2022-11-16T11:27:24.946Z"
   },
   {
    "duration": 329,
    "start_time": "2022-11-16T11:27:46.050Z"
   },
   {
    "duration": 303,
    "start_time": "2022-11-16T11:27:50.640Z"
   },
   {
    "duration": 1178,
    "start_time": "2022-11-16T11:27:56.265Z"
   },
   {
    "duration": 25,
    "start_time": "2022-11-16T11:27:57.445Z"
   },
   {
    "duration": 12,
    "start_time": "2022-11-16T11:27:57.472Z"
   },
   {
    "duration": 21,
    "start_time": "2022-11-16T11:27:57.485Z"
   },
   {
    "duration": 10,
    "start_time": "2022-11-16T11:27:57.509Z"
   },
   {
    "duration": 25,
    "start_time": "2022-11-16T11:27:57.521Z"
   },
   {
    "duration": 14,
    "start_time": "2022-11-16T11:27:57.548Z"
   },
   {
    "duration": 36,
    "start_time": "2022-11-16T11:27:57.564Z"
   },
   {
    "duration": 14,
    "start_time": "2022-11-16T11:27:57.602Z"
   },
   {
    "duration": 18,
    "start_time": "2022-11-16T11:27:57.619Z"
   },
   {
    "duration": 12,
    "start_time": "2022-11-16T11:27:57.640Z"
   },
   {
    "duration": 25,
    "start_time": "2022-11-16T11:27:57.655Z"
   },
   {
    "duration": 20,
    "start_time": "2022-11-16T11:27:57.683Z"
   },
   {
    "duration": 8,
    "start_time": "2022-11-16T11:27:57.707Z"
   },
   {
    "duration": 25,
    "start_time": "2022-11-16T11:27:57.718Z"
   },
   {
    "duration": 11,
    "start_time": "2022-11-16T11:27:57.745Z"
   },
   {
    "duration": 7,
    "start_time": "2022-11-16T11:27:57.758Z"
   },
   {
    "duration": 21,
    "start_time": "2022-11-16T11:27:57.767Z"
   },
   {
    "duration": 63,
    "start_time": "2022-11-16T11:27:57.790Z"
   },
   {
    "duration": 648,
    "start_time": "2022-11-16T11:27:57.856Z"
   },
   {
    "duration": 233,
    "start_time": "2022-11-16T11:27:58.506Z"
   },
   {
    "duration": 383,
    "start_time": "2022-11-16T11:27:58.742Z"
   },
   {
    "duration": 242,
    "start_time": "2022-11-16T11:27:59.127Z"
   },
   {
    "duration": 324,
    "start_time": "2022-11-16T11:27:59.371Z"
   },
   {
    "duration": 161,
    "start_time": "2022-11-16T11:27:59.697Z"
   },
   {
    "duration": 6,
    "start_time": "2022-11-16T11:27:59.860Z"
   },
   {
    "duration": 159,
    "start_time": "2022-11-16T11:27:59.868Z"
   },
   {
    "duration": 11,
    "start_time": "2022-11-16T11:28:00.029Z"
   },
   {
    "duration": 256,
    "start_time": "2022-11-16T11:28:00.042Z"
   },
   {
    "duration": 186,
    "start_time": "2022-11-16T11:28:00.300Z"
   },
   {
    "duration": 12,
    "start_time": "2022-11-16T11:28:00.488Z"
   },
   {
    "duration": 20,
    "start_time": "2022-11-16T11:28:00.502Z"
   },
   {
    "duration": 38,
    "start_time": "2022-11-16T11:28:00.538Z"
   },
   {
    "duration": 19,
    "start_time": "2022-11-16T11:28:00.578Z"
   },
   {
    "duration": 292,
    "start_time": "2022-11-16T11:28:13.120Z"
   },
   {
    "duration": 203,
    "start_time": "2022-11-16T11:28:49.971Z"
   },
   {
    "duration": 53,
    "start_time": "2022-11-16T18:49:46.032Z"
   },
   {
    "duration": 1353,
    "start_time": "2022-11-16T18:49:53.370Z"
   },
   {
    "duration": 63,
    "start_time": "2022-11-16T18:49:54.726Z"
   },
   {
    "duration": 12,
    "start_time": "2022-11-16T18:49:54.790Z"
   },
   {
    "duration": 17,
    "start_time": "2022-11-16T18:49:54.805Z"
   },
   {
    "duration": 8,
    "start_time": "2022-11-16T18:49:54.824Z"
   },
   {
    "duration": 15,
    "start_time": "2022-11-16T18:49:54.834Z"
   },
   {
    "duration": 11,
    "start_time": "2022-11-16T18:49:54.851Z"
   },
   {
    "duration": 73,
    "start_time": "2022-11-16T18:49:54.864Z"
   },
   {
    "duration": 58,
    "start_time": "2022-11-16T18:49:54.939Z"
   },
   {
    "duration": 14,
    "start_time": "2022-11-16T18:49:55.000Z"
   },
   {
    "duration": 22,
    "start_time": "2022-11-16T18:49:55.015Z"
   },
   {
    "duration": 20,
    "start_time": "2022-11-16T18:49:55.039Z"
   },
   {
    "duration": 13,
    "start_time": "2022-11-16T18:49:55.061Z"
   },
   {
    "duration": 12,
    "start_time": "2022-11-16T18:49:55.076Z"
   },
   {
    "duration": 7,
    "start_time": "2022-11-16T18:49:55.090Z"
   },
   {
    "duration": 8,
    "start_time": "2022-11-16T18:49:55.099Z"
   },
   {
    "duration": 6,
    "start_time": "2022-11-16T18:49:55.109Z"
   },
   {
    "duration": 32,
    "start_time": "2022-11-16T18:49:55.116Z"
   },
   {
    "duration": 20,
    "start_time": "2022-11-16T18:49:55.150Z"
   },
   {
    "duration": 586,
    "start_time": "2022-11-16T18:49:55.172Z"
   },
   {
    "duration": 225,
    "start_time": "2022-11-16T18:49:55.760Z"
   },
   {
    "duration": 362,
    "start_time": "2022-11-16T18:49:55.986Z"
   },
   {
    "duration": 222,
    "start_time": "2022-11-16T18:49:56.350Z"
   },
   {
    "duration": 315,
    "start_time": "2022-11-16T18:49:56.574Z"
   },
   {
    "duration": 139,
    "start_time": "2022-11-16T18:49:56.891Z"
   },
   {
    "duration": 10,
    "start_time": "2022-11-16T18:49:57.031Z"
   },
   {
    "duration": 144,
    "start_time": "2022-11-16T18:49:57.042Z"
   },
   {
    "duration": 5,
    "start_time": "2022-11-16T18:49:57.189Z"
   },
   {
    "duration": 334,
    "start_time": "2022-11-16T18:49:57.196Z"
   },
   {
    "duration": 157,
    "start_time": "2022-11-16T18:49:57.537Z"
   },
   {
    "duration": 11,
    "start_time": "2022-11-16T18:49:57.695Z"
   },
   {
    "duration": 29,
    "start_time": "2022-11-16T18:49:57.708Z"
   },
   {
    "duration": 30,
    "start_time": "2022-11-16T18:49:57.739Z"
   },
   {
    "duration": 15,
    "start_time": "2022-11-16T18:49:57.771Z"
   },
   {
    "duration": 389,
    "start_time": "2022-11-16T18:51:15.891Z"
   },
   {
    "duration": 1191,
    "start_time": "2022-11-16T18:51:21.306Z"
   },
   {
    "duration": 24,
    "start_time": "2022-11-16T18:51:22.499Z"
   },
   {
    "duration": 12,
    "start_time": "2022-11-16T18:51:22.524Z"
   },
   {
    "duration": 17,
    "start_time": "2022-11-16T18:51:22.538Z"
   },
   {
    "duration": 9,
    "start_time": "2022-11-16T18:51:22.556Z"
   },
   {
    "duration": 13,
    "start_time": "2022-11-16T18:51:22.566Z"
   },
   {
    "duration": 11,
    "start_time": "2022-11-16T18:51:22.580Z"
   },
   {
    "duration": 34,
    "start_time": "2022-11-16T18:51:22.593Z"
   },
   {
    "duration": 14,
    "start_time": "2022-11-16T18:51:22.629Z"
   },
   {
    "duration": 12,
    "start_time": "2022-11-16T18:51:22.645Z"
   },
   {
    "duration": 11,
    "start_time": "2022-11-16T18:51:22.659Z"
   },
   {
    "duration": 11,
    "start_time": "2022-11-16T18:51:22.672Z"
   },
   {
    "duration": 14,
    "start_time": "2022-11-16T18:51:22.685Z"
   },
   {
    "duration": 11,
    "start_time": "2022-11-16T18:51:22.701Z"
   },
   {
    "duration": 28,
    "start_time": "2022-11-16T18:51:22.714Z"
   },
   {
    "duration": 8,
    "start_time": "2022-11-16T18:51:22.744Z"
   },
   {
    "duration": 5,
    "start_time": "2022-11-16T18:51:22.754Z"
   },
   {
    "duration": 14,
    "start_time": "2022-11-16T18:51:22.761Z"
   },
   {
    "duration": 18,
    "start_time": "2022-11-16T18:51:22.777Z"
   },
   {
    "duration": 585,
    "start_time": "2022-11-16T18:51:22.796Z"
   },
   {
    "duration": 218,
    "start_time": "2022-11-16T18:51:23.382Z"
   },
   {
    "duration": 343,
    "start_time": "2022-11-16T18:51:23.602Z"
   },
   {
    "duration": 217,
    "start_time": "2022-11-16T18:51:23.947Z"
   },
   {
    "duration": 328,
    "start_time": "2022-11-16T18:51:24.167Z"
   },
   {
    "duration": 143,
    "start_time": "2022-11-16T18:51:24.497Z"
   },
   {
    "duration": 7,
    "start_time": "2022-11-16T18:51:24.642Z"
   },
   {
    "duration": 144,
    "start_time": "2022-11-16T18:51:24.651Z"
   },
   {
    "duration": 4,
    "start_time": "2022-11-16T18:51:24.798Z"
   },
   {
    "duration": 245,
    "start_time": "2022-11-16T18:51:24.804Z"
   },
   {
    "duration": 168,
    "start_time": "2022-11-16T18:51:25.051Z"
   },
   {
    "duration": 25,
    "start_time": "2022-11-16T18:51:25.221Z"
   },
   {
    "duration": 11,
    "start_time": "2022-11-16T18:51:25.248Z"
   },
   {
    "duration": 31,
    "start_time": "2022-11-16T18:51:25.260Z"
   },
   {
    "duration": 47,
    "start_time": "2022-11-16T18:51:25.292Z"
   },
   {
    "duration": 128,
    "start_time": "2022-11-16T18:58:28.680Z"
   },
   {
    "duration": 9,
    "start_time": "2022-11-16T18:58:36.375Z"
   },
   {
    "duration": 1130,
    "start_time": "2022-11-16T18:58:44.181Z"
   },
   {
    "duration": 24,
    "start_time": "2022-11-16T18:58:45.313Z"
   },
   {
    "duration": 12,
    "start_time": "2022-11-16T18:58:45.339Z"
   },
   {
    "duration": 13,
    "start_time": "2022-11-16T18:58:45.353Z"
   },
   {
    "duration": 8,
    "start_time": "2022-11-16T18:58:45.368Z"
   },
   {
    "duration": 13,
    "start_time": "2022-11-16T18:58:45.378Z"
   },
   {
    "duration": 10,
    "start_time": "2022-11-16T18:58:45.393Z"
   },
   {
    "duration": 67,
    "start_time": "2022-11-16T18:58:45.404Z"
   },
   {
    "duration": 14,
    "start_time": "2022-11-16T18:58:45.473Z"
   },
   {
    "duration": 21,
    "start_time": "2022-11-16T18:58:45.489Z"
   },
   {
    "duration": 33,
    "start_time": "2022-11-16T18:58:45.512Z"
   },
   {
    "duration": 23,
    "start_time": "2022-11-16T18:58:45.547Z"
   },
   {
    "duration": 36,
    "start_time": "2022-11-16T18:58:45.573Z"
   },
   {
    "duration": 22,
    "start_time": "2022-11-16T18:58:45.612Z"
   },
   {
    "duration": 27,
    "start_time": "2022-11-16T18:58:45.635Z"
   },
   {
    "duration": 19,
    "start_time": "2022-11-16T18:58:45.664Z"
   },
   {
    "duration": 25,
    "start_time": "2022-11-16T18:58:45.684Z"
   },
   {
    "duration": 29,
    "start_time": "2022-11-16T18:58:45.711Z"
   },
   {
    "duration": 33,
    "start_time": "2022-11-16T18:58:45.742Z"
   },
   {
    "duration": 617,
    "start_time": "2022-11-16T18:58:45.777Z"
   },
   {
    "duration": 236,
    "start_time": "2022-11-16T18:58:46.397Z"
   },
   {
    "duration": 305,
    "start_time": "2022-11-16T18:58:46.637Z"
   },
   {
    "duration": 217,
    "start_time": "2022-11-16T18:58:46.943Z"
   },
   {
    "duration": 339,
    "start_time": "2022-11-16T18:58:47.162Z"
   },
   {
    "duration": 144,
    "start_time": "2022-11-16T18:58:47.503Z"
   },
   {
    "duration": 5,
    "start_time": "2022-11-16T18:58:47.649Z"
   },
   {
    "duration": 143,
    "start_time": "2022-11-16T18:58:47.655Z"
   },
   {
    "duration": 5,
    "start_time": "2022-11-16T18:58:47.799Z"
   },
   {
    "duration": 245,
    "start_time": "2022-11-16T18:58:47.806Z"
   },
   {
    "duration": 168,
    "start_time": "2022-11-16T18:58:48.052Z"
   },
   {
    "duration": 25,
    "start_time": "2022-11-16T18:58:48.222Z"
   },
   {
    "duration": 25,
    "start_time": "2022-11-16T18:58:48.249Z"
   },
   {
    "duration": 42,
    "start_time": "2022-11-16T18:58:48.276Z"
   },
   {
    "duration": 21,
    "start_time": "2022-11-16T18:58:48.319Z"
   },
   {
    "duration": 17,
    "start_time": "2022-11-16T18:59:22.724Z"
   },
   {
    "duration": 204,
    "start_time": "2022-11-16T19:02:04.730Z"
   },
   {
    "duration": 409,
    "start_time": "2022-11-16T19:04:01.521Z"
   },
   {
    "duration": 233,
    "start_time": "2022-11-16T19:06:30.571Z"
   },
   {
    "duration": 330,
    "start_time": "2022-11-16T19:07:18.279Z"
   },
   {
    "duration": 179,
    "start_time": "2022-11-16T19:08:08.759Z"
   },
   {
    "duration": 152,
    "start_time": "2022-11-16T19:09:24.977Z"
   },
   {
    "duration": 145,
    "start_time": "2022-11-16T19:10:24.116Z"
   },
   {
    "duration": 49,
    "start_time": "2022-11-23T17:33:20.824Z"
   },
   {
    "duration": 1202,
    "start_time": "2022-11-23T17:33:38.947Z"
   },
   {
    "duration": 72,
    "start_time": "2022-11-23T17:33:40.151Z"
   },
   {
    "duration": 13,
    "start_time": "2022-11-23T17:33:40.225Z"
   },
   {
    "duration": 36,
    "start_time": "2022-11-23T17:33:40.241Z"
   },
   {
    "duration": 19,
    "start_time": "2022-11-23T17:33:40.279Z"
   },
   {
    "duration": 37,
    "start_time": "2022-11-23T17:33:40.300Z"
   },
   {
    "duration": 20,
    "start_time": "2022-11-23T17:33:40.340Z"
   },
   {
    "duration": 86,
    "start_time": "2022-11-23T17:33:40.362Z"
   },
   {
    "duration": 59,
    "start_time": "2022-11-23T17:33:40.450Z"
   },
   {
    "duration": 14,
    "start_time": "2022-11-23T17:33:40.511Z"
   },
   {
    "duration": 31,
    "start_time": "2022-11-23T17:33:40.526Z"
   },
   {
    "duration": 26,
    "start_time": "2022-11-23T17:33:40.559Z"
   },
   {
    "duration": 44,
    "start_time": "2022-11-23T17:33:40.586Z"
   },
   {
    "duration": 26,
    "start_time": "2022-11-23T17:33:40.632Z"
   },
   {
    "duration": 19,
    "start_time": "2022-11-23T17:33:40.660Z"
   },
   {
    "duration": 21,
    "start_time": "2022-11-23T17:33:40.681Z"
   },
   {
    "duration": 33,
    "start_time": "2022-11-23T17:33:40.704Z"
   },
   {
    "duration": 23,
    "start_time": "2022-11-23T17:33:40.739Z"
   },
   {
    "duration": 26,
    "start_time": "2022-11-23T17:33:40.764Z"
   },
   {
    "duration": 609,
    "start_time": "2022-11-23T17:33:40.792Z"
   },
   {
    "duration": 220,
    "start_time": "2022-11-23T17:33:41.402Z"
   },
   {
    "duration": 341,
    "start_time": "2022-11-23T17:33:41.624Z"
   },
   {
    "duration": 256,
    "start_time": "2022-11-23T17:33:41.967Z"
   },
   {
    "duration": 380,
    "start_time": "2022-11-23T17:33:42.225Z"
   },
   {
    "duration": 165,
    "start_time": "2022-11-23T17:33:42.607Z"
   },
   {
    "duration": 6,
    "start_time": "2022-11-23T17:33:42.774Z"
   },
   {
    "duration": 154,
    "start_time": "2022-11-23T17:33:42.781Z"
   },
   {
    "duration": 13,
    "start_time": "2022-11-23T17:33:42.939Z"
   },
   {
    "duration": 238,
    "start_time": "2022-11-23T17:33:42.953Z"
   },
   {
    "duration": 155,
    "start_time": "2022-11-23T17:33:43.193Z"
   },
   {
    "duration": 13,
    "start_time": "2022-11-23T17:33:43.351Z"
   },
   {
    "duration": 12,
    "start_time": "2022-11-23T17:33:43.366Z"
   },
   {
    "duration": 70,
    "start_time": "2022-11-23T17:33:43.380Z"
   },
   {
    "duration": 18,
    "start_time": "2022-11-23T17:33:43.452Z"
   },
   {
    "duration": 9,
    "start_time": "2022-11-23T17:34:16.944Z"
   },
   {
    "duration": 1174,
    "start_time": "2022-11-23T17:34:23.605Z"
   },
   {
    "duration": 28,
    "start_time": "2022-11-23T17:34:24.781Z"
   },
   {
    "duration": 12,
    "start_time": "2022-11-23T17:34:24.811Z"
   },
   {
    "duration": 16,
    "start_time": "2022-11-23T17:34:24.825Z"
   },
   {
    "duration": 11,
    "start_time": "2022-11-23T17:34:24.843Z"
   },
   {
    "duration": 23,
    "start_time": "2022-11-23T17:34:24.856Z"
   },
   {
    "duration": 14,
    "start_time": "2022-11-23T17:34:24.881Z"
   },
   {
    "duration": 41,
    "start_time": "2022-11-23T17:34:24.897Z"
   },
   {
    "duration": 17,
    "start_time": "2022-11-23T17:34:24.940Z"
   },
   {
    "duration": 16,
    "start_time": "2022-11-23T17:34:24.961Z"
   },
   {
    "duration": 15,
    "start_time": "2022-11-23T17:34:24.979Z"
   },
   {
    "duration": 16,
    "start_time": "2022-11-23T17:34:24.996Z"
   },
   {
    "duration": 14,
    "start_time": "2022-11-23T17:34:25.014Z"
   },
   {
    "duration": 23,
    "start_time": "2022-11-23T17:34:25.030Z"
   },
   {
    "duration": 9,
    "start_time": "2022-11-23T17:34:25.055Z"
   },
   {
    "duration": 7,
    "start_time": "2022-11-23T17:34:25.066Z"
   },
   {
    "duration": 7,
    "start_time": "2022-11-23T17:34:25.074Z"
   },
   {
    "duration": 13,
    "start_time": "2022-11-23T17:34:25.083Z"
   },
   {
    "duration": 52,
    "start_time": "2022-11-23T17:34:25.099Z"
   },
   {
    "duration": 605,
    "start_time": "2022-11-23T17:34:25.153Z"
   },
   {
    "duration": 226,
    "start_time": "2022-11-23T17:34:25.761Z"
   },
   {
    "duration": 311,
    "start_time": "2022-11-23T17:34:25.990Z"
   },
   {
    "duration": 235,
    "start_time": "2022-11-23T17:34:26.303Z"
   },
   {
    "duration": 360,
    "start_time": "2022-11-23T17:34:26.540Z"
   },
   {
    "duration": 163,
    "start_time": "2022-11-23T17:34:26.902Z"
   },
   {
    "duration": 5,
    "start_time": "2022-11-23T17:34:27.067Z"
   },
   {
    "duration": 148,
    "start_time": "2022-11-23T17:34:27.074Z"
   },
   {
    "duration": 6,
    "start_time": "2022-11-23T17:34:27.225Z"
   },
   {
    "duration": 241,
    "start_time": "2022-11-23T17:34:27.233Z"
   },
   {
    "duration": 182,
    "start_time": "2022-11-23T17:34:27.477Z"
   },
   {
    "duration": 14,
    "start_time": "2022-11-23T17:34:27.661Z"
   },
   {
    "duration": 13,
    "start_time": "2022-11-23T17:34:27.677Z"
   },
   {
    "duration": 69,
    "start_time": "2022-11-23T17:34:27.692Z"
   },
   {
    "duration": 20,
    "start_time": "2022-11-23T17:34:27.763Z"
   }
  ],
  "kernelspec": {
   "display_name": "Python 3 (ipykernel)",
   "language": "python",
   "name": "python3"
  },
  "language_info": {
   "codemirror_mode": {
    "name": "ipython",
    "version": 3
   },
   "file_extension": ".py",
   "mimetype": "text/x-python",
   "name": "python",
   "nbconvert_exporter": "python",
   "pygments_lexer": "ipython3",
   "version": "3.9.13"
  },
  "toc": {
   "base_numbering": 1,
   "nav_menu": {},
   "number_sections": true,
   "sideBar": true,
   "skip_h1_title": true,
   "title_cell": "Table of Contents",
   "title_sidebar": "Contents",
   "toc_cell": false,
   "toc_position": {},
   "toc_section_display": true,
   "toc_window_display": true
  }
 },
 "nbformat": 4,
 "nbformat_minor": 2
}
